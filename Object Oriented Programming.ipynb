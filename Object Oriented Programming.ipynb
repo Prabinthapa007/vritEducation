{
 "cells": [
  {
   "cell_type": "markdown",
   "id": "6b0b97af-4337-4cea-81ca-5de069ca1657",
   "metadata": {},
   "source": [
    "# Object Oriented Programming:"
   ]
  },
  {
   "cell_type": "markdown",
   "id": "0368e5de-26bc-4b4f-a5ee-08b4bb90db50",
   "metadata": {},
   "source": [
    "### Class and Objects"
   ]
  },
  {
   "cell_type": "raw",
   "id": "2fd8eb29-253d-408e-8e11-139a14e32eb4",
   "metadata": {},
   "source": [
    "A class is a blueprint or a template for creating objects which are instances of the class. Classes encapsulate data and the behavior that operates on that data."
   ]
  },
  {
   "cell_type": "code",
   "execution_count": 1,
   "id": "7dd14a18-a80e-4d41-bf95-7d2f4914eeaa",
   "metadata": {},
   "outputs": [],
   "source": [
    "class Dog:\n",
    "    def __init__(self, name, age):\n",
    "        self.name = name\n",
    "        self.age = age\n",
    "\n",
    "    def bark(self):\n",
    "        print(f\"{self.name} is barking.\")"
   ]
  },
  {
   "cell_type": "code",
   "execution_count": 6,
   "id": "49c6424a-d943-43dd-a4a2-05fd64603ebf",
   "metadata": {},
   "outputs": [
    {
     "name": "stdout",
     "output_type": "stream",
     "text": [
      "Liverpool is barking.\n",
      "None\n"
     ]
    }
   ],
   "source": [
    "my_dog = Dog(\"Liverpool\", 4)\n",
    "print(my_dog.bark())"
   ]
  },
  {
   "cell_type": "code",
   "execution_count": 3,
   "id": "e31131cf-566b-420b-950f-e3ee3b57d1e9",
   "metadata": {},
   "outputs": [
    {
     "name": "stdout",
     "output_type": "stream",
     "text": [
      "10\n",
      "5\n",
      "15\n"
     ]
    }
   ],
   "source": [
    "class Calculator:\n",
    "    def __init__(self, num1, num2):   #We donot take input inside function but we can take from out and assign it inside of function.\n",
    "        self.num1 = num1\n",
    "        self.num2 = num2\n",
    "\n",
    "    def add(self):\n",
    "        sum = self.num1 + self.num2\n",
    "        return sum\n",
    "\n",
    "virt_cal = Calculator(10, 5)\n",
    "print(virt_cal.num1)\n",
    "print(virt_cal.num2)\n",
    "print(virt_cal.add())\n",
    "\n"
   ]
  },
  {
   "cell_type": "markdown",
   "id": "5cdbe261-6c48-4d25-bd04-321140f53bd5",
   "metadata": {},
   "source": [
    "### Types of Attribute:"
   ]
  },
  {
   "cell_type": "markdown",
   "id": "6d1d926b-5ca9-40b9-b0df-c7e53c6df048",
   "metadata": {},
   "source": [
    "#### 1. Instance Attributes:\n",
    "These are the attributes that belong to instances of a class. They are defined within the constructor method __init__ and can be accessed using the self keyword like self.name and self.age in the above Dog class.. They are initialized when a new instance of the class is created."
   ]
  },
  {
   "cell_type": "markdown",
   "id": "bb7e3308-127d-46ae-8dc5-71479dd83c11",
   "metadata": {},
   "source": [
    "#### 2. Class Attributes:\n",
    "Class attributes are attributes that belong to the class itself. They are defined outside the constructor method __init__ and can be accessed using the class name. Class attributes are shared by all instances of the class like count attribute in the Person class below."
   ]
  },
  {
   "cell_type": "markdown",
   "id": "e9873d8a-758c-40f4-923f-e656bfd06f39",
   "metadata": {},
   "source": [
    "### Types of Methods:"
   ]
  },
  {
   "cell_type": "markdown",
   "id": "d1a98ead-b76e-402b-9587-597250817bcd",
   "metadata": {},
   "source": [
    "#### 1. Instance Method\n",
    "The most common type of method in Python. These are the methods that operate on an instance of a class and have access to the instance's attributes. Instance methods are defined within the class and are called on instances of the class like bark method of the Dog class above."
   ]
  },
  {
   "cell_type": "markdown",
   "id": "b38f99c8-b674-4aaf-ade5-e72e4d88f98d",
   "metadata": {},
   "source": [
    "#### 2. Class Method\n",
    "Class methods are methods that operate on the class itself rather than on instances of the class. They are defined using the @classmethod decorator and take the class itself as the first argument like get_count method of Person class below."
   ]
  },
  {
   "cell_type": "markdown",
   "id": "c02fb97b-5f59-4186-9b21-3601293a18f1",
   "metadata": {},
   "source": [
    "#### 3. Static Method\n",
    "Static methods are methods that do not operate on the instance or the class, but are related to the class in some way. They are defined using the @staticmethod decorator and do not take the instance or the class as arguments like get_full_name in Person class below."
   ]
  },
  {
   "cell_type": "code",
   "execution_count": 7,
   "id": "e438104f-d423-4048-84ce-ace4a946c740",
   "metadata": {},
   "outputs": [],
   "source": [
    "#EXAMPLES OF ALL METHOD:"
   ]
  },
  {
   "cell_type": "code",
   "execution_count": 8,
   "id": "135db1eb-a079-4033-8fa3-e6c36b5c3b76",
   "metadata": {},
   "outputs": [],
   "source": [
    "class Person:\n",
    "    count = 0 #class method\n",
    "\n",
    "    def __init__(self, name):\n",
    "        self.name = name\n",
    "        Person.count +=1\n",
    "\n",
    "    def update_name(self, new_name):\n",
    "        self.name = str(new_name)\n",
    "\n",
    "    @classmethod\n",
    "    def get_count(cls):\n",
    "        return cls.count\n",
    "\n",
    "    @staticmethod\n",
    "    def get_full_name(firstname, secondname):\n",
    "        return f\"{firstname} {secondname}\"\n",
    "    "
   ]
  },
  {
   "cell_type": "code",
   "execution_count": 9,
   "id": "01073187-49d9-4258-87ac-3af6a0944c26",
   "metadata": {},
   "outputs": [
    {
     "name": "stdout",
     "output_type": "stream",
     "text": [
      "0\n"
     ]
    }
   ],
   "source": [
    "print(Person.get_count())"
   ]
  },
  {
   "cell_type": "code",
   "execution_count": 10,
   "id": "f4ea5359-5231-4946-a7a3-8413b193e306",
   "metadata": {},
   "outputs": [
    {
     "name": "stdout",
     "output_type": "stream",
     "text": [
      "Ram\n",
      "1\n"
     ]
    }
   ],
   "source": [
    "person1 = Person(\"Ram\")\n",
    "print(person1.name)\n",
    "print(person1.get_count())\n"
   ]
  },
  {
   "cell_type": "code",
   "execution_count": 11,
   "id": "22eb9f45-6e9f-4e61-bbcb-677b9c701e39",
   "metadata": {},
   "outputs": [
    {
     "name": "stdout",
     "output_type": "stream",
     "text": [
      "Hero\n",
      "2\n"
     ]
    }
   ],
   "source": [
    "person2 = Person(\"Hero\")\n",
    "print(person2.name)\n",
    "print(person2.get_count())"
   ]
  },
  {
   "cell_type": "markdown",
   "id": "fc1ececb-b09f-4efc-b0a6-92e2f7df1a3c",
   "metadata": {},
   "source": [
    "#### Question 1:"
   ]
  },
  {
   "cell_type": "raw",
   "id": "b314eddc-c655-4688-abd9-7a53bfad3c90",
   "metadata": {},
   "source": [
    "1. Create class Library\n",
    "2. constructor, student name and dept\n",
    "3. class attribute, total student count\n",
    "4. book lend, input book name, if he/she can lend it or not"
   ]
  },
  {
   "cell_type": "code",
   "execution_count": 12,
   "id": "a50e2ea1-674f-47b0-a4d0-476b582ba434",
   "metadata": {},
   "outputs": [],
   "source": [
    "books = [(\"The Alchemist\", 25),\n",
    "    (\"The Da Vinci Code\", 30),\n",
    "    (\"A Brief History of Time\", 15),\n",
    "    (\"Angels & Demons\", 0),\n",
    "    (\"The Grand Design\", 0),\n",
    "    (\"1984\", 19)\n",
    "]"
   ]
  },
  {
   "cell_type": "code",
   "execution_count": 29,
   "id": "f8f4b241-1573-491e-b6ee-9b7db1010e1a",
   "metadata": {},
   "outputs": [],
   "source": [
    "class Library:\n",
    "    count = 0\n",
    "    def __init__(self, name, dept= \"Management\"):\n",
    "        self.books = [(\"The Alchemist\", 25),\n",
    "    (\"The Da Vinci Code\", 30),\n",
    "    (\"A Brief History of Time\", 15),\n",
    "    (\"Angels & Demons\", 0),\n",
    "    (\"The Grand Design\", 0),\n",
    "    (\"1984\", 19)\n",
    "]\n",
    "        self.name = name\n",
    "        self.dept = dept\n",
    "        Library.count += 1\n",
    "\n",
    "    def can_barrow(self, book_name):\n",
    "        status = [book for name, quantity in self.books if (name == book_name) & (quantity>0)]\n",
    "        if status:\n",
    "            print(\"Yes\")\n",
    "        else:\n",
    "            print(\"No\")\n",
    "\n",
    "    @classmethod\n",
    "    def get_student_count(self):\n",
    "        return self.count\n"
   ]
  },
  {
   "cell_type": "code",
   "execution_count": 31,
   "id": "e34b379f-84e4-4c46-8eb5-af084995bd09",
   "metadata": {},
   "outputs": [],
   "source": [
    "std1 = Library(\"Vrit\")"
   ]
  },
  {
   "cell_type": "code",
   "execution_count": 32,
   "id": "d5ebd571-0654-4ebe-ae01-cac80eea5b58",
   "metadata": {},
   "outputs": [
    {
     "data": {
      "text/plain": [
       "1"
      ]
     },
     "execution_count": 32,
     "metadata": {},
     "output_type": "execute_result"
    }
   ],
   "source": [
    "std1.get_student_count()"
   ]
  },
  {
   "cell_type": "code",
   "execution_count": 33,
   "id": "8be4c136-bc75-4723-a882-fdd1d8f389f7",
   "metadata": {},
   "outputs": [
    {
     "name": "stdout",
     "output_type": "stream",
     "text": [
      "No\n"
     ]
    }
   ],
   "source": [
    "std1.can_barrow(\"The Grand Design\")"
   ]
  },
  {
   "cell_type": "markdown",
   "id": "f4a59988-5b58-4003-a279-1d2b92d782c8",
   "metadata": {},
   "source": [
    "# Method Overloading in Python"
   ]
  },
  {
   "cell_type": "raw",
   "id": "6cfbfb38-6a50-46ac-95b5-255458d2b845",
   "metadata": {},
   "source": [
    "Method overloading is a concept in object-oriented programming where a class can have multiple methods with the same name, but with different parameters or argument types. In Python, method overloading is not supported in the same way as it is in other object-oriented programming languages such as Java or C++. However, there are some ways to achieve similar functionality in Python.\n",
    "\n",
    "One approach is to use default arguments in the method definition. For example, consider the following code:"
   ]
  },
  {
   "cell_type": "code",
   "execution_count": 13,
   "id": "5655debb-b941-4c93-b9ed-cfd2cd0575e6",
   "metadata": {},
   "outputs": [
    {
     "name": "stdout",
     "output_type": "stream",
     "text": [
      "45\n"
     ]
    }
   ],
   "source": [
    "class Example:\n",
    "    def add(self, a, b=None, c=None):\n",
    "        if b is not None and c is not None:\n",
    "            print(a + b+ c)\n",
    "        elif b is not None:\n",
    "            print(a + b)\n",
    "        else:\n",
    "            print(a)\n",
    "\n",
    "eg1 = Example()\n",
    "eg1.add(22, 23)"
   ]
  },
  {
   "cell_type": "markdown",
   "id": "851c9609-dc62-4310-8406-3c8738fd3caa",
   "metadata": {},
   "source": [
    "Here, the add method can take one, two, or three arguments. If only one argument is passed, it returns the value of that argument. If two arguments are passed, it returns the sum of those two arguments. And if three arguments are passed, it returns the sum of all three arguments.\n",
    "\n",
    "Another approach is to use variable-length arguments, which allow a method to take an arbitrary number of arguments. This can be achieved using the *args and **kwargs syntax. For example:"
   ]
  },
  {
   "cell_type": "code",
   "execution_count": 14,
   "id": "93e0e2db-2e9d-41d8-95bf-6aac2a1e5778",
   "metadata": {},
   "outputs": [
    {
     "data": {
      "text/plain": [
       "45"
      ]
     },
     "execution_count": 14,
     "metadata": {},
     "output_type": "execute_result"
    }
   ],
   "source": [
    "class Example:\n",
    "    def add(self, *args):\n",
    "        if len(args) == 1:\n",
    "            return args[1]\n",
    "        elif len(args) ==2:\n",
    "            return args[0] + args[1]\n",
    "        elif len(args) == 3:\n",
    "            return args[0] + args[1] + args[2]\n",
    "\n",
    "myeg1 = Example()\n",
    "myeg1.add(22, 23)"
   ]
  },
  {
   "cell_type": "raw",
   "id": "fddec535-f348-413a-a4e5-982fc8867847",
   "metadata": {},
   "source": [
    "In this example, the add method takes any number of arguments, and the behavior is determined by the length of the arguments tuple.\n",
    "\n",
    "While these approaches can achieve similar functionality to method overloading, it is important to note that they are not exactly the same, and may not be suitable in all situations. It is generally recommended to use descriptive method names that reflect the intended behavior, rather than relying on overloading."
   ]
  },
  {
   "cell_type": "markdown",
   "id": "db7c8a9c-e694-4c8f-b84a-73610b6b2b25",
   "metadata": {},
   "source": [
    "# Inheritance in Python"
   ]
  },
  {
   "cell_type": "markdown",
   "id": "a49288f3-ab8c-4d73-b5d5-f55020335e89",
   "metadata": {},
   "source": [
    "### 1. Single Inheritence:"
   ]
  },
  {
   "cell_type": "raw",
   "id": "37462409-1733-4199-8496-13ee48a57f58",
   "metadata": {},
   "source": [
    "Single inheritance is a mechanism in object-oriented programming where a class (child or derived class) inherits properties and methods from another class (parent or base class). The derived class inherits all the attributes of the base class, and it can also add its own attributes and methods.\n",
    "\n",
    "To create a single inheritance relationship in Python, you define the derived class and the base class, and then use the syntax class DerivedClassName(BaseClassName): to declare the derived class, with the base class specified in the parentheses."
   ]
  },
  {
   "cell_type": "code",
   "execution_count": 32,
   "id": "f92b3a22-6549-409c-8b6b-3c25b475b0da",
   "metadata": {},
   "outputs": [],
   "source": [
    "class Animal:\n",
    "    def __init__(self, name, age):\n",
    "        self.name = name\n",
    "        self.age = age\n",
    "\n",
    "    def intro(self):\n",
    "        return f\"My name is {self.name}.\"\n",
    "\n",
    "class Cat(Animal):\n",
    "    def __init__(self, name, age, color):\n",
    "        super().__init__(name, age)\n",
    "        self.color = color\n",
    "\n",
    "    def speak(self):\n",
    "        print(\"Meow\")\n",
    "\n",
    "my_cat = Cat(\"Sim\", 2, \"Red\")\n",
    "cat = Cat(\"Fluffy\", 22, \"Pink\")"
   ]
  },
  {
   "cell_type": "code",
   "execution_count": 33,
   "id": "8fa6320e-fad9-48dd-bd9d-45b082ee9ee1",
   "metadata": {},
   "outputs": [
    {
     "name": "stdout",
     "output_type": "stream",
     "text": [
      "Sim\n",
      "2\n",
      "Red\n",
      "Meow\n",
      "Fluffy\n"
     ]
    }
   ],
   "source": [
    "print(my_cat.name)\n",
    "print(my_cat.age)\n",
    "print(my_cat.color)\n",
    "my_cat.speak()\n",
    "print(cat.name)"
   ]
  },
  {
   "cell_type": "markdown",
   "id": "1a073657-b3e0-41e2-8143-b61678d377f5",
   "metadata": {},
   "source": [
    "### 2. Multiple Inheritance:"
   ]
  },
  {
   "cell_type": "raw",
   "id": "54cf912f-7094-491d-8c03-0b1bdc3d99d0",
   "metadata": {},
   "source": [
    "Multiple inheritance is a feature where a class can inherit attributes and methods from more than one base class. It allows a subclass to inherit from multiple parent classes simultaneously. The syntax for multiple inheritance in Python is as follows:\n",
    "\n",
    "class MyClass(Parent1, Parent2, ...):\n",
    "    pass\n",
    "In this example, MyClass inherits from Parent1, Parent2, and so on.\n",
    "\n",
    "When we call a method on an instance of MyClass, Python looks for the method in the following order:\n",
    "\n",
    "MyClass itself\n",
    "Parent1\n",
    "Parent2\n",
    "and so on\n",
    "This is called the method resolution order (MRO), and it is determined at runtime using a depth-first search algorithm.\n",
    "\n",
    "Multiple inheritance can be a powerful feature of Python, but it can also be complex and can lead to code that is difficult to understand and maintain. It is important to use it judiciously and to keep the design of your classes simple and clear."
   ]
  },
  {
   "cell_type": "code",
   "execution_count": 21,
   "id": "d3325fcb-1529-4719-8cea-4844bed84b2a",
   "metadata": {},
   "outputs": [
    {
     "name": "stdout",
     "output_type": "stream",
     "text": [
      "This is Parent 1 function.\n",
      "This is Parent 2 function.\n",
      "This is child fucntion.\n"
     ]
    }
   ],
   "source": [
    "class Parent1:\n",
    "    def func1(self):\n",
    "        print(\"This is Parent 1 function.\")\n",
    "\n",
    "class Parent2:\n",
    "    def func2(self):\n",
    "        print(\"This is Parent 2 function.\")\n",
    "\n",
    "class Child(Parent1, Parent2):\n",
    "    def func3(self):\n",
    "        print(\"This is child fucntion.\")\n",
    "\n",
    "object = Child()\n",
    "object.func1()\n",
    "object.func2()\n",
    "object.func3()"
   ]
  },
  {
   "cell_type": "markdown",
   "id": "abebcb45-8efe-451a-a4a1-fbfbe81e3606",
   "metadata": {},
   "source": [
    "### 3. Multi-level Inheritance:"
   ]
  },
  {
   "cell_type": "markdown",
   "id": "eb8e7caf-d9cb-4ce0-9e66-3b4c1bcd3d34",
   "metadata": {},
   "source": [
    "Multilevel inheritance refers to the inheritance of a derived class from a base class, where the base class itself is derived from another base class. This means that a subclass will inherit from a superclass that has already inherited from another class.\n",
    "\n",
    "For example, consider three classes: A, B, and C. Class A is the parent class, class B is derived from class A, and class C is derived from class B. In this case, class C will inherit all the properties and methods of both class B and class A."
   ]
  },
  {
   "cell_type": "code",
   "execution_count": 23,
   "id": "0df01c87-10bb-4ea6-a68f-c0ad22ee5258",
   "metadata": {},
   "outputs": [
    {
     "name": "stdout",
     "output_type": "stream",
     "text": [
      "This is method A from class A.\n",
      "This is method B from class B\n",
      "This is method C from class C\n"
     ]
    }
   ],
   "source": [
    "class A:\n",
    "    def calc_a(self):\n",
    "        print(\"This is method A from class A.\")\n",
    "\n",
    "class B(A):\n",
    "    def calc_b(self):\n",
    "        print(\"This is method B from class B\")\n",
    "\n",
    "class C(B):\n",
    "    def calc_c(self):\n",
    "        print(\"This is method C from class C\")\n",
    "\n",
    "status = C()\n",
    "status.calc_a()\n",
    "status.calc_b()\n",
    "status.calc_c()"
   ]
  },
  {
   "cell_type": "raw",
   "id": "12889356-98ab-4108-8bd7-a9a8365d9b23",
   "metadata": {},
   "source": [
    "In the above example, class C inherits from class B, which in turn inherits from class A. Therefore, class C has access to all the methods and properties of classes B and A. When an instance of class C is created, it can call the methods of all three classes."
   ]
  },
  {
   "cell_type": "markdown",
   "id": "523708a3-d27c-437f-a737-a610f2f46e22",
   "metadata": {},
   "source": [
    "### 4. Hierarchical Inheritance:"
   ]
  },
  {
   "cell_type": "raw",
   "id": "ca7081ba-2d02-4f95-b567-a54289f200fd",
   "metadata": {},
   "source": [
    "Hierarchical inheritance is a type of inheritance in which more than one derived class inherits from a single base or parent class. In other words, it is a relationship between classes in which one class serves as a superclass for multiple subclasses.\n",
    "\n",
    "In Python, the syntax for creating hierarchical inheritance is similar to that of single inheritance. To implement hierarchical inheritance, we simply define multiple subclasses that inherit from the same base class. Each of these subclasses can have their own unique attributes and methods, in addition to the ones inherited from the base class."
   ]
  },
  {
   "cell_type": "code",
   "execution_count": 39,
   "id": "be727b23-d042-42b8-88e4-8e4bd7eb3370",
   "metadata": {},
   "outputs": [
    {
     "name": "stdout",
     "output_type": "stream",
     "text": [
      "Meow\n",
      "Liverpool\n",
      "Roar\n",
      "Simba\n"
     ]
    }
   ],
   "source": [
    "class Animal:\n",
    "    def __init__(self, name):\n",
    "        self.name = name\n",
    "\n",
    "    def intro(self):\n",
    "        pass\n",
    "\n",
    "class Dog(Animal):\n",
    "    def speak(self):\n",
    "        return \"Woof\"\n",
    "\n",
    "class Cat(Animal):\n",
    "    def speak(self):\n",
    "        return \"Meow\"\n",
    "\n",
    "class Lion(Animal):\n",
    "    def speak(self):\n",
    "        return \"Roar\"\n",
    "\n",
    "cat = Cat(\"Flop\")\n",
    "dog = Dog(\"Liverpool\")\n",
    "lion = Lion(\"Simba\")\n",
    "print(cat.speak())\n",
    "print(dog.name)\n",
    "print(lion.speak())\n",
    "print(lion.name)"
   ]
  },
  {
   "cell_type": "markdown",
   "id": "c8f48a06-5527-44d5-8c18-84a0e6372768",
   "metadata": {},
   "source": [
    "### 5. Hybrid Inheritance:"
   ]
  },
  {
   "cell_type": "markdown",
   "id": "4959f281-73c2-4f6e-9b5f-ec59bddc5610",
   "metadata": {},
   "source": [
    "Hybrid inheritance is a combination of two or more types of inheritance from the above types."
   ]
  },
  {
   "cell_type": "code",
   "execution_count": 47,
   "id": "2f49d928-cb25-47d1-b9a5-1c707b85b7b3",
   "metadata": {},
   "outputs": [
    {
     "data": {
      "text/plain": [
       "'Wayne is speaking.'"
      ]
     },
     "execution_count": 47,
     "metadata": {},
     "output_type": "execute_result"
    }
   ],
   "source": [
    "class Animal:\n",
    "    def __init__(self, name):\n",
    "        self.name = name\n",
    "\n",
    "    def speak(self):\n",
    "        return f\"{self.name} is speaking.\"\n",
    "\n",
    "class Mammal(Animal):\n",
    "    def __init__(self, name):\n",
    "        super().__init__(name)\n",
    "\n",
    "    def feed_milk(self):\n",
    "        return f\"{self.name} is feeding milk.\"\n",
    "\n",
    "class Bird(Animal):\n",
    "    def __init__(self, name):\n",
    "        super().__init__(name)\n",
    "\n",
    "    def fly(self):\n",
    "        return f\"{self.name} is flying.\"\n",
    "\n",
    "class Bat(Mammal, Bird):\n",
    "    def __init__(self, name):\n",
    "        super().__init__(name)\n",
    "\n",
    "obj = Bat(\"Wayne\")\n",
    "obj.speak()"
   ]
  },
  {
   "cell_type": "markdown",
   "id": "10361a3b-1bb2-46a3-ad1e-a92bee40832f",
   "metadata": {},
   "source": [
    "In this example, we have four classes: Animal, Mammal, Bird, and Bat. Mammal and Bird inherit from Animal, forming a multiple inheritance hierarchy. Bat then inherits from both Mammal and Bird, forming a hybrid inheritance hierarchy. This means that Bat has access to all the methods and attributes of Animal, Mammal, and Bird. When we create an instance of Bat, we can call all the methods defined in the parent classes."
   ]
  },
  {
   "cell_type": "markdown",
   "id": "8f0debea-197b-4692-9624-7f92a45fad2f",
   "metadata": {},
   "source": [
    "## Method Overriding in Python:"
   ]
  },
  {
   "cell_type": "markdown",
   "id": "05775b2a-7cc1-452d-ab97-669db3492c69",
   "metadata": {},
   "source": [
    "Method overriding refers to the ability of a subclass to provide its own implementation of a method that is already defined in its parent class. When a method in a subclass has the same name and parameters as a method in its parent class, `the subclass` method will override the parent class method.\n",
    "\n",
    "To override a method in Python, the subclass method must have the same name and parameters as the parent class method. When an object of the subclass calls the method, it will use the implementation provided in the subclass, rather than the one in the superclass."
   ]
  },
  {
   "cell_type": "code",
   "execution_count": 1,
   "id": "420113aa-80bb-4a34-b765-959b2423f2fb",
   "metadata": {},
   "outputs": [],
   "source": [
    "class Animal:\n",
    "    def sound(self):\n",
    "        return \"Making some sound....\"\n",
    "\n",
    "class Dog(Animal):\n",
    "    def sound(self):\n",
    "        return \"Barking\"\n",
    "\n",
    "class Cat(Animal):\n",
    "    def sound(self):\n",
    "        return \"Meow\"\n",
    "        "
   ]
  },
  {
   "cell_type": "code",
   "execution_count": 3,
   "id": "6a165e46-9446-4d0d-afac-d312cb9ebeb1",
   "metadata": {},
   "outputs": [
    {
     "name": "stdout",
     "output_type": "stream",
     "text": [
      "Barking\n",
      "Meow\n",
      "Making some sound....\n"
     ]
    }
   ],
   "source": [
    "animal = Animal()\n",
    "dog =Dog()\n",
    "cat = Cat()\n",
    "print(dog.sound())\n",
    "print(cat.sound())\n",
    "print(animal.sound())"
   ]
  },
  {
   "cell_type": "markdown",
   "id": "17192cee-18db-4c3e-b36a-e7c729d25a7b",
   "metadata": {},
   "source": [
    "In this example, we define a superclass Animal with a method sound that prints a generic sound. We then define two subclasses(hierarchy inheritence), Dog and Cat, that override the sound method with their own implementation.\n",
    "\n",
    "#### The super() function can be used to call the overridden method in the parent class, so that the parental behaviour is not lost."
   ]
  },
  {
   "cell_type": "code",
   "execution_count": 52,
   "id": "66e85d7b-6136-4ceb-b7e6-34fc8500673b",
   "metadata": {},
   "outputs": [
    {
     "name": "stdout",
     "output_type": "stream",
     "text": [
      "Hello from Child.\n",
      "Hello from Parent.\n"
     ]
    }
   ],
   "source": [
    "class Parent:\n",
    "    def say_hello(self):\n",
    "        print(\"Hello from Parent.\")\n",
    "\n",
    "class Child(Parent):\n",
    "    def say_hello(self):\n",
    "        print(\"Hello from Child.\")\n",
    "        super().say_hello()  #calls the overridden method in the parent class\n",
    "\n",
    "obj = Child()\n",
    "obj.say_hello()"
   ]
  },
  {
   "cell_type": "markdown",
   "id": "f5ef723a-8386-456e-879d-6f5c8603dda3",
   "metadata": {},
   "source": [
    "In this example, Child is a subclass of Parent. The Child class overrides the say_hello() method of its parent class. When the say_hello() method is called on an object of the Child class, it will execute the overridden method in the Child class first, and then call the overridden method in the parent class using the super() function."
   ]
  },
  {
   "cell_type": "markdown",
   "id": "afce03c8-8905-4e9c-b47e-94ebbf57ff0f",
   "metadata": {},
   "source": [
    "## Encapsulation in Python"
   ]
  },
  {
   "cell_type": "markdown",
   "id": "53bb81b0-22d2-48ea-98c5-e7a3ad7fa1f0",
   "metadata": {},
   "source": [
    "<span style=\"Console\">Encapsulation refers to the practice of hiding the implementation details of a class from the outside world and exposing only the necessary interfaces for interacting with the class. This can be achieved through the use of <mark>access modifiers</mark> (such as private, protected, and public). Encapsulation helps to ensure data integrity, prevent unauthorized access and modification of data, and improve code maintainability.\n",
    "\n",
    "In object-oriented programming, <mark>access modifiers</mark> are used to define the scope or visibility of class members (attributes and methods) in a class. These access modifiers determine which members can be accessed and modified by the code outside the class. In Python, there is no strict implementation of access modifiers like in other object-oriented languages such as Java or C++. However, there are naming conventions that are used to indicate the scope of a class member.\n",
    "\n",
    "**- Private:** Private members are those that are intended to be used only within the class definition. In Python, private members are indicated by prefixing the attribute or method name with two underscores (__).\n",
    "\n",
    "**-  Protected:** Protected members are those that can be accessed within the class definition and its subclasses. In Python, protected members are indicated by prefixing the attribute or method name with a single underscore (_).\n",
    "\n",
    "**-  Public:** Public members are those that can be accessed by any code outside the class definition. In Python, public members do not have any special prefix or notation.</span>"
   ]
  },
  {
   "cell_type": "code",
   "execution_count": 57,
   "id": "7987fec9-1c14-4a9c-a431-762e148b1440",
   "metadata": {},
   "outputs": [
    {
     "name": "stdout",
     "output_type": "stream",
     "text": [
      "This is a public method.\n"
     ]
    },
    {
     "ename": "AttributeError",
     "evalue": "'Example' object has no attribute '__private_method'",
     "output_type": "error",
     "traceback": [
      "\u001b[1;31m---------------------------------------------------------------------------\u001b[0m",
      "\u001b[1;31mAttributeError\u001b[0m                            Traceback (most recent call last)",
      "Cell \u001b[1;32mIn[57], line 19\u001b[0m\n\u001b[0;32m     17\u001b[0m obj\u001b[38;5;241m.\u001b[39mpublic_method()\n\u001b[0;32m     18\u001b[0m obj\u001b[38;5;241m.\u001b[39m_protected_method()\n\u001b[1;32m---> 19\u001b[0m \u001b[43mobj\u001b[49m\u001b[38;5;241;43m.\u001b[39;49m\u001b[43m__private_method\u001b[49m()\n",
      "\u001b[1;31mAttributeError\u001b[0m: 'Example' object has no attribute '__private_method'"
     ]
    }
   ],
   "source": [
    "class Example:\n",
    "    def __init__(self):\n",
    "        self.public_var = 1\n",
    "        self._protected_var = 2\n",
    "        self.__private_var = 3\n",
    "\n",
    "    def public_method(self):\n",
    "        print(\"This is a public method.\")\n",
    "\n",
    "    def _protected_method(self):\n",
    "        return \"This is a protected method.\"\n",
    "\n",
    "    def __private_method(self):\n",
    "        return \"This is a private method.\"\n",
    "\n",
    "obj = Example()\n",
    "obj.public_method()\n",
    "obj._protected_method()\n",
    "obj.__private_method()"
   ]
  },
  {
   "cell_type": "markdown",
   "id": "a5c84dfc-5f97-4201-a38c-942b1d7fa2fb",
   "metadata": {},
   "source": [
    "In this example, public_var and public_method are public members that can be accessed from anywhere. _protected_var and _protected_method are protected members that can be accessed within the class and its subclasses. __private_var and __private_method are private members that can only be accessed within the class definition."
   ]
  },
  {
   "cell_type": "code",
   "execution_count": 59,
   "id": "e1b6965e-94db-4859-a0c8-615b713a7e9a",
   "metadata": {},
   "outputs": [
    {
     "name": "stdout",
     "output_type": "stream",
     "text": [
      "1\n",
      "2\n"
     ]
    },
    {
     "ename": "AttributeError",
     "evalue": "'Subclass' object has no attribute '_Subclass__private_var'",
     "output_type": "error",
     "traceback": [
      "\u001b[1;31m---------------------------------------------------------------------------\u001b[0m",
      "\u001b[1;31mAttributeError\u001b[0m                            Traceback (most recent call last)",
      "Cell \u001b[1;32mIn[59], line 17\u001b[0m\n\u001b[0;32m     15\u001b[0m sub\u001b[38;5;241m.\u001b[39mget_public_member()\n\u001b[0;32m     16\u001b[0m sub\u001b[38;5;241m.\u001b[39mget_protected_member()\n\u001b[1;32m---> 17\u001b[0m \u001b[43msub\u001b[49m\u001b[38;5;241;43m.\u001b[39;49m\u001b[43mget_private_member\u001b[49m\u001b[43m(\u001b[49m\u001b[43m)\u001b[49m\n",
      "Cell \u001b[1;32mIn[59], line 12\u001b[0m, in \u001b[0;36mSubclass.get_private_member\u001b[1;34m(self)\u001b[0m\n\u001b[0;32m     11\u001b[0m \u001b[38;5;28;01mdef\u001b[39;00m \u001b[38;5;21mget_private_member\u001b[39m(\u001b[38;5;28mself\u001b[39m):\n\u001b[1;32m---> 12\u001b[0m     \u001b[38;5;28mprint\u001b[39m(\u001b[38;5;28;43mself\u001b[39;49m\u001b[38;5;241;43m.\u001b[39;49m\u001b[43m__private_var\u001b[49m)\n",
      "\u001b[1;31mAttributeError\u001b[0m: 'Subclass' object has no attribute '_Subclass__private_var'"
     ]
    }
   ],
   "source": [
    "class Subclass(Example):\n",
    "    def __init__(self):\n",
    "        super().__init__()\n",
    "\n",
    "    def get_public_member(self):\n",
    "        print(self.public_var)\n",
    "\n",
    "    def get_protected_member(self):\n",
    "        print(self._protected_var)\n",
    "\n",
    "    def get_private_member(self):\n",
    "        print(self.__private_var)\n",
    "\n",
    "sub = Subclass()\n",
    "sub.get_public_member()\n",
    "sub.get_protected_member()\n",
    "sub.get_private_member()"
   ]
  },
  {
   "cell_type": "markdown",
   "id": "efab0c40-5649-4568-a5f0-63e868dd44c9",
   "metadata": {},
   "source": [
    "This was an example using subclass. Let's try to access all the members publicly."
   ]
  },
  {
   "cell_type": "markdown",
   "id": "e12e6560-4629-429f-aef2-6517cb2b1ba7",
   "metadata": {},
   "source": [
    "# Polymorphism in Python"
   ]
  },
  {
   "cell_type": "markdown",
   "id": "2bd3c0bf-4b5b-466b-abca-f2ddf6112c32",
   "metadata": {},
   "source": [
    "- Polymorphism is the ability of an object to take on many forms. We can define polymorphism as the ability of message to be displayed in more than one form.\n",
    "- A real life example of it can be a man who can be husband, father, employee.\n",
    "- Another good example is water. Water is a liquid at normal temperature, but it can be changed to solid when it frozen, or same water changes to a gas when it is heated at its boiling point.\n",
    "- Poly means Many and Morphism means Forms."
   ]
  },
  {
   "cell_type": "markdown",
   "id": "be3832de-4a77-4e2d-8aad-e5b4781651aa",
   "metadata": {},
   "source": [
    "Polymorphism is the ability of an object to take on different forms or have multiple behaviors depending on the context in which it is used. In Python, polymorphism can be implemented using four different techniques:\n",
    "\n",
    "- **Method Overloading:** A class can have multiple methods with the same name but different parameters, and the method to be called is determined based on the number and types of arguments passed during the function call.\n",
    "- **Method Overriding:** Method overriding occurs when a subclass defines a method with the same name and parameters as a method in its superclass. When this occurs, the method in the subclass overrides the method in the superclass, allowing the subclass to provide its own implementation of the method.\n",
    "- **Operator Overloading:** Python allows operators to be overloaded, so that they can be used with user-defined classes. For example, the \"+\" operator can be overloaded to perform concatenation on two string objects.\n",
    "- **Duck Typing:** In Python, an object's suitability for an operation is determined by its behavior (i.e., its methods and attributes) rather than its type. So, if two different objects have the same behavior, they can be used interchangeably."
   ]
  },
  {
   "cell_type": "markdown",
   "id": "f840f06f-70e7-4b68-bb28-7e4165cee96f",
   "metadata": {},
   "source": [
    "#### Duck Typing Example:"
   ]
  },
  {
   "cell_type": "code",
   "execution_count": 63,
   "id": "cc14f3e7-c3cb-46d5-9a84-a1feb6a29f89",
   "metadata": {},
   "outputs": [
    {
     "name": "stdout",
     "output_type": "stream",
     "text": [
      "Driving a car\n",
      "Riding a bike.\n"
     ]
    }
   ],
   "source": [
    "class Car:\n",
    "    def drive(self):\n",
    "        print(\"Driving a car\")\n",
    "\n",
    "class Bike:\n",
    "    def drive(self):\n",
    "        print(\"Riding a bike.\")\n",
    "\n",
    "def start_driving(vehicle):\n",
    "    vehicle.drive()\n",
    "\n",
    "car = Car()\n",
    "bike = Bike()\n",
    "start_driving(car)\n",
    "start_driving(bike)"
   ]
  },
  {
   "cell_type": "markdown",
   "id": "7920b1c7-60e8-4632-8747-c2be425541f8",
   "metadata": {},
   "source": [
    "In this example, we have defined two classes: Car and Bike. Both classes have a method called drive. We have defined a function called start_driving, which takes a parameter called vehicle. The start_driving function calls the drive method of the vehicle object. We create objects of the Car and Bike classes and pass them to the start_driving function. The drive method of the object is called based on its type. This is an example of duck typing, where the type of the object is not checked, but the presence of a specific method is checked."
   ]
  },
  {
   "cell_type": "markdown",
   "id": "47fcb0d1-e753-4ac8-9762-77abb4ea1e9a",
   "metadata": {},
   "source": [
    "#### Operator Overloading Example:"
   ]
  },
  {
   "cell_type": "code",
   "execution_count": 64,
   "id": "fb8a3d28-c4c8-4848-ad96-e1ad46163310",
   "metadata": {},
   "outputs": [
    {
     "name": "stdout",
     "output_type": "stream",
     "text": [
      "(4, 6)\n"
     ]
    }
   ],
   "source": [
    "class Point:\n",
    "    def __init__(self, x, y):\n",
    "        self.x = x\n",
    "        self.y = y\n",
    "\n",
    "    def __add__(self, other):\n",
    "        # Define addition for Point objects\n",
    "        return Point(self.x + other.x, self.y + other.y)\n",
    "\n",
    "    def __str__(self):\n",
    "        return f\"({self.x}, {self.y})\"\n",
    "\n",
    "# Create two Point objects\n",
    "point1 = Point(1, 2)\n",
    "point2 = Point(3, 4)\n",
    "\n",
    "# Use the + operator to add the points\n",
    "result = point1 + point2\n",
    "\n",
    "# Print the result\n",
    "print(result)  # Output: (4, 6)"
   ]
  },
  {
   "cell_type": "markdown",
   "id": "f57585bd-cee5-45b5-9d12-7fd88ac96a53",
   "metadata": {},
   "source": [
    "In this example, the Point class defines the <mark> _ _ add_ _</mark> method, which is called when the + operator is used with Point objects. The method takes another Point object as an argument and returns a new Point object with the sum of the x and y coordinates. This allows us to use the + operator to add Point objects, which is not normally possible with built-in types in Python."
   ]
  },
  {
   "cell_type": "code",
   "execution_count": 62,
   "id": "f5487ec9-6951-4730-a252-3867beb9053d",
   "metadata": {},
   "outputs": [
    {
     "name": "stdout",
     "output_type": "stream",
     "text": [
      "Woof!\n",
      "Meow!\n",
      "Moo!\n"
     ]
    }
   ],
   "source": [
    "class Animal:\n",
    "    def speak(self):\n",
    "        pass\n",
    "\n",
    "class Dog(Animal):\n",
    "    def speak(self):\n",
    "        return \"Woof!\"\n",
    "\n",
    "class Cat(Animal):\n",
    "    def speak(self):\n",
    "        return \"Meow!\"\n",
    "\n",
    "class Cow(Animal):\n",
    "    def speak(self):\n",
    "        return \"Moo!\"\n",
    "\n",
    "# Create instances of each class\n",
    "dog = Dog()\n",
    "cat = Cat()\n",
    "cow = Cow()\n",
    "\n",
    "# Polymorphism in action\n",
    "animals = [dog, cat, cow]\n",
    "for animal in animals:\n",
    "    print(animal.speak())"
   ]
  },
  {
   "cell_type": "markdown",
   "id": "e3989bb1-252d-4abd-9232-c9c67cc1e9e8",
   "metadata": {},
   "source": [
    "In this example, the Animal class defines a method speak() which is overridden by the Dog, Cat, and Cow classes with their own implementations. When we create instances of these classes and call the speak() method on each instance, we get different outputs based on the class of the object, demonstrating polymorphism."
   ]
  },
  {
   "cell_type": "markdown",
   "id": "703b7c7c-f587-4670-8755-4bfe81c4faaa",
   "metadata": {},
   "source": [
    "# Abstraction in Python"
   ]
  },
  {
   "cell_type": "markdown",
   "id": "5ae4a05d-a557-46df-9a6f-a7c0afeefd1a",
   "metadata": {},
   "source": [
    "- Abstraction allows us to hide unnecessary data from the user. This reduces program complexity efforts.\n",
    "- It displays only the necessary infirmation to the user and hides all the internal background details.\n",
    "- If we talk about data abstraction in programming language, the code implementation is hidden from the user and only the nesessary functionality is shown or provided to the user.\n",
    "- **Eg:** All are performing operations on the ATM machine like cash, withdrawal etc. But we can't know internal details about ATM\n"
   ]
  },
  {
   "cell_type": "markdown",
   "id": "0eb726bf-32ce-43f3-ad09-b21db6d598f7",
   "metadata": {},
   "source": [
    "Abstraction is the process of hiding complex implementation details and providing a simple interface for the users to interact with the system. In Python, abstraction can be achieved through the use of abstract classes and interfaces.\n",
    "\n",
    "An abstract class is a class that cannot be instantiated, but can be subclassed. It defines a set of abstract methods that must be implemented by its subclasses. These abstract methods define the interface of the class and are used to enforce a contract between the abstract class and its subclasses."
   ]
  },
  {
   "cell_type": "code",
   "execution_count": 71,
   "id": "089a9b9e-d308-4402-9b4c-65d94d982f03",
   "metadata": {},
   "outputs": [],
   "source": [
    "from abc import ABC, abstractmethod\n",
    "class Shape(ABC):\n",
    "    @abstractmethod\n",
    "    def area(self):\n",
    "        pass\n",
    "\n",
    "    @abstractmethod\n",
    "    def perimeter(self):\n",
    "        pass"
   ]
  },
  {
   "cell_type": "markdown",
   "id": "e63a05d2-c2c2-4b9d-b8ae-96cedfe21d6b",
   "metadata": {},
   "source": [
    "In this example, we define an abstract class called *Shape*. It has two abstract methods, ___area()___ and ___perimeter()___, which are used to define the interface of the class. Any subclass of Shape must implement these methods."
   ]
  },
  {
   "cell_type": "code",
   "execution_count": 73,
   "id": "3e371546-c7c0-41fc-92af-a4e6b1cffca5",
   "metadata": {},
   "outputs": [
    {
     "data": {
      "text/plain": [
       "528"
      ]
     },
     "execution_count": 73,
     "metadata": {},
     "output_type": "execute_result"
    }
   ],
   "source": [
    "class Rectangle(Shape):\n",
    "    def __init__(self, width, height):\n",
    "        self.width = width\n",
    "        self.height = height\n",
    "\n",
    "    def area(self):\n",
    "        return self.width * self.height\n",
    "\n",
    "    def perimeter(self):\n",
    "        return 2 * (self.width + self.height)\n",
    "\n",
    "obj = Rectangle(22, 24)\n",
    "obj.area()"
   ]
  },
  {
   "cell_type": "markdown",
   "id": "9892e004-3d76-4b2e-8e3b-58f2dcab6a34",
   "metadata": {},
   "source": [
    "In this example, we define a subclass of Shape called Rectangle. It implements the area() and perimeter() methods and provides its own implementation for calculating the area and perimeter of a rectangle.\n",
    "\n",
    "By defining abstract classes and methods, you can ensure that all subclasses of a class have the same interface and behavior, which makes your code more modular and easier to maintain, , while also hiding the implementation details that users don't need to know about."
   ]
  },
  {
   "cell_type": "markdown",
   "id": "cdf3b4b8-24b8-43f9-9fa2-047d324b2e77",
   "metadata": {},
   "source": [
    "# Magic Methods in Python"
   ]
  },
  {
   "cell_type": "raw",
   "id": "51a144a2-31a1-42aa-83bb-7a4592c0fb50",
   "metadata": {},
   "source": [
    "In Python, magic methods are special methods that start and end with double underscores (e.g., init), hence also known as dunder (double undersocres) methods. They are used to define various built-in operations and behaviors of objects in Python. Here are some of the most commonly used magic methods in Python:\n",
    "\n",
    "__init__: Initializes an object of a class when it is created\n",
    "__str__: Defines how an object is printed as a string\n",
    "__repr__: Defines the string representation of an object, which can be used to recreate the object\n",
    "__len__: Defines length of an object\n",
    "__call__: Calls objects of the class like a normal function"
   ]
  },
  {
   "cell_type": "code",
   "execution_count": 74,
   "id": "53da737f-9461-4406-ad3b-39879782e33e",
   "metadata": {},
   "outputs": [],
   "source": [
    "class Person:\n",
    "    def __init__(self, name, age):\n",
    "        self.name = name\n",
    "        self.age = age\n",
    "\n",
    "    def __str__(self):\n",
    "        return f\"{self.name} is {self.age} years old\"\n",
    "\n",
    "    def __repr__(self):\n",
    "        return f\"Person({self.name}, {self.age})\"\n",
    "\n",
    "    def __len__(self):\n",
    "        return self.age\n",
    "\n",
    "    def __call__(self):\n",
    "        return f\"{self.name} is being called\"\n",
    "\n",
    "person = Person(\"Alice\", 30)"
   ]
  },
  {
   "cell_type": "code",
   "execution_count": 75,
   "id": "f145f0e0-62a6-45a4-9b97-3712523acb6d",
   "metadata": {},
   "outputs": [
    {
     "name": "stdout",
     "output_type": "stream",
     "text": [
      "Alice is 30 years old\n"
     ]
    }
   ],
   "source": [
    "print(person)        # prints \"Alice is 30 years old\""
   ]
  },
  {
   "cell_type": "code",
   "execution_count": 76,
   "id": "f2fe3635-988e-4a1e-9892-37c1b171f633",
   "metadata": {},
   "outputs": [
    {
     "name": "stdout",
     "output_type": "stream",
     "text": [
      "Alice is 30 years old\n"
     ]
    }
   ],
   "source": [
    "print(str(person))   # also prints \"Alice is 30 years old\""
   ]
  },
  {
   "cell_type": "code",
   "execution_count": 77,
   "id": "48615085-c258-4e24-9880-2213f6cb21fc",
   "metadata": {},
   "outputs": [
    {
     "name": "stdout",
     "output_type": "stream",
     "text": [
      "Person(Alice, 30)\n"
     ]
    }
   ],
   "source": [
    "print(repr(person))  # prints \"Person('Alice', 30)\""
   ]
  },
  {
   "cell_type": "code",
   "execution_count": 78,
   "id": "a395a851-ae73-4883-b6f0-07ccd14e7e47",
   "metadata": {},
   "outputs": [
    {
     "name": "stdout",
     "output_type": "stream",
     "text": [
      "30\n"
     ]
    }
   ],
   "source": [
    "print(len(person))   # prints 30"
   ]
  },
  {
   "cell_type": "code",
   "execution_count": 80,
   "id": "93018829-bbb5-4b34-92dd-9c2f6acdf514",
   "metadata": {},
   "outputs": [
    {
     "name": "stdout",
     "output_type": "stream",
     "text": [
      "Alice is being called\n"
     ]
    }
   ],
   "source": [
    "print(person())      # prints \"Alice is being called\""
   ]
  },
  {
   "cell_type": "raw",
   "id": "fc394747-1e32-4608-a3ee-58e00fdf54d2",
   "metadata": {},
   "source": [
    "\n",
    "In this example, the __init__ method is used to initialize the name and age instance variables. The __str__ method returns a string representation of the object when it is printed, and the __repr__ method returns a string representation of the object that can be used to recreate the object. The __len__ method returns the age of the person, and the __call__ method returns a string indicating that the object is being called.\n",
    "\n",
    "__str__ and __repr methods seem similar. How do they serve different purposes?\n",
    "\n",
    "- str(obj) method is used to return a string representation of an object that is meant to be human-readable. It is generally used for printing the object, logging, and displaying information to the user.\n",
    "- repr(obj) method, on the other hand, is used to return a string representation of an object that is meant to be unambiguous and suitable for debugging. It should ideally return a string that can be used to recreate the object."
   ]
  },
  {
   "cell_type": "raw",
   "id": "809392b0-868e-4a95-93b9-c06e81170b0b",
   "metadata": {},
   "source": [
    "Operator overloading is the ability to redefine the built-in operators such as +, -, *, /, ==, >, <, and so on for custom classes. In Python, it is possible to define how these operators should work on objects of user-defined classes by implementing certain special methods called magic methods or dunder methods. There are several magic methods available with python that support operator overloading. Here's a list of some of the popular magic methods that support operator overloading with python:\n",
    "\n",
    "Operation\tImplementation\tExpression\n",
    "Addition\ta + b\ta.__add__(b)\n",
    "Subtraction\ta  - b\ta.__sub__(b)\n",
    "Multiplication\ta * b\ta.__mul__(b)\n",
    "Division\ta / b\ta.__truediv__(b)\n",
    "Floor Division\ta // b\ta.__floordiv__(b)\n",
    "Remainder (Modulo)\ta % b\ta.__mod__(b)\n",
    "Power\ta ** b\ta.__pow__(b)\n",
    "Equals To\ta == b\ta.__eq__(b)\n",
    "Less Than\ta < b\ta.__lt__(b)\n",
    "Greater Than\ta > b\ta.__gt__(b)\n",
    "Bitwise AND\ta & b\ta.__and__(b)\n",
    "Bitwise OR\ta \\| b\ta.__or__(b)\n",
    "Bitwise NOT\t~a\ta.__invert__()\n",
    "Bitwise XOR\ta ^ b\ta.__xor__(b)\n",
    "Bitwise Left Shift\ta << b\ta.__lshift__(b)\n",
    "Bitwise Right Shift\ta >> b\ta.__rshift__(b)"
   ]
  },
  {
   "cell_type": "code",
   "execution_count": null,
   "id": "86d4c435-b01a-4f6a-ad87-5dcfec0814f8",
   "metadata": {},
   "outputs": [],
   "source": []
  },
  {
   "cell_type": "code",
   "execution_count": null,
   "id": "e9fb471f-35e6-482a-8f7f-0ff76d30f82a",
   "metadata": {},
   "outputs": [],
   "source": []
  }
 ],
 "metadata": {
  "kernelspec": {
   "display_name": "Python 3 (ipykernel)",
   "language": "python",
   "name": "python3"
  },
  "language_info": {
   "codemirror_mode": {
    "name": "ipython",
    "version": 3
   },
   "file_extension": ".py",
   "mimetype": "text/x-python",
   "name": "python",
   "nbconvert_exporter": "python",
   "pygments_lexer": "ipython3",
   "version": "3.12.2"
  }
 },
 "nbformat": 4,
 "nbformat_minor": 5
}
