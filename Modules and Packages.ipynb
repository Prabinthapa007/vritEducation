{
 "cells": [
  {
   "cell_type": "markdown",
   "id": "723e2fac-810a-4418-a83c-6e92de354f37",
   "metadata": {},
   "source": [
    "# Modules and Packages"
   ]
  },
  {
   "cell_type": "markdown",
   "id": "a166555f-3531-4d75-b6b0-0db6671591e4",
   "metadata": {},
   "source": [
    "A module is a file containing Python definitions and statements, which can be used in other Python scripts. In Python Modules can be imported using the import statement followed by the module name. Once the module is imported, you can access its functions and variables using dot notation.\n",
    "\n",
    "A package is simply a way of organizing modules into directories and sub-directories, making it easier to manage large-scale Python projects."
   ]
  },
  {
   "cell_type": "markdown",
   "id": "c14d1c8c-107a-4187-975c-0a27e3307d24",
   "metadata": {},
   "source": [
    "# Python Date and Time Modules"
   ]
  },
  {
   "cell_type": "markdown",
   "id": "35f04ed5-fcc2-4305-8d4a-8ea82c2f6351",
   "metadata": {},
   "source": [
    "Python has several built-in modules for working with date and time. Some of the most commonly used modules are:\n",
    "\n",
    "- **datetime:** The datetime module provides classes for working with dates and times, including formatting and arithmetic operations.\n",
    "- **time:** The time module provides functions for working with time, including formatting and arithmetic operations.\n",
    "- **calendar:** The calendar module provides functions for working with calendars, including generating month and year calendars."
   ]
  },
  {
   "cell_type": "markdown",
   "id": "2e111f53-6b37-4d68-82db-f19ecd94a615",
   "metadata": {},
   "source": [
    "## 1. datetime"
   ]
  },
  {
   "cell_type": "markdown",
   "id": "2e5e63f9-ac11-4808-9638-9b050ab9d3df",
   "metadata": {},
   "source": [
    "The datetime module in Python is used to work with dates, times, and time intervals. It provides several classes for working with date and time, including date, time, datetime, timedelta, and tzinfo.\n",
    "- **datetime.date:** This class represents a date (year, month and day) in the Gegirian calendar. Dates can be created using the constructor date(year, month, day)\n",
    "-  **datetime.time:** This class represents a time (hour, minutes, second and microsecond). Times can be created using the constructor time(hour=0, minute=0, second=0, microsecond=0).\n",
    "-  **datetime.datetime:** This class represents a date and time. Datetimes can be created using the constructor datetime(year, month, day, hour=0, minute=0, second=0, microsecond=0).\r",
    "- **datetime.timedelta:**  This class represents a duration or the difference between two dates or times. Timedeltas can be created using the constructor timedelta(days=0, seconds=0, microseconds=0, milliseconds=0, minutes=0, hours=0, weeks=0).\n",
    "- **datetime.tzinfo:**  This is an abstract base class that can be used to define time zones."
   ]
  },
  {
   "cell_type": "code",
   "execution_count": 1,
   "id": "1bd8408f-312a-4897-911c-6f8902c8e954",
   "metadata": {},
   "outputs": [
    {
     "name": "stdout",
     "output_type": "stream",
     "text": [
      "2024-03-01\n"
     ]
    }
   ],
   "source": [
    "import datetime\n",
    "# Create a date object\n",
    "date = datetime.date(2024, 3, 1)\n",
    "print(date)"
   ]
  },
  {
   "cell_type": "code",
   "execution_count": 4,
   "id": "137579c2-1469-47c6-8f6e-d0328056c981",
   "metadata": {},
   "outputs": [
    {
     "name": "stdout",
     "output_type": "stream",
     "text": [
      "06:09:22\n"
     ]
    }
   ],
   "source": [
    "#Create a tine object\n",
    "time = datetime.time(6, 9, 22)\n",
    "print(time)"
   ]
  },
  {
   "cell_type": "code",
   "execution_count": 5,
   "id": "8ea3913e-f4b7-407a-b47a-a276d972483a",
   "metadata": {},
   "outputs": [
    {
     "name": "stdout",
     "output_type": "stream",
     "text": [
      "2022-12-18 11:11:11\n"
     ]
    }
   ],
   "source": [
    "#Create a datewithtime object\n",
    "date_with_time = datetime.datetime(2022, 12, 18, 11, 11, 11)\n",
    "print(date_with_time)"
   ]
  },
  {
   "cell_type": "code",
   "execution_count": 6,
   "id": "741ac384-9d07-4c7a-89c6-010f5b23b4e1",
   "metadata": {},
   "outputs": [
    {
     "name": "stdout",
     "output_type": "stream",
     "text": [
      "4 days, 3:22:00\n"
     ]
    }
   ],
   "source": [
    "#Create a timedelta object\n",
    "timedelta = datetime.timedelta(days=4, hours=3, minutes=22)\n",
    "print(timedelta)"
   ]
  },
  {
   "cell_type": "code",
   "execution_count": 7,
   "id": "f2b17b87-9fac-43ad-a9eb-a50b66409448",
   "metadata": {},
   "outputs": [
    {
     "name": "stdout",
     "output_type": "stream",
     "text": [
      "2022-12-22 14:33:11\n"
     ]
    }
   ],
   "source": [
    "# Add a timedelta to a datetime\n",
    "new_dt = timedelta + date_with_time\n",
    "print(new_dt)"
   ]
  },
  {
   "cell_type": "code",
   "execution_count": 12,
   "id": "52b8dd72-6717-4b15-84fc-5497ba337080",
   "metadata": {},
   "outputs": [
    {
     "name": "stdout",
     "output_type": "stream",
     "text": [
      "3650 days, 0:00:00\n"
     ]
    }
   ],
   "source": [
    "from datetime import timedelta\n",
    "year = timedelta(days = 365)\n",
    "ten_year = year * 10\n",
    "print(ten_year)"
   ]
  },
  {
   "cell_type": "markdown",
   "id": "b787ef6b-0126-4e73-9140-3d1801031598",
   "metadata": {},
   "source": [
    "Each class of `datetime` module is associated with a number of methods. Here are some of the important methods of respective classes in the Python `datetime` module:"
   ]
  },
  {
   "cell_type": "raw",
   "id": "252eb8b7-6a4c-423c-b5fa-072b9056058f",
   "metadata": {},
   "source": [
    "**class datetime.date:**\r",
    "today(): Returns the current date.\n",
    "fromisoformat(date_string): Returns a date object corresponding to a date string in the format 'YYYY-MM-DD'.\n",
    "weekday(): Returns the day of the week as an integer, where Monday is 0 and Sunday is 6.\n",
    "strftime(format): Returns a string representing the date according to the format string specified.\n",
    "\n",
    "**class datetime.time:**\n",
    "hour: Returns the hour of the time as an integer, in the range 0 to 23.\n",
    "minute: Returns the minute of the time as an integer, in the range 0 to 59.\n",
    "second: Returns the second of the time as an integer, in the range 0 to 59.\n",
    "strftime(format): Returns a string representing the time according to the format string specified.r\n",
    "ing - **\n",
    "\n",
    "**class datetime.dtetime:**\r\n",
    "\r\n",
    "now([tz]): Returns the current date and time as a datetime object.\r\n",
    "fromtimestamp(timestamp[, tz]): Returns a datetime object corresponding to a POSIX timestamp.\r\n",
    "ctime(): Returns a string representing the datetime object in the format 'Day Month Date Time Year'.\r\n",
    "strftime(format): Returns a string representing the datetime object according to the formfied \n",
    "**speci\n",
    "\n",
    "f**ied.\r\n",
    "cla datet**me.time**delta:\r\n",
    "\r\n",
    "days: Returns the number of days in the timedelta object.\r\n",
    "seconds: Returns the number of seconds in the timedelta object.\r\n",
    "total_seconds(): Returns the total number of seconds in the timedelta object.\r\n",
    "__add__(other): Adds two timedel\n",
    "**ta objects together.\r\n",
    "**lass datetime.tzinfo:\r\n",
    "\r\n",
    "utcoffset(self, dt): returns the UTC offset for a given datetime object.\r\n",
    "dst(self, dt): returns the daylight saving time (DST) adjustment, if any, for a given datetime object.\r\n",
    "tzname(self, dt): returns the name of the time zone.\r\n",
    "fromutc(self, dt): converts a UTC time to the local time for the time zone.\r\n",
    "localize(self, dt, is_dst=None): attaches the time zone information to a naive datetime object.\r\n",
    "normalize(self, dt): adjusts the date and time for the time zone.tring specified."
   ]
  },
  {
   "cell_type": "code",
   "execution_count": 33,
   "id": "cdfb0314-d87f-4049-a115-596809dcb387",
   "metadata": {},
   "outputs": [
    {
     "name": "stdout",
     "output_type": "stream",
     "text": [
      "2024-02-27\n",
      "Year: 2024\n",
      "Month: 2\n",
      "Day: 27\n",
      "============================================================\n",
      "2019-12-04\n",
      "============================================================\n",
      "2021-01-04\n",
      "============================================================\n",
      "2024-02-27 19:27:49\n",
      "============================================================\n",
      "Hour: 19\n",
      "Minute: 27\n",
      "Second: 49\n",
      "============================================================\n",
      "Year: 2024\n",
      "Month: 2\n",
      "Day: 27\n",
      "Minute: 27\n",
      "Second: 49\n",
      "============================================================\n",
      "2023-02-14 07:27:33\n"
     ]
    }
   ],
   "source": [
    "#Create a (date) object for today\n",
    "today = datetime.date.today()\n",
    "print(today)\n",
    "#Print the year, month, and day attributes of the data object\n",
    "print(\"Year:\", today.year)\n",
    "print(\"Month:\", today.month)\n",
    "print(\"Day:\", today.day)\n",
    "print(\"==\"*30)\n",
    "\n",
    "#fromisoformat(date_string): Returns a date object corresponding to a date string in the format 'YYYY-MM-DD'.\n",
    "format1 = date.fromisoformat('20191204')\n",
    "print(format1)\n",
    "print(\"==\"*30)\n",
    "\n",
    "#weekday(): Returns the day of the week as an integer, where Monday is 0 and Sunday is 6.\n",
    "format2 = date.fromisoformat('2021-W01-1')\n",
    "print(format2)\n",
    "print(\"==\"*30)\n",
    "\n",
    "#strftime(format): Returns a string representing the date according to the format string specified.\n",
    "format3 = datetime.datetime.now().strftime(\"%Y-%m-%d %H:%M:%S\")\n",
    "print(format3)\n",
    "print(\"==\"*30)\n",
    "\n",
    "#Create a (time) object for the current time:\n",
    "now = datetime.datetime.now().time()\n",
    "\n",
    "#Print the hour, minute, and second attributes of the time object\n",
    "print(\"Hour:\", now.hour)\n",
    "print(\"Minute:\", now.minute)\n",
    "print(\"Second:\", now.second)\n",
    "print(\"==\"*30)\n",
    "\n",
    "#Create a datetime object for the current date and time.\n",
    "now_datetime = datetime.datetime.now()\n",
    "\n",
    "#Print the year, month, day, hour, minute, and second attributes of the datetime object\n",
    "print(\"Year:\", now_datetime.year)\n",
    "print(\"Month:\", now_datetime.month)\n",
    "print(\"Day:\", now_datetime.day)\n",
    "print(\"Minute:\", now_datetime.minute)\n",
    "print(\"Second:\", now_datetime.second)\n",
    "print(\"==\"*30)\n",
    "\n",
    "#Create a datetime object for a specific date and time\n",
    "specific_datetime = datetime.datetime(2023, 2, 14, 7, 27, 33)\n",
    "print(specific_datetime)"
   ]
  },
  {
   "cell_type": "markdown",
   "id": "2646e008-f4a9-4f06-a6f7-83c97fe6f839",
   "metadata": {},
   "source": [
    "`date.fromisoformat('2021-W01-1')` is parsing the string '2021-W01-1' which represents the first day (Monday) of the first week of the year 2021 in ISO week date format."
   ]
  },
  {
   "cell_type": "markdown",
   "id": "58c73f86-dbd9-4ce9-94bd-4bd0585b2f04",
   "metadata": {},
   "source": [
    "## 2. time"
   ]
  },
  {
   "cell_type": "raw",
   "id": "e47f888e-0b40-48ac-a3e7-15bbd894099d",
   "metadata": {},
   "source": [
    "The time module in Python provides various time-related functions. It includes both functions to get the current time and functions to sleep for a specified amount of time. Some of the commonly used functions of the time module are:\n",
    "\n",
    "time(): returns the current time in seconds since the Epoch (January 1, 1970, 00:00:00 UTC).\n",
    "sleep(): suspends the execution of the current thread for a given number of seconds.\n",
    "ctime(): returns a string representing the current time and date.\n",
    "gmtime(): returns the current time in Coordinated Universal Time (UTC).\n",
    "localtime(): returns the current time in local time.\n",
    "asctime(): returns a string representing the current time and date in a particular format."
   ]
  },
  {
   "cell_type": "code",
   "execution_count": 2,
   "id": "aac1244d-bc72-4178-b506-3a2f63a1de56",
   "metadata": {},
   "outputs": [
    {
     "name": "stdout",
     "output_type": "stream",
     "text": [
      "1709092679.264822\n",
      "==================================================\n",
      "Wed Feb 28 09:43:01 2024\n",
      "==================================================\n",
      "time.struct_time(tm_year=2024, tm_mon=2, tm_mday=28, tm_hour=3, tm_min=58, tm_sec=1, tm_wday=2, tm_yday=59, tm_isdst=0)\n",
      "==================================================\n",
      "time.struct_time(tm_year=2024, tm_mon=2, tm_mday=28, tm_hour=9, tm_min=43, tm_sec=1, tm_wday=2, tm_yday=59, tm_isdst=0)\n",
      "==================================================\n",
      "Wed Feb 28 09:43:01 2024\n"
     ]
    }
   ],
   "source": [
    "import time\n",
    "\n",
    "#time(): returns the current time in seconds since the Epoch (January 1, 1970, 00:00:00 UTC).\n",
    "#Get current time in second since the Epoch\n",
    "current_time = time.time()\n",
    "print(current_time)\n",
    "\n",
    "#sleep(): \n",
    "time.sleep(2)\n",
    "print(\"==\"*25)\n",
    "\n",
    "#ctime(): returns a string representing the current time and date.\n",
    "#Get current time in a string format\n",
    "current_time_str = time.ctime()\n",
    "print(current_time_str)\n",
    "print(\"==\"*25)\n",
    "\n",
    "#gmtime(): returns the current time in Coordinated Universal Time (UTC).\n",
    "#Get current time in UTC.\n",
    "current_time_utc = time.gmtime()\n",
    "print(current_time_utc)\n",
    "print(\"==\"*25)\n",
    "\n",
    "#localtime(): returns the current time in local time.\n",
    "#Get current time in local time\n",
    "current_time_local = time.localtime()\n",
    "print(current_time_local)\n",
    "print(\"==\"*25)\n",
    "\n",
    "#asctime(): returns a string representing the current time and date in a particular format.\n",
    "# Get current time as a string\n",
    "current_time_formatted = time.asctime(current_time_local)\n",
    "print(current_time_formatted)"
   ]
  },
  {
   "cell_type": "code",
   "execution_count": 39,
   "id": "34a29f10-68d1-4262-a7ad-28fd0463fc8c",
   "metadata": {},
   "outputs": [
    {
     "name": "stdout",
     "output_type": "stream",
     "text": [
      "Hello\n",
      "Hello Again\n",
      "0.5134012699127197\n"
     ]
    }
   ],
   "source": [
    "#Check the way to see how much time does it take to print the certain code.\n",
    "\n",
    "start = time.time()\n",
    "print(\"Hello\")\n",
    "time.sleep(0.5)\n",
    "\n",
    "print(\"Hello Again\")\n",
    "end = time.time()\n",
    "\n",
    "print(end-start)"
   ]
  },
  {
   "cell_type": "markdown",
   "id": "d461b03b-d6c6-4dab-95c1-93fa61b878c2",
   "metadata": {},
   "source": [
    "#### Find how much time does it required to calculate sum of range 1 to 1 million?"
   ]
  },
  {
   "cell_type": "code",
   "execution_count": 11,
   "id": "de7b5343-13ac-4f07-b52b-84e40dbb3c12",
   "metadata": {},
   "outputs": [
    {
     "name": "stdout",
     "output_type": "stream",
     "text": [
      "500000500000\n",
      "0.2625608444213867\n"
     ]
    }
   ],
   "source": [
    "start = time.time()\n",
    "sum = 0\n",
    "for i in range(1, 1000001):\n",
    "    sum += i\n",
    "print(sum)\n",
    "end = time.time()\n",
    "print(end-start)"
   ]
  },
  {
   "cell_type": "code",
   "execution_count": 16,
   "id": "3ecab856-0518-4740-bdfa-b49f3838f8cb",
   "metadata": {},
   "outputs": [
    {
     "ename": "TypeError",
     "evalue": "'range' object is not callable",
     "output_type": "error",
     "traceback": [
      "\u001b[1;31m---------------------------------------------------------------------------\u001b[0m",
      "\u001b[1;31mTypeError\u001b[0m                                 Traceback (most recent call last)",
      "Cell \u001b[1;32mIn[16], line 3\u001b[0m\n\u001b[0;32m      1\u001b[0m \u001b[38;5;66;03m#Alternatively:\u001b[39;00m\n\u001b[0;32m      2\u001b[0m start \u001b[38;5;241m=\u001b[39m time\u001b[38;5;241m.\u001b[39mtime()\n\u001b[1;32m----> 3\u001b[0m \u001b[38;5;28msum\u001b[39m \u001b[38;5;241m=\u001b[39m \u001b[38;5;28msum\u001b[39m(\u001b[38;5;28;43mlist\u001b[39;49m\u001b[43m(\u001b[49m\u001b[38;5;28;43mrange\u001b[39;49m\u001b[43m(\u001b[49m\u001b[38;5;241;43m1\u001b[39;49m\u001b[43m,\u001b[49m\u001b[43m \u001b[49m\u001b[38;5;241;43m1000000\u001b[39;49m\u001b[43m)\u001b[49m\u001b[43m)\u001b[49m)\n\u001b[0;32m      4\u001b[0m end \u001b[38;5;241m=\u001b[39m time\u001b[38;5;241m.\u001b[39mtime()\n\u001b[0;32m      5\u001b[0m end \u001b[38;5;241m-\u001b[39m start\n",
      "\u001b[1;31mTypeError\u001b[0m: 'range' object is not callable"
     ]
    }
   ],
   "source": [
    "#Alternatively:\n",
    "start = time.time()\n",
    "sum = sum(list(range(1, 1000000)))\n",
    "end = time.time()\n",
    "end - start\n"
   ]
  },
  {
   "cell_type": "code",
   "execution_count": 14,
   "id": "56a443cb-1f95-4fc6-8950-ffcf694de9a5",
   "metadata": {},
   "outputs": [
    {
     "data": {
      "text/plain": [
       "0.20228791236877441"
      ]
     },
     "execution_count": 14,
     "metadata": {},
     "output_type": "execute_result"
    }
   ],
   "source": [
    "from functools import reduce\n",
    "#Alternatively:\n",
    "start = time.time()\n",
    "list = range(1,1000001)\n",
    "result = reduce(lambda x, y: x + y, list)\n",
    "end = time.time()\n",
    "end- start"
   ]
  },
  {
   "cell_type": "markdown",
   "id": "036cb979-e26c-410b-9719-b263cb8e0bf0",
   "metadata": {},
   "source": [
    "## 3. calendar"
   ]
  },
  {
   "cell_type": "raw",
   "id": "3e286879-c3b1-48ff-a364-f7a15c7e3dfc",
   "metadata": {},
   "source": [
    "The calendar module in Python provides functions for working with calendars, including functions to print formatted calendars and determine various properties of the calendar such as leap years and weekdays. Some of the important functions in the calendar module are:\n",
    "\n",
    "\n",
    "calendar(year, w=2, l=1, c=6): Returns a formatted calendar for the given year as a multi-line string. The first argument is the year and the remaining arguments are optional and specify the width of the date columns (w), the number of lines per week (l), and the number of spaces between month columns (c).\n",
    "\n",
    "calendar.month(year, month[, w[, l]]): Returns a month’s calendar in a multi-line string format.\n",
    "\n",
    "calendar.monthcalendar(year, month): This function returns a matrix representing a month's calendar. Each row of the matrix represents a week and each column represents a day.\n",
    "\n",
    "isleap(year): Returns True if the given year is a leap year, otherwise False.\n",
    "\n",
    "leapdays(y1, y2): Returns the number of leap years between the years y1 and y2.\n",
    "\n",
    "monthrange(year, month): Returns a tuple containing the weekday of the first day of the month (0-6, where Monday is 0) and the number of days in the month for the given year and month.\n",
    "\n",
    "weekday(year, month, day): Returns the day of the week (0-6, where Monday is 0) for the given date.\n",
    "\n",
    "day_name: A list of weekday names, starting with Monday.\n",
    "\n",
    "month_name: A list of month names, starting with January."
   ]
  },
  {
   "cell_type": "code",
   "execution_count": 40,
   "id": "80c05c30-33ee-4285-985f-ebd91333077b",
   "metadata": {},
   "outputs": [
    {
     "name": "stdout",
     "output_type": "stream",
     "text": [
      "                                  2025\n",
      "\n",
      "      January                   February                   March\n",
      "Mo Tu We Th Fr Sa Su      Mo Tu We Th Fr Sa Su      Mo Tu We Th Fr Sa Su\n",
      "       1  2  3  4  5                      1  2                      1  2\n",
      " 6  7  8  9 10 11 12       3  4  5  6  7  8  9       3  4  5  6  7  8  9\n",
      "13 14 15 16 17 18 19      10 11 12 13 14 15 16      10 11 12 13 14 15 16\n",
      "20 21 22 23 24 25 26      17 18 19 20 21 22 23      17 18 19 20 21 22 23\n",
      "27 28 29 30 31            24 25 26 27 28            24 25 26 27 28 29 30\n",
      "                                                    31\n",
      "\n",
      "       April                      May                       June\n",
      "Mo Tu We Th Fr Sa Su      Mo Tu We Th Fr Sa Su      Mo Tu We Th Fr Sa Su\n",
      "    1  2  3  4  5  6                1  2  3  4                         1\n",
      " 7  8  9 10 11 12 13       5  6  7  8  9 10 11       2  3  4  5  6  7  8\n",
      "14 15 16 17 18 19 20      12 13 14 15 16 17 18       9 10 11 12 13 14 15\n",
      "21 22 23 24 25 26 27      19 20 21 22 23 24 25      16 17 18 19 20 21 22\n",
      "28 29 30                  26 27 28 29 30 31         23 24 25 26 27 28 29\n",
      "                                                    30\n",
      "\n",
      "        July                     August                  September\n",
      "Mo Tu We Th Fr Sa Su      Mo Tu We Th Fr Sa Su      Mo Tu We Th Fr Sa Su\n",
      "    1  2  3  4  5  6                   1  2  3       1  2  3  4  5  6  7\n",
      " 7  8  9 10 11 12 13       4  5  6  7  8  9 10       8  9 10 11 12 13 14\n",
      "14 15 16 17 18 19 20      11 12 13 14 15 16 17      15 16 17 18 19 20 21\n",
      "21 22 23 24 25 26 27      18 19 20 21 22 23 24      22 23 24 25 26 27 28\n",
      "28 29 30 31               25 26 27 28 29 30 31      29 30\n",
      "\n",
      "      October                   November                  December\n",
      "Mo Tu We Th Fr Sa Su      Mo Tu We Th Fr Sa Su      Mo Tu We Th Fr Sa Su\n",
      "       1  2  3  4  5                      1  2       1  2  3  4  5  6  7\n",
      " 6  7  8  9 10 11 12       3  4  5  6  7  8  9       8  9 10 11 12 13 14\n",
      "13 14 15 16 17 18 19      10 11 12 13 14 15 16      15 16 17 18 19 20 21\n",
      "20 21 22 23 24 25 26      17 18 19 20 21 22 23      22 23 24 25 26 27 28\n",
      "27 28 29 30 31            24 25 26 27 28 29 30      29 30 31\n",
      "\n"
     ]
    }
   ],
   "source": [
    "import calendar\n",
    "print(calendar.calendar(2025))"
   ]
  },
  {
   "cell_type": "code",
   "execution_count": 42,
   "id": "62d416b0-ac7d-4993-ae47-aed43eaffed9",
   "metadata": {},
   "outputs": [
    {
     "name": "stdout",
     "output_type": "stream",
     "text": [
      "     March 2024\n",
      "Mo Tu We Th Fr Sa Su\n",
      "             1  2  3\n",
      " 4  5  6  7  8  9 10\n",
      "11 12 13 14 15 16 17\n",
      "18 19 20 21 22 23 24\n",
      "25 26 27 28 29 30 31\n",
      "\n"
     ]
    }
   ],
   "source": [
    "print(calendar.month(2024, 3))"
   ]
  },
  {
   "cell_type": "code",
   "execution_count": 44,
   "id": "83e03852-f135-40d0-aa38-bcd0b2cee606",
   "metadata": {},
   "outputs": [
    {
     "name": "stdout",
     "output_type": "stream",
     "text": [
      "[[0, 0, 0, 0, 1, 2, 3], [4, 5, 6, 7, 8, 9, 10], [11, 12, 13, 14, 15, 16, 17], [18, 19, 20, 21, 22, 23, 24], [25, 26, 27, 28, 29, 30, 31]]\n"
     ]
    }
   ],
   "source": [
    "print(calendar.monthcalendar(2024, 3))"
   ]
  },
  {
   "cell_type": "code",
   "execution_count": 49,
   "id": "204661ab-c0e9-4fcb-873e-80efc7cc9456",
   "metadata": {},
   "outputs": [
    {
     "name": "stdout",
     "output_type": "stream",
     "text": [
      "(calendar.WEDNESDAY, 31)\n"
     ]
    }
   ],
   "source": [
    "print(calendar.monthrange(2014, 1))"
   ]
  },
  {
   "cell_type": "code",
   "execution_count": 48,
   "id": "4fb5ec35-1747-4a69-a42d-9cbc46a99418",
   "metadata": {},
   "outputs": [
    {
     "name": "stdout",
     "output_type": "stream",
     "text": [
      "4\n"
     ]
    }
   ],
   "source": [
    "print(calendar.weekday(2024, 3, 1))"
   ]
  },
  {
   "cell_type": "code",
   "execution_count": 50,
   "id": "08d494d1-1e86-4c78-aa29-44b1fd3a88f4",
   "metadata": {},
   "outputs": [
    {
     "data": {
      "text/plain": [
       "1970"
      ]
     },
     "execution_count": 50,
     "metadata": {},
     "output_type": "execute_result"
    }
   ],
   "source": [
    "calendar.EPOCH"
   ]
  },
  {
   "cell_type": "markdown",
   "id": "eddf93e0-a7a9-4163-b1d4-0b0194c74652",
   "metadata": {},
   "source": [
    "<br><br><br>"
   ]
  },
  {
   "cell_type": "markdown",
   "id": "2bf5a63f-6065-40b8-8694-c993d1e1d519",
   "metadata": {},
   "source": [
    "# Python os module"
   ]
  },
  {
   "cell_type": "markdown",
   "id": "4a75aa6f-82fb-4a09-ab41-c174cef10cab",
   "metadata": {},
   "source": [
    "The `os module` in Python provides a way of interacting with the operating system. It provides a way to access and manipulate files and directories, start and stop processes, get information about the system, and more."
   ]
  },
  {
   "cell_type": "markdown",
   "id": "5882cc49-1118-493e-b217-25b7730dbd62",
   "metadata": {},
   "source": [
    "### Working with Files and Directories"
   ]
  },
  {
   "cell_type": "markdown",
   "id": "5b8f8a17-4b25-4ecc-8ba4-62f39a29a966",
   "metadata": {},
   "source": [
    "Let's explore the `os` module and its various functions and methods that support working with files and directories\n",
    "- `os.getcwd()`: Get the current working directory\n",
    "- `os.mkdir('path')`: Create a new directory\n",
    "- `os.chdir('path')`: Change the current working directory\n",
    "- `os.listdir('path')`: List the contents of a directory\n",
    "- `os.rename('old_name', 'new_name')`: Rename a file or directory\n",
    "- `os.remove('file_to_delete')`: Remove a file\n",
    "- `os.rmdir('directory_to_delete')`: Remove a directory\n",
    "- `os.path.dirname('path')`: Returns the name of the directory containing pathname path\r",
    "- `\n",
    "os.path.exists('path'`): Checks if the path already exists, if so returns True"
   ]
  },
  {
   "cell_type": "markdown",
   "id": "9cdef7a2-0123-4657-b67f-58d08a18fce4",
   "metadata": {},
   "source": [
    "### Working with Processes"
   ]
  },
  {
   "cell_type": "markdown",
   "id": "fa7c49a9-946c-4951-93e8-ba9b9c8e96c5",
   "metadata": {},
   "source": [
    "The `os` module provides functions for working with processes. Here are some of the most commonly used functions:\n",
    "\n",
    "- `os.system('cmd')`: Start a new process. cmd refers to an os command.\n",
    "- `os.popen('cmd')`: Run a command. We use read() method along with it to read the output\n",
    "- `os.kill(process_id, signal_num)`: Terminate a process"
   ]
  },
  {
   "cell_type": "markdown",
   "id": "ab18ce45-4356-4333-93d0-3b4fd7967e84",
   "metadata": {},
   "source": [
    "### Working with Environment Variables:"
   ]
  },
  {
   "cell_type": "markdown",
   "id": "8d243d0f-267d-479c-a6f9-059ba9ba05cc",
   "metadata": {},
   "source": [
    "The `os` module provides functions for working with environment variables. Here are some of the most commonly used functions:\n",
    "\n",
    "- `os.getenv('var_name')`: Get the value of an Environment Variable\n",
    "- `os.putenv('var_name', 'var_value')`: Set the Value of an Environment Variable"
   ]
  },
  {
   "cell_type": "markdown",
   "id": "d37431a2-051e-48e6-be17-9baa8d41bc2d",
   "metadata": {},
   "source": [
    "<br><br><br>"
   ]
  },
  {
   "cell_type": "markdown",
   "id": "2f972069-654b-4c79-a5ff-4e17154b32a5",
   "metadata": {},
   "source": [
    "# Python Math Modules"
   ]
  },
  {
   "cell_type": "markdown",
   "id": "85c8e060-dc73-424f-9141-ae5a3498a5ed",
   "metadata": {},
   "source": [
    "The Python `math` module provides a set of mathematical functions for performing various mathematical operations. Here is a brief tutorial on some of the most commonly used functions and properties in the math module:"
   ]
  },
  {
   "cell_type": "markdown",
   "id": "7f43df18-10a3-44b2-8fbb-0b2a042028f2",
   "metadata": {},
   "source": [
    "### Airthmetic Function\n",
    "These are functions that performs basic arithmetic operations such as addition, subtraction, multiplication, and division.\n",
    "- `math.pow(x, y)`: Return the yth power of x\n",
    "- `math.sqrt(x)`: Returns the square root of x\n",
    "- `math.ceil(x)`: Returns the smallest integer greater than or equal to x\n",
    "- `math.floor(x)`: Returns the integer after rounding it down towards negative infinity\n",
    "- `math.trunc(x)`: Returns the integer part of x after rounding it down towards zero\n",
    "- `math.fabs(x)`: Return the absolute value of x"
   ]
  },
  {
   "cell_type": "code",
   "execution_count": 5,
   "id": "e4a7a0a6-ef2e-47e3-b474-79ec71dc61d6",
   "metadata": {},
   "outputs": [
    {
     "name": "stdout",
     "output_type": "stream",
     "text": [
      "16.0\n",
      "7.0\n",
      "45\n",
      "4\n",
      "-4\n",
      "77.0\n"
     ]
    }
   ],
   "source": [
    "import math\n",
    "print(math.pow(2, 4))\n",
    "print(math.sqrt(49))\n",
    "print(math.ceil(44.01))\n",
    "print(math.floor(4.99))\n",
    "print(math.trunc(-4.9))\n",
    "print(math.fabs(-77))\n"
   ]
  },
  {
   "cell_type": "markdown",
   "id": "4993226c-5193-4f26-aa42-9221784680ef",
   "metadata": {},
   "source": [
    "### Trignometry Function:"
   ]
  },
  {
   "cell_type": "markdown",
   "id": "a8bcd754-1fba-4218-afb7-a45f55123588",
   "metadata": {},
   "source": [
    "These are functions that deal with angles and their relationships to each other.\n",
    "- `math.sin(x)`: Return the sine of x (in radians)\n",
    "- `math.cos(x)`: Returns the consine of x (in radians)\n",
    "- `math.tan(x)`: Returns the tan of x (in radians)\n",
    "- `math.radians(x)`: Converts x from degrees to radians\n",
    "- `math.degrees(x)`: Converts x from randians to degree\n",
    "- `math.hypot(x,y)`: Returns the length of the hypotenuse of a right triangle with sides x and y "
   ]
  },
  {
   "cell_type": "code",
   "execution_count": 8,
   "id": "99e934b9-523e-4db0-b3cf-d06dffb97afb",
   "metadata": {},
   "outputs": [
    {
     "name": "stdout",
     "output_type": "stream",
     "text": [
      "1.0\n",
      "6.123233995736766e-17\n",
      "1.633123935319537e+16\n",
      "3.141592653589793\n",
      "90.0\n",
      "5.0\n"
     ]
    }
   ],
   "source": [
    "import math\n",
    "print(math.sin(math.pi/2))\n",
    "print(math.cos(math.pi/2))\n",
    "print(math.tan(math.pi/2))\n",
    "print(math.radians(180))\n",
    "print(math.degrees(math.pi/2))\n",
    "print(math.hypot(3, 4))"
   ]
  },
  {
   "cell_type": "markdown",
   "id": "233884a7-b275-4900-84b0-fe1a2bc86a27",
   "metadata": {},
   "source": [
    "### Exponential and Logarithm "
   ]
  },
  {
   "cell_type": "markdown",
   "id": "1a43cbca-144c-4475-b7f3-4353f96851db",
   "metadata": {},
   "source": [
    "These are functions that deal with the exponential growth and decay of values over time.\n",
    "\n",
    "- `math.exp(x)`: Returns the exponential of x\n",
    "- `math.log(x)`: Returns the natural logarithm of x\n",
    "- `math.log10(x)`: Returns the base 10 logarithm of x"
   ]
  },
  {
   "cell_type": "code",
   "execution_count": 11,
   "id": "109aa6a4-bdca-4b10-b0f0-fe2081a9a2c0",
   "metadata": {},
   "outputs": [
    {
     "name": "stdout",
     "output_type": "stream",
     "text": [
      "22026.465794806718\n",
      "1.3862943611198906\n",
      "1.0\n"
     ]
    },
    {
     "data": {
      "text/plain": [
       "'\\nThe base 10 logarithm denoted as `log10(x)`, is the logarithm to the base 10. So, `math.log10(10)` returns\\nthe base-10 logarithm of 10, which is exactly 1. This means that 10**1 =10\\n'"
      ]
     },
     "execution_count": 11,
     "metadata": {},
     "output_type": "execute_result"
    }
   ],
   "source": [
    "import math\n",
    "print(math.exp(10))\n",
    "'''\n",
    "It return the value of exponential function e**x at x = 10 where e is the base of the natural logarithm \n",
    "(approximately equal to 2.71828).\n",
    "'''\n",
    "\n",
    "print(math.log(4))\n",
    "'''\n",
    "It returns the natural logarithm of 4 \n",
    "'''\n",
    "\n",
    "print(math.log10(10))\n",
    "'''\n",
    "The base 10 logarithm denoted as `log10(x)`, is the logarithm to the base 10. So, `math.log10(10)` returns\n",
    "the base-10 logarithm of 10, which is exactly 1. This means that 10**1 =10\n",
    "'''"
   ]
  },
  {
   "cell_type": "markdown",
   "id": "55a00761-54cb-4f02-80ca-948d324e1c54",
   "metadata": {},
   "source": [
    "### Constants:"
   ]
  },
  {
   "cell_type": "markdown",
   "id": "b5dd365e-2a95-405d-8e3e-a3dbe05eeace",
   "metadata": {},
   "source": [
    "The math module also includes several mathematical constants that are popular among the mathematicians. You may be familiar with most of them.\n",
    "\n",
    "- `math.pi`: Returns the mathematical constant pi (3.141592...)\n",
    "- `math.e`: Returns the mathematical constant e (2.718281...)\n",
    "- `math.inf`: Returns a floating-point positive infinity value\n",
    "- `math.tau`: Returns the mathematical constant tau (2*pi)\n",
    "- `math.nan`: Returns a floating-point not-a-number (NaN) value"
   ]
  },
  {
   "cell_type": "code",
   "execution_count": 12,
   "id": "597a3b12-9a2a-4c67-81ab-df8dba837739",
   "metadata": {},
   "outputs": [
    {
     "name": "stdout",
     "output_type": "stream",
     "text": [
      "3.141592653589793\n",
      "2.718281828459045\n",
      "inf\n",
      "6.283185307179586\n",
      "nan\n"
     ]
    }
   ],
   "source": [
    "import math\n",
    "\n",
    "print(math.pi)\n",
    "print(math.e)\n",
    "print(math.inf)\n",
    "print(math.tau)\n",
    "print(math.nan)"
   ]
  },
  {
   "cell_type": "markdown",
   "id": "8c50b0e2-a806-41c2-b447-09c6bb026eec",
   "metadata": {},
   "source": [
    "### Special Functions:"
   ]
  },
  {
   "cell_type": "markdown",
   "id": "09fd4039-1ab7-4fe0-8929-d249605c9a69",
   "metadata": {},
   "source": [
    "These are functions that deal with special and more complex mathematical concepts.\n",
    "\n",
    "- `math.factorial(x)`: Returns the factorial of x (x!)\n",
    "- `math.comb(n, k)`: Returns the number of ways to choose k items from a set of n items. Formula:\n",
    "\\[\n",
    "P(n, k) = \\frac{n!}{k!(n-k)!}\n",
    "\\]\n",
    "- `math.isclose(a, b, rel_tol=1e-9, abs_tol=0.0)`: Returns True if the absolute difference between a and b is less than or equal to either the relative tolerance `rel_tol` or the absolute tolerance `abs_tol`\n",
    "- `math.isqrt(n)`: Returns the integer square root of n\n",
    "- `math.dist(p, q)`: Returns the Euclidean distance between two points p and q in n-dimensional space\n",
    "- `math.erf(x)`: Returns the error function of x\n",
    "- `math.gamma(x)`: Returns the gamma function of x\n",
    "- `math.perm(n, k)`: Returns the number of possible permutations of selecting k items from a group of n items without replacement and where the order of selection matters"
   ]
  },
  {
   "cell_type": "code",
   "execution_count": 14,
   "id": "ee38fd9f-ef93-44cc-8fac-64bde1a28fc9",
   "metadata": {},
   "outputs": [
    {
     "name": "stdout",
     "output_type": "stream",
     "text": [
      "120\n",
      "10\n",
      "True\n",
      "4\n",
      "5.196152422706632\n",
      "0.5204998778130465\n",
      "24.0\n",
      "120\n"
     ]
    }
   ],
   "source": [
    "import math\n",
    "print(math.factorial(5))\n",
    "print(math.comb(5, 2)) #its combination in mathmatical function formula:(no.of ways = n!/ k!(n-k)!\n",
    "print(math.isclose(0.1 + 0.2, 0.3))\n",
    "print(math.isqrt(16))\n",
    "p = (1, 2, 3)\n",
    "q = (4, 5, 6)\n",
    "print(math.dist(p, q))\n",
    "print(math.erf(0.5))\n",
    "print(math.gamma(5))\n",
    "print(math.perm(5, 5)) #its permutation in mathmatical operation"
   ]
  },
  {
   "cell_type": "markdown",
   "id": "852bf6b8-d11d-45a4-9e48-6ad8e74b2660",
   "metadata": {},
   "source": [
    "<br><br><br>"
   ]
  },
  {
   "cell_type": "markdown",
   "id": "0908f3ab-f43e-4258-b880-be4aa8625ced",
   "metadata": {},
   "source": [
    "# Python Random Module"
   ]
  },
  {
   "cell_type": "markdown",
   "id": "a2b4374f-a2f1-4904-9b4c-5c51b69e24a6",
   "metadata": {},
   "source": [
    "The Python `random` module provides several types of functions for generating pseudo-random numbers. The numbers are called `pseudo-random` because they are not truly random, but are generated using a deterministic algorithm that produces numbers that appear to be random. The algorithm used by the random module is based on a starting point called the `seed`, which determines the sequence of numbers generated. If you know the seed value and the algorithm used, you can predict the sequence of numbers that will be generated.\n",
    "\n",
    "Although the numbers generated by the `random` module are not truly random, they are good enough for most applications that require randomness, such as simulations, games, and statistical analysis. However, they should not be used for security-critical applications, such as cryptography, where true randomness is essential. In such cases, a hardware random number generator or a cryptographically secure pseudo-random number generator (CSPRNG) should be used instead."
   ]
  },
  {
   "cell_type": "markdown",
   "id": "a6bb59a3-1d37-4bdb-ab53-1d901701ee3c",
   "metadata": {},
   "source": [
    "## Uniform distribution functions"
   ]
  },
  {
   "cell_type": "markdown",
   "id": "f3448210-7eff-45a4-8c5b-0744aeb32f55",
   "metadata": {},
   "source": [
    "These functions generate random numbers that are uniformly distributed between two values.\n",
    "\n",
    "- `random.random()`: Returns a random float between 0 (inclusive) and 1 (exclusive)\n",
    "- `random.uniform(a, b)`: Returns a `random float` between a and b (both inclusive)\n",
    "- `random.randint(a, b)`: Returns a `random integer` between a and b (both inclusive)\n",
    "- `random.randrange(start, stop, step)`: Returns a randomly selected element from the range created by the arguments. If only one argument is supplied, `randrange()` returns a randomly selected element from the range [0, start). If two arguments are supplied, `randrange()` returns a randomly selected element from the range [start, stop). If three arguments are supplied, `randrange()` returns a randomly selected element from the range [start, stop, step)"
   ]
  },
  {
   "cell_type": "code",
   "execution_count": 18,
   "id": "29edc4cb-204c-4abc-8c96-d1ec04fd5b86",
   "metadata": {},
   "outputs": [
    {
     "name": "stdout",
     "output_type": "stream",
     "text": [
      "0.5549868484752402\n",
      "3.1186648566937363\n",
      "3\n",
      "3\n",
      "8\n",
      "7\n"
     ]
    }
   ],
   "source": [
    "import random\n",
    "\n",
    "print(random.random())\n",
    "print(random.uniform(1, 7))\n",
    "print(random.randint(-1, 5))\n",
    "print(random.randrange(5))\n",
    "print(random.randrange(2, 9))\n",
    "print(random.randrange(1, 9, 2))"
   ]
  },
  {
   "cell_type": "markdown",
   "id": "c56c7ad8-ddef-4300-8785-d2aed69caa11",
   "metadata": {},
   "source": [
    "## Sequence-related functions:"
   ]
  },
  {
   "cell_type": "markdown",
   "id": "2bdedfaa-2dc6-417e-b89a-fa530a7e4146",
   "metadata": {},
   "source": [
    "These functions are used to shuffle or sample from sequences.\n",
    "\n",
    "- `random.shuffle(seq, random)`: Does not return anything, but shuffles the original sequence in place. You can provide an optional random function to control the order of the shuffle\n",
    "- `random.sample(population, k)`: Returns a new list that contains k unique elements randomly chosen from the given population(list, tuple, or any other iterable)\n",
    "- `random.choice(seq)`: Returns a random element from the given sequence (list, tuple, or any other iterable)\n",
    "- `random.choices(population, weights=None, *, cum_weights=None, k=1)`: Returns a list of `k` elements randomly chosen from the population. You can provide optional `weights` or `cum_weights` arguments to specify the probability distribution of the elements"
   ]
  },
  {
   "cell_type": "code",
   "execution_count": 32,
   "id": "264eeca2-0ea3-40f9-b89e-fd31d1540541",
   "metadata": {},
   "outputs": [
    {
     "name": "stdout",
     "output_type": "stream",
     "text": [
      "['ten', 'nine', 'ace']\n",
      "nine\n",
      "['ten', 'jack', 'queen', 'nine', 'king', 'ace']\n",
      "['queen', 'ten']\n"
     ]
    }
   ],
   "source": [
    "import random\n",
    "cards = ['ace', 'king', 'queen', 'jack', 'ten', 'nine']\n",
    "\n",
    "print(random.sample(cards, k=3))\n",
    "print(random.choice(cards))\n",
    "\n",
    "random.shuffle(cards) #Shuffle a sequence in place\n",
    "print(cards)\n",
    "\n",
    "weight = [0.25, 0.6, 0.12, 0.1, 0.2, 0.14]\n",
    "print(random.choices(cards, weights=weight, cum_weights=None, k=2))"
   ]
  },
  {
   "cell_type": "markdown",
   "id": "c7a45238-8969-4a4d-8493-9207a383dd16",
   "metadata": {},
   "source": [
    "## Randomness-related functions:"
   ]
  },
  {
   "cell_type": "markdown",
   "id": "5f87251c-2961-4ab4-b5b3-9cb8632116ec",
   "metadata": {},
   "source": [
    "These functions are used to seed the random number generator or to generate random numbers using an external source of randomness.\n",
    "\n",
    "- `random.seed(a=None, version=2)`: Initializes the random number generator. If `a` is not specified or is `None`, the current system time is used as the seed. This function is useful if you want to generate reproducible random sequences.\n",
    "- `random.getstate()`: Returns an object capturing the current internal state of the random number generator as a tuple. This object can be passed to `setstate()` to restore the state. This can be used to capture and save the state of the generator.\n",
    "- `random.setstate(state)`: Used in conjugation with the `getstate()`. It is used to restore the state of the random number generator back to the specified state."
   ]
  },
  {
   "cell_type": "code",
   "execution_count": 35,
   "id": "1c8c8517-f02d-4b3c-904f-1f20090d4f77",
   "metadata": {},
   "outputs": [
    {
     "name": "stdout",
     "output_type": "stream",
     "text": [
      "3 7 3.5940929425854424\n",
      "3 7 3.5940929425854424\n"
     ]
    }
   ],
   "source": [
    "import random\n",
    "\n",
    "#Get the state of the randon number generator\n",
    "state = random.getstate()\n",
    "\n",
    "#Generate some random numbers\n",
    "a = random.randint(1, 10)\n",
    "b = random.randint(1, 10)\n",
    "c = random.uniform(1, 10)\n",
    "\n",
    "# Set the state of the random number generator to its previous state\n",
    "random.setstate(state)\n",
    "\n",
    "#Generate the same random number again with different variable name\n",
    "d = random.randint(1, 10)\n",
    "e = random.randint(1, 10)\n",
    "f = random.uniform(1, 10)\n",
    "\n",
    "#Check that the generate numbers are same or not\n",
    "print(a, b, c)\n",
    "print(d, e, f)"
   ]
  },
  {
   "cell_type": "markdown",
   "id": "cdbaf37d-73a6-4995-9414-81c1fc9051c0",
   "metadata": {},
   "source": [
    "## Distributions and probability density functions"
   ]
  },
  {
   "cell_type": "markdown",
   "id": "a9e6c1d6-3270-4293-841a-05c398665604",
   "metadata": {},
   "source": [
    "The random module provides several functions for generating random numbers from specific probability distributions, such as the normal distribution, the exponential distribution, the gamma distribution.\n",
    "\n",
    "- `random.triangular(low, high, mode)`: Generates random numbers from a triangular distribution\n",
    "- `random.gauss(mu, sigma)`: Generates a random float from a Gaussian distribution with mean `mu` and standard deviation `sigma`\n",
    "- `random.normalvariate(mean, stddev)`: Generates a random float from a normal (Gaussian) distribution with mean `mean` and standard deviation `stddev`\n",
    "- `random.expovariate(lambd)`: Generates a random float from an exponential distribution with rate parameter `lambd`\n",
    "- `random.gammavariate(alpha, beta)`: Generates random numbers from a gamma distribution\n",
    "- `random.betavariate(alpha, beta)`: Generates a random float from a beta distribution with parameters `alpha` and `beta`\n",
    "- `random.paretovariate(alpha)`: Generates a random float from a Pareto distribution with shape parameter `alpha`\n",
    "- `random.weibullvariate(alpha, beta)`: Generates a random float from a Weibull distribution with shape parameter `alpha` and scale parameter `beta`"
   ]
  },
  {
   "cell_type": "code",
   "execution_count": 38,
   "id": "d64f5cde-9746-4082-97b9-c159dc63a311",
   "metadata": {},
   "outputs": [
    {
     "name": "stdout",
     "output_type": "stream",
     "text": [
      "Triangular distribution: 20.72\n",
      "Gaussian distribution: 2.35\n",
      "Normal distribution: 1.75\n",
      "Exponential distribution: 2.28\n",
      "Gamma distribution: 0.10\n",
      "Beta distribution: 0.08\n",
      "Pareto distribution: 2.00\n",
      "Weibull distribution: 0.31\n"
     ]
    }
   ],
   "source": [
    "import random\n",
    "\n",
    "print(f'Triangular distribution: {random.triangular(0, 20, 23):.2f}')\n",
    "print(f'Gaussian distribution: {random.gauss(2, 1):.2f}')\n",
    "print(f'Normal distribution: {random.normalvariate(2, 1):.2f}')\n",
    "print(f'Exponential distribution: {random.expovariate(1):.2f}')\n",
    "print(f'Gamma distribution: {random.gammavariate(1, 1):.2f}')\n",
    "print(f'Beta distribution: {random.betavariate(1, 1):.2f}')\n",
    "print(f'Pareto distribution: {random.paretovariate(1):.2f}')\n",
    "print(f'Weibull distribution: {random.weibullvariate(1, 1):.2f}')"
   ]
  },
  {
   "cell_type": "markdown",
   "id": "4f13117f-ffb9-43ec-9e16-06e118d866b5",
   "metadata": {},
   "source": [
    "# Useful Modules in Python"
   ]
  },
  {
   "cell_type": "markdown",
   "id": "25a206c3-e5e7-4368-8fcd-b8aafa09ec04",
   "metadata": {},
   "source": [
    "## Permutations and Combinations"
   ]
  },
  {
   "cell_type": "markdown",
   "id": "6946f5d8-422d-4cac-a6c1-2112615c305c",
   "metadata": {},
   "source": [
    "\\[\n",
    "    nPk = \\frac{n!}{(n-k)!}\n",
    "\\]"
   ]
  },
  {
   "cell_type": "markdown",
   "id": "6d30bdea-819d-44dd-aa8c-f5d5dc38500e",
   "metadata": {},
   "source": [
    "\\[\n",
    "    nCr = \\frac{n!}{(n-k)*k!}\n",
    "\\]"
   ]
  },
  {
   "cell_type": "code",
   "execution_count": 50,
   "id": "ed9b0352-e098-4f1b-b12b-c461c6b725c9",
   "metadata": {},
   "outputs": [],
   "source": [
    "from itertools import permutations, combinations"
   ]
  },
  {
   "cell_type": "code",
   "execution_count": 51,
   "id": "ba33c3e6-d319-4bb1-b972-5b1a937b74aa",
   "metadata": {},
   "outputs": [],
   "source": [
    "names = [\"James\", \"Harry\", \"Manu\", \"Austin\"]"
   ]
  },
  {
   "cell_type": "code",
   "execution_count": 55,
   "id": "4b36235f-66d9-46f5-a4bc-52c8d9c0f5c0",
   "metadata": {},
   "outputs": [
    {
     "name": "stdout",
     "output_type": "stream",
     "text": [
      "<itertools.permutations object at 0x000001EF97FA9580>\n"
     ]
    }
   ],
   "source": [
    "permut_list = permutations(names, r=3)\n",
    "print(permut_list)"
   ]
  },
  {
   "cell_type": "code",
   "execution_count": 53,
   "id": "a6201210-b75e-40a5-9c68-475b4267b8c8",
   "metadata": {},
   "outputs": [
    {
     "ename": "TypeError",
     "evalue": "object of type 'itertools.permutations' has no len()",
     "output_type": "error",
     "traceback": [
      "\u001b[1;31m------------------------------------------------------------------------\u001b[0m",
      "\u001b[1;31mTypeError\u001b[0m                              Traceback (most recent call last)",
      "Cell \u001b[1;32mIn[53], line 1\u001b[0m\n\u001b[1;32m----> 1\u001b[0m \u001b[38;5;28;43mlen\u001b[39;49m\u001b[43m(\u001b[49m\u001b[43mpermut_list\u001b[49m\u001b[43m)\u001b[49m\n",
      "\u001b[1;31mTypeError\u001b[0m: object of type 'itertools.permutations' has no len()"
     ]
    }
   ],
   "source": [
    "len(permut_list)"
   ]
  },
  {
   "cell_type": "code",
   "execution_count": 54,
   "id": "db2b40d4-a21d-481c-b533-0abfc33c71f8",
   "metadata": {},
   "outputs": [
    {
     "data": {
      "text/plain": [
       "<itertools.permutations at 0x1ef981afec0>"
      ]
     },
     "execution_count": 54,
     "metadata": {},
     "output_type": "execute_result"
    }
   ],
   "source": [
    "permut_list"
   ]
  },
  {
   "cell_type": "markdown",
   "id": "6d919b5c-29f7-4869-9324-ca3b4ebbc186",
   "metadata": {},
   "source": [
    "## Packages in Python"
   ]
  },
  {
   "cell_type": "markdown",
   "id": "514185ab-941c-47b6-a761-0b15c8055a1c",
   "metadata": {},
   "source": [
    "Basic Syntax\n",
    "```markdown\n",
    "mypackage/\n",
    "    __init__.py\n",
    "    module1.py\n",
    "    module1.py\n",
    "```"
   ]
  },
  {
   "cell_type": "code",
   "execution_count": 3,
   "id": "24848793-be0c-4859-90af-a0f7854baf5b",
   "metadata": {},
   "outputs": [
    {
     "data": {
      "text/plain": [
       "10"
      ]
     },
     "execution_count": 3,
     "metadata": {},
     "output_type": "execute_result"
    }
   ],
   "source": [
    "import vritmath\n",
    "vritmath.add_two_numbers(4, 6)"
   ]
  },
  {
   "cell_type": "code",
   "execution_count": 1,
   "id": "b095aae9-3ae1-45f9-af09-eaa53ee76f79",
   "metadata": {},
   "outputs": [
    {
     "data": {
      "text/plain": [
       "24"
      ]
     },
     "execution_count": 1,
     "metadata": {},
     "output_type": "execute_result"
    }
   ],
   "source": [
    "from vritmath import mult\n",
    "mult(4, 6)"
   ]
  },
  {
   "cell_type": "code",
   "execution_count": null,
   "id": "6329eb67-760d-42ed-8145-256c7b36f5ca",
   "metadata": {},
   "outputs": [],
   "source": []
  }
 ],
 "metadata": {
  "kernelspec": {
   "display_name": "Python 3 (ipykernel)",
   "language": "python",
   "name": "python3"
  },
  "language_info": {
   "codemirror_mode": {
    "name": "ipython",
    "version": 3
   },
   "file_extension": ".py",
   "mimetype": "text/x-python",
   "name": "python",
   "nbconvert_exporter": "python",
   "pygments_lexer": "ipython3",
   "version": "3.12.2"
  }
 },
 "nbformat": 4,
 "nbformat_minor": 5
}
