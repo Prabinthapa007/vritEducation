{
 "cells": [
  {
   "cell_type": "markdown",
   "id": "e985c549-0c50-4b6c-8550-bf96a8a56c90",
   "metadata": {},
   "source": [
    "# Basic Exception Handling in Python"
   ]
  },
  {
   "cell_type": "markdown",
   "id": "455d709a-ecce-46c5-8665-d2e5e9184844",
   "metadata": {},
   "source": [
    "Exceptions are errors that occur during program execution. Besides exceptions, Python suffers from other types of errors as well. Let's go through a brief overview of those errors.\n",
    "\n",
    "- `Syntax errors`: These errors occur when the code is not written in the correct syntax or structure expected by Python. These errors are caught by the interpreter during the compilation of the code.\n",
    "- `Runtime errors`: These errors occur during the execution of the program, when the program is unable to execute a specific instruction or operation. These errors are also known as exceptions.\n",
    "- `Logical errors`: These errors occur when the program runs without any syntax or runtime errors, but the output is not what was expected. These errors are caused due to incorrect or incomplete logic in the program.\n",
    "\n",
    "Exceptions cause the program to stop abruptly, and it can be challenging to identify and fix the issue without proper error handling. To address these issues, Python has a built-in exception handling mechanism that allows you to catch, handle, and recover from exceptions."
   ]
  },
  {
   "cell_type": "markdown",
   "id": "0373a7df-afb8-4040-89fd-d6d4d53266db",
   "metadata": {},
   "source": [
    "## try and except"
   ]
  },
  {
   "cell_type": "markdown",
   "id": "b76225c9-8c1d-41f0-aa94-4e02192ca5a8",
   "metadata": {},
   "source": [
    "In Python, you can use a `try-except` block to catch exceptions which follows the following syntax:\n",
    "\n",
    "```markdown\n",
    "try:\n",
    "    # code that may raise an exception\n",
    "except ExceptionType:\n",
    "    # code to handle the exception\n",
    "```\n",
    "Here, the `try` block contains the code that may raise an exception. The `except` block contains the code to handle the exception if it is raised.\n",
    "\n",
    "In this example below, the `try` block takes input from the user and tries to convert it to an integer. If the input is not an integer, a `ValueError` exception is raised. The `except` block catches the ValueError exception and prints an error message. Trying giving both numbers and other data types as input."
   ]
  },
  {
   "cell_type": "markdown",
   "id": "60d8638d-eab8-4dad-b897-44b21f888f42",
   "metadata": {},
   "source": [
    "Basic Syntax\n",
    "```python\n",
    "try:\n",
    "    // try block\n",
    "except TypeError:\n",
    "    // error handle\n",
    "except DividebByZero:\n",
    "    // error handle\n",
    "\n",
    "```"
   ]
  },
  {
   "cell_type": "code",
   "execution_count": 2,
   "id": "9d9c8af2-3431-4089-b0f4-e020dd3fee63",
   "metadata": {},
   "outputs": [
    {
     "name": "stdin",
     "output_type": "stream",
     "text": [
      "Enter a number:  aa\n"
     ]
    },
    {
     "name": "stdout",
     "output_type": "stream",
     "text": [
      "Invalid Input, You should enter a number.\n"
     ]
    }
   ],
   "source": [
    "try:\n",
    "    num = int(input(\"Enter a number: \"))\n",
    "except ValueError:\n",
    "    print(\"Invalid Input, You should enter a number.\")"
   ]
  },
  {
   "cell_type": "code",
   "execution_count": 3,
   "id": "31f6414f-0149-40ad-aee1-edbf1315d8f8",
   "metadata": {},
   "outputs": [
    {
     "name": "stdin",
     "output_type": "stream",
     "text": [
      "Enter a number:  1.22\n"
     ]
    },
    {
     "ename": "ValueError",
     "evalue": "invalid literal for int() with base 10: '1.22'",
     "output_type": "error",
     "traceback": [
      "\u001b[1;31m------------------------------------------------------------------------\u001b[0m",
      "\u001b[1;31mValueError\u001b[0m                             Traceback (most recent call last)",
      "Cell \u001b[1;32mIn[3], line 2\u001b[0m\n\u001b[0;32m      1\u001b[0m \u001b[38;5;66;03m# This show what error will come if user provide value other than integers\u001b[39;00m\n\u001b[1;32m----> 2\u001b[0m num \u001b[38;5;241m=\u001b[39m \u001b[38;5;28;43mint\u001b[39;49m\u001b[43m(\u001b[49m\u001b[38;5;28;43minput\u001b[39;49m\u001b[43m(\u001b[49m\u001b[38;5;124;43m\"\u001b[39;49m\u001b[38;5;124;43mEnter a number: \u001b[39;49m\u001b[38;5;124;43m\"\u001b[39;49m\u001b[43m)\u001b[49m\u001b[43m)\u001b[49m\n\u001b[0;32m      3\u001b[0m \u001b[38;5;28mprint\u001b[39m(num)\n",
      "\u001b[1;31mValueError\u001b[0m: invalid literal for int() with base 10: '1.22'"
     ]
    }
   ],
   "source": [
    "# This show what error will come if user provide value other than integers\n",
    "num = int(input(\"Enter a number: \"))\n",
    "print(num)\n"
   ]
  },
  {
   "cell_type": "markdown",
   "id": "f1ee755e-370f-4940-bdf8-c51fc8ebf26b",
   "metadata": {},
   "source": [
    "## Catching Multiple Errors(try, except, except)"
   ]
  },
  {
   "cell_type": "markdown",
   "id": "1165b75f-7d78-412e-b8f0-da476d8e755c",
   "metadata": {},
   "source": [
    "Basic Syntax:\n",
    "```markdown\n",
    "try:\n",
    "    # code that may raise an exception\n",
    "except nameoferror:\n",
    "    # code to handle exception\n",
    "except nameoferror:\n",
    "    # code to handle exception\n",
    "```"
   ]
  },
  {
   "cell_type": "code",
   "execution_count": 2,
   "id": "778e1489-8516-438d-a597-3d83a50c81bc",
   "metadata": {},
   "outputs": [
    {
     "name": "stdin",
     "output_type": "stream",
     "text": [
      "Enter a number:  1\n",
      "Enter a number:  0\n"
     ]
    },
    {
     "name": "stdout",
     "output_type": "stream",
     "text": [
      "Cannot divide by zero\n",
      "0\n"
     ]
    }
   ],
   "source": [
    "try:\n",
    "    num1 = int(input(\"Enter a number: \"))\n",
    "    num2 = int(input(\"Enter a number: \"))\n",
    "    result = num1 / num2\n",
    "    print(result)\n",
    "except ValueError:\n",
    "    print(\"Invalid Inout\")\n",
    "except ZeroDivisionError:\n",
    "    print(\"Cannot divide by zero\")\n",
    "    print(0)\n"
   ]
  },
  {
   "cell_type": "markdown",
   "id": "00c0b4fa-5a62-46bb-ab19-5ff62457bff1",
   "metadata": {},
   "source": [
    "In this example, the `try` block takes input from the user and performs a division operation. If the input is not an integer or the division by zero is attempted, the corresponding `except` block is executed.\n",
    "\n",
    "You can also use a single `except` block to handle multiple types of exceptions."
   ]
  },
  {
   "cell_type": "code",
   "execution_count": 4,
   "id": "e902cc58-989e-4b3a-b314-a1de85b48fa5",
   "metadata": {},
   "outputs": [
    {
     "name": "stdout",
     "output_type": "stream",
     "text": [
      "Couldnot convert input into integer.\n"
     ]
    }
   ],
   "source": [
    "num_str = \"abc\"\n",
    "try:\n",
    "    num = int(num_str)\n",
    "    print(num)\n",
    "except (ValueError, TypeError):\n",
    "    print(\"Couldnot convert input into integer.\")"
   ]
  },
  {
   "cell_type": "markdown",
   "id": "bdd7f9a3-448c-42ec-b2a8-37fa472e55b4",
   "metadata": {},
   "source": [
    "In this example, if either a `ValueError` or `TypeError` exception is raised, the same except block will handle both exceptions.\n",
    "\n",
    "If you want to catch any type of exception, you can use the `Exception` class."
   ]
  },
  {
   "cell_type": "code",
   "execution_count": 5,
   "id": "c5640a1c-701b-45b3-835d-d87eb2197746",
   "metadata": {},
   "outputs": [
    {
     "name": "stdout",
     "output_type": "stream",
     "text": [
      "invalid literal for int() with base 10: 'abc'\n",
      "An exception occured.\n"
     ]
    }
   ],
   "source": [
    "num_str = \"abc\"\n",
    "try:\n",
    "    num = int(num_str)\n",
    "    print(num)\n",
    "except Exception as ex:\n",
    "    print(ex)\n",
    "    print(\"An exception occured.\")"
   ]
  },
  {
   "cell_type": "markdown",
   "id": "dae6c0ec-2d94-48e4-84c6-342a36e859d7",
   "metadata": {},
   "source": [
    "## The else block:"
   ]
  },
  {
   "cell_type": "markdown",
   "id": "61af3c18-ae0e-4dc1-917f-3da02eb19955",
   "metadata": {},
   "source": [
    "In addition to the `try` and `except` blocks, you can also include an `else` block. The `else` block is executed only if no exception is raised during the execution of the `try` block. This block is used to perform any actions that should be taken only when no exception occurs. For example, if the `try` block includes code that opens a file, the `else` block could be used to close the file."
   ]
  },
  {
   "cell_type": "code",
   "execution_count": 7,
   "id": "b2fff4fe-7ac4-4202-8f04-6f9cd21d18f4",
   "metadata": {},
   "outputs": [
    {
     "name": "stdin",
     "output_type": "stream",
     "text": [
      "Enter a number:  1\n",
      "Enter a number:  2\n"
     ]
    },
    {
     "name": "stdout",
     "output_type": "stream",
     "text": [
      "Result is 0.5\n"
     ]
    }
   ],
   "source": [
    "try:\n",
    "    num1 =int(input(\"Enter a number: \"))\n",
    "    num2 = int(input(\"Enter a number: \"))\n",
    "    result = num1/num2\n",
    "except ZeroDivideError:\n",
    "    print(\"Cannot divide by zero\")\n",
    "else:\n",
    "    print(\"Result is\", result)"
   ]
  },
  {
   "cell_type": "markdown",
   "id": "118b16b9-3bd1-46ff-a6a2-0393c09fb9db",
   "metadata": {},
   "source": [
    "## The finally block:"
   ]
  },
  {
   "cell_type": "markdown",
   "id": "8543f329-065c-49d3-8f7e-5259776e5ccf",
   "metadata": {},
   "source": [
    "The `finally` block is always executed, regardless of whether an exception occurred or not. It is optional and comes after the `else` block, if present. The `finally` block is typically used to release resources that were acquired in the `try` block, such as closing a file or a database connection."
   ]
  },
  {
   "cell_type": "code",
   "execution_count": 9,
   "id": "24e0738a-9e1c-488a-9259-4d01e4ab2d74",
   "metadata": {},
   "outputs": [
    {
     "name": "stdin",
     "output_type": "stream",
     "text": [
      "Enter a number:  2\n",
      "Enter a number:  2\n"
     ]
    },
    {
     "name": "stdout",
     "output_type": "stream",
     "text": [
      "1.0\n",
      "This block is always executed.\n"
     ]
    }
   ],
   "source": [
    "try:\n",
    "    num1 =int(input(\"Enter a number: \"))\n",
    "    num2 = int(input(\"Enter a number: \"))\n",
    "    result = num1/num2\n",
    "except ZeroDivideError:\n",
    "    print(\"Cannot divide by zero\")\n",
    "except Exception as ex:\n",
    "    print(\"Error Happened:\", ex)\n",
    "else:\n",
    "    print(result)\n",
    "finally:\n",
    "    print(\"This block is always executed.\")"
   ]
  },
  {
   "cell_type": "markdown",
   "id": "ffc990e4-f3cc-4771-9f99-a9b1a9e848de",
   "metadata": {},
   "source": [
    "## Nested Error Handling"
   ]
  },
  {
   "cell_type": "code",
   "execution_count": 12,
   "id": "ad730153-7916-455b-84f7-613ba91ecd3b",
   "metadata": {},
   "outputs": [
    {
     "name": "stdout",
     "output_type": "stream",
     "text": [
      "[3.3333333333333335, 3.75, 5.416666666666667, 5.0, 4.166666666666667]\n",
      "Thank you\n"
     ]
    }
   ],
   "source": [
    "def divide(x, y):\n",
    "    '''\n",
    "        This script will add 50 to the list and divide the individual value in the list by\n",
    "        3 and display the result\n",
    "    '''\n",
    "    try:\n",
    "        value = 50\n",
    "        x.append(value)\n",
    "    except AttributeError:\n",
    "        print(AttributrError)\n",
    "    else:\n",
    "        try:\n",
    "            result = [i/y for i in x]\n",
    "            print(result)\n",
    "        except ZeroDivisionError:\n",
    "            print(\"Please change 'y' argument to non-zero value.\")\n",
    "        finally:\n",
    "            print(\"Thank you\")\n",
    "\n",
    "x = [40,45,65,60]\n",
    "divide(x, 12)\n"
   ]
  },
  {
   "cell_type": "markdown",
   "id": "c70e8be9-1ba5-4c2e-991a-9a31d10d22b3",
   "metadata": {},
   "source": [
    "#### Write a Python function named `safe_list_get` that accepts a list and an index as arguments. The function should safely return the element at the specified index from the list. If the index is out of bounds, return `\"Error: Index out of bounds.\"`. And, if exception occur, return user a random number."
   ]
  },
  {
   "cell_type": "code",
   "execution_count": 15,
   "id": "4e4d4526-96f3-4e9c-9318-2fba9e256169",
   "metadata": {},
   "outputs": [
    {
     "name": "stdout",
     "output_type": "stream",
     "text": [
      "3\n",
      "None\n"
     ]
    }
   ],
   "source": [
    "import random\n",
    "def safe_list_get(lst, index):\n",
    "    try:\n",
    "        print(lst[index])\n",
    "    except IndexError:\n",
    "        print(\"Error: Index out of bounds.\")\n",
    "        return random.randint(0, 5)\n",
    "\n",
    "lst = [1, 2, 3, 4, 5]\n",
    "index = 2\n",
    "print(safe_list_get(lst, index))"
   ]
  },
  {
   "cell_type": "markdown",
   "id": "864490d7-fc84-4650-9c0f-29e7db7ab01e",
   "metadata": {},
   "source": [
    "<br><br><br>"
   ]
  },
  {
   "cell_type": "markdown",
   "id": "73cc3126-cdfe-452a-8bf7-d5029ad6eefc",
   "metadata": {},
   "source": [
    "# Python `raise` Statement"
   ]
  },
  {
   "cell_type": "markdown",
   "id": "90ef5dfb-d7ae-401c-82dc-421744ca3321",
   "metadata": {},
   "source": [
    "In Python, `raise` is a keyword used to raise an exception. It allows the programmer to manually raise an exception at any point in the program. The `raise` statement takes an exception type (a subclass of `Exception`) or an instance of an exception class, and an optional error message. The basic syntax for raising an exception is:\n",
    "\n",
    "```python\r\n",
    "raise ExceptionType(\"Exception message\")\r\n",
    "```\n",
    "Here, `ExceptionType` is the type of exception you want to raise, and \"Exception message\" is the message that will be displayed when the exception is raised."
   ]
  },
  {
   "cell_type": "markdown",
   "id": "86629c90-d68f-4931-9510-a2d815072d98",
   "metadata": {},
   "source": [
    "## Types of Exception in Python"
   ]
  },
  {
   "cell_type": "markdown",
   "id": "6bb9e93a-cf4d-4d0b-b5e6-08105711ad1c",
   "metadata": {},
   "source": [
    "### 1. Built- in Exceptions"
   ]
  },
  {
   "cell_type": "markdown",
   "id": "1c423b86-d19e-424a-abbf-be133d19cb9c",
   "metadata": {},
   "source": [
    "Python has several built-in exceptions. Each of these exceptions is raised when a specific error occurs in the program.\n",
    "\n",
    "- `SyntaxError`: Raised when there is a syntax error in the program\n",
    "- `TypeError`: Raised when an operation or function is applied to an object of inappropriate type\n",
    "- `ValueError`: Raised when an operation or function receives an argument of the correct type but with an inappropriate value\n",
    "- `IndexError`: Raised when trying to access an index that is out of range\n",
    "- `KeyError`: Raised when trying to access a key that does not exist in a dictionary\n",
    "- `AttributeError`: Raised when trying to access an attribute that does not exist in an object\n",
    "- `NameError`: Raised when a variable or name is not defined\n",
    "- `IOError`: Raised when there is an input/output error\n",
    "- `ImportError`: Raised when a module cannot be imported\n",
    "- `KeyboardInterrupt`: Raised when the user interrupts the execution of the program with a keyboard signal (Ctrl+C)\n"
   ]
  },
  {
   "cell_type": "markdown",
   "id": "1c2b8364-ea36-4b96-b1a4-1f79ac48c5ac",
   "metadata": {},
   "source": [
    "### 2. User- defined Exceptions:"
   ]
  },
  {
   "cell_type": "markdown",
   "id": "d5171e90-9f38-4626-8bfb-243c243fed82",
   "metadata": {},
   "source": [
    "In addition to built-in exceptions, Python allows you to define your own exceptions. User-defined exceptions are used to signal specific errors in the program that are not covered by built-in exceptions."
   ]
  },
  {
   "cell_type": "markdown",
   "id": "62cde7df-cbc4-438f-b38e-c2174cdf04b7",
   "metadata": {},
   "source": [
    "#### a. SyntaxError:\n",
    "Raised by the parser when a syntax error is encountered. This happens when you do not write proper python. `For e.g:`"
   ]
  },
  {
   "cell_type": "code",
   "execution_count": 1,
   "id": "ac721333-69dd-4142-b32f-99fa83ce844a",
   "metadata": {},
   "outputs": [
    {
     "ename": "SyntaxError",
     "evalue": "expected ':' (1078165685.py, line 1)",
     "output_type": "error",
     "traceback": [
      "\u001b[1;36m  Cell \u001b[1;32mIn[1], line 1\u001b[1;36m\u001b[0m\n\u001b[1;33m    class User\u001b[0m\n\u001b[1;37m              ^\u001b[0m\n\u001b[1;31mSyntaxError\u001b[0m\u001b[1;31m:\u001b[0m expected ':'\n"
     ]
    }
   ],
   "source": [
    "class User\n",
    "    def __init__(self, name):\n",
    "        self.name = name\n",
    "        self.password = password"
   ]
  },
  {
   "cell_type": "markdown",
   "id": "b62a614a-519f-4ce9-a217-5c89d36e0397",
   "metadata": {},
   "source": [
    "<br>"
   ]
  },
  {
   "cell_type": "markdown",
   "id": "8e2ca1ea-74b0-4d29-a904-3c9886cea2be",
   "metadata": {},
   "source": [
    "#### b. TypeError:\n",
    "Raised when a function or operation is applied to an object of an incorrect type."
   ]
  },
  {
   "cell_type": "code",
   "execution_count": 2,
   "id": "bf7cc628-3e6d-4022-b4a9-9ddaae084adc",
   "metadata": {},
   "outputs": [
    {
     "ename": "TypeError",
     "evalue": "unsupported operand type(s) for +: 'int' and 'str'",
     "output_type": "error",
     "traceback": [
      "\u001b[1;31m------------------------------------------------------------------------\u001b[0m",
      "\u001b[1;31mTypeError\u001b[0m                              Traceback (most recent call last)",
      "Cell \u001b[1;32mIn[2], line 1\u001b[0m\n\u001b[1;32m----> 1\u001b[0m \u001b[38;5;241;43m5\u001b[39;49m\u001b[43m \u001b[49m\u001b[38;5;241;43m+\u001b[39;49m\u001b[43m \u001b[49m\u001b[38;5;124;43m\"\u001b[39;49m\u001b[38;5;124;43mhi\u001b[39;49m\u001b[38;5;124;43m\"\u001b[39;49m\n",
      "\u001b[1;31mTypeError\u001b[0m: unsupported operand type(s) for +: 'int' and 'str'"
     ]
    }
   ],
   "source": [
    "5 + \"hi\""
   ]
  },
  {
   "cell_type": "markdown",
   "id": "8c1bab62-8eef-442a-91e5-2ab774b75b0c",
   "metadata": {},
   "source": [
    "<br>"
   ]
  },
  {
   "cell_type": "markdown",
   "id": "6b92216d-7581-4f17-b839-8a617524c93f",
   "metadata": {},
   "source": [
    "#### c. ValueError:\n",
    "Raised when a function gets an argument of correct type but improper value."
   ]
  },
  {
   "cell_type": "code",
   "execution_count": 8,
   "id": "2f4a29ce-3590-4d28-bc4a-d2419b6645cf",
   "metadata": {},
   "outputs": [
    {
     "name": "stdout",
     "output_type": "stream",
     "text": [
      "Error: Cannot divide by zero!\n"
     ]
    }
   ],
   "source": [
    "def divide(a,b):\n",
    "    if b == 0:\n",
    "        raise ValueError(\"Cannot divide by zero!\")\n",
    "    return a/b\n",
    "\n",
    "try:\n",
    "    result = divide(10,0)\n",
    "except ValueError as e:\n",
    "    print(\"Error:\", e)\n",
    "else:\n",
    "    print(\"Result:\", result)"
   ]
  },
  {
   "cell_type": "markdown",
   "id": "c7c7f3cd-e279-4bb2-905b-944d5b7130bb",
   "metadata": {},
   "source": [
    "<br>"
   ]
  },
  {
   "cell_type": "markdown",
   "id": "2f08797f-b539-4fa4-89d5-9343e8998c8e",
   "metadata": {},
   "source": [
    "#### d. IndexError:\n",
    "Raised when the index of a sequence is out of range."
   ]
  },
  {
   "cell_type": "code",
   "execution_count": 10,
   "id": "5c9b03c3-30ed-47b0-ba0e-757ed07028b2",
   "metadata": {},
   "outputs": [
    {
     "ename": "IndexError",
     "evalue": "list index out of range",
     "output_type": "error",
     "traceback": [
      "\u001b[1;31m------------------------------------------------------------------------\u001b[0m",
      "\u001b[1;31mIndexError\u001b[0m                             Traceback (most recent call last)",
      "Cell \u001b[1;32mIn[10], line 2\u001b[0m\n\u001b[0;32m      1\u001b[0m friends \u001b[38;5;241m=\u001b[39m [\u001b[38;5;124m\"\u001b[39m\u001b[38;5;124mRolf\u001b[39m\u001b[38;5;124m\"\u001b[39m, \u001b[38;5;124m\"\u001b[39m\u001b[38;5;124mAnne\u001b[39m\u001b[38;5;124m\"\u001b[39m]\n\u001b[1;32m----> 2\u001b[0m \u001b[43mfriends\u001b[49m\u001b[43m[\u001b[49m\u001b[38;5;241;43m2\u001b[39;49m\u001b[43m]\u001b[49m\n",
      "\u001b[1;31mIndexError\u001b[0m: list index out of range"
     ]
    }
   ],
   "source": [
    "friends = [\"Rolf\", \"Anne\"]\n",
    "friends[2]"
   ]
  },
  {
   "cell_type": "markdown",
   "id": "ab14dc8e-34c1-4a0c-a2c5-69a72e95ab61",
   "metadata": {},
   "source": [
    "<br>"
   ]
  },
  {
   "cell_type": "markdown",
   "id": "07524b2d-4f13-4e79-b96f-3495c59198ff",
   "metadata": {},
   "source": [
    "#### e. KeyError:\n",
    "Raise when key is not found in a dictionary."
   ]
  },
  {
   "cell_type": "code",
   "execution_count": 12,
   "id": "624edf8c-b369-4625-874e-50438ebda313",
   "metadata": {},
   "outputs": [
    {
     "ename": "KeyError",
     "evalue": "'status'",
     "output_type": "error",
     "traceback": [
      "\u001b[1;31m------------------------------------------------------------------------\u001b[0m",
      "\u001b[1;31mKeyError\u001b[0m                               Traceback (most recent call last)",
      "Cell \u001b[1;32mIn[12], line 2\u001b[0m\n\u001b[0;32m      1\u001b[0m friends \u001b[38;5;241m=\u001b[39m {\u001b[38;5;124m\"\u001b[39m\u001b[38;5;124mname\u001b[39m\u001b[38;5;124m\"\u001b[39m: \u001b[38;5;124m\"\u001b[39m\u001b[38;5;124mPrabin\u001b[39m\u001b[38;5;124m\"\u001b[39m, \u001b[38;5;124m\"\u001b[39m\u001b[38;5;124mage\u001b[39m\u001b[38;5;124m\"\u001b[39m: \u001b[38;5;241m25\u001b[39m}\n\u001b[1;32m----> 2\u001b[0m \u001b[38;5;28mprint\u001b[39m(\u001b[43mfriends\u001b[49m\u001b[43m[\u001b[49m\u001b[38;5;124;43m\"\u001b[39;49m\u001b[38;5;124;43mstatus\u001b[39;49m\u001b[38;5;124;43m\"\u001b[39;49m\u001b[43m]\u001b[49m)\n",
      "\u001b[1;31mKeyError\u001b[0m: 'status'"
     ]
    }
   ],
   "source": [
    "friends = {\"name\": \"Prabin\", \"age\": 25}\n",
    "print(friends[\"status\"])"
   ]
  },
  {
   "cell_type": "markdown",
   "id": "4996f300-27fb-4ec6-be5d-5ee5aeb504f9",
   "metadata": {},
   "source": [
    "<br>"
   ]
  },
  {
   "cell_type": "markdown",
   "id": "4893ecbf-4ad8-4608-98be-c29170040872",
   "metadata": {},
   "source": [
    "#### f. AttributeError:\n",
    "Raised when trying to access an attribute that does not exist in an object"
   ]
  },
  {
   "cell_type": "code",
   "execution_count": 14,
   "id": "85160db3-0798-4702-9f42-41365159618b",
   "metadata": {},
   "outputs": [
    {
     "ename": "AttributeError",
     "evalue": "'list' object has no attribute 'intersecion'",
     "output_type": "error",
     "traceback": [
      "\u001b[1;31m------------------------------------------------------------------------\u001b[0m",
      "\u001b[1;31mAttributeError\u001b[0m                         Traceback (most recent call last)",
      "Cell \u001b[1;32mIn[14], line 3\u001b[0m\n\u001b[0;32m      1\u001b[0m friends \u001b[38;5;241m=\u001b[39m [\u001b[38;5;124m\"\u001b[39m\u001b[38;5;124mRolf\u001b[39m\u001b[38;5;124m\"\u001b[39m, \u001b[38;5;124m\"\u001b[39m\u001b[38;5;124mJose\u001b[39m\u001b[38;5;124m\"\u001b[39m, \u001b[38;5;124m\"\u001b[39m\u001b[38;5;124mCharlie\u001b[39m\u001b[38;5;124m\"\u001b[39m]\n\u001b[0;32m      2\u001b[0m friends_away \u001b[38;5;241m=\u001b[39m [\u001b[38;5;124m\"\u001b[39m\u001b[38;5;124mRolf\u001b[39m\u001b[38;5;124m\"\u001b[39m, \u001b[38;5;124m\"\u001b[39m\u001b[38;5;124mPrabin\u001b[39m\u001b[38;5;124m\"\u001b[39m]\n\u001b[1;32m----> 3\u001b[0m \u001b[43mfriends\u001b[49m\u001b[38;5;241;43m.\u001b[39;49m\u001b[43mintersecion\u001b[49m(friends_away)\n",
      "\u001b[1;31mAttributeError\u001b[0m: 'list' object has no attribute 'intersecion'"
     ]
    }
   ],
   "source": [
    "friends = [\"Rolf\", \"Jose\", \"Charlie\"]\n",
    "friends_away = [\"Rolf\", \"Prabin\"]\n",
    "friends.intersecion(friends_away)"
   ]
  },
  {
   "cell_type": "markdown",
   "id": "cc14d5cf-9f2c-4ce2-8f74-71968bbdab4d",
   "metadata": {},
   "source": [
    "<br>"
   ]
  },
  {
   "cell_type": "markdown",
   "id": "e1750c1a-8bac-42cd-b4c5-0eeaa2131cd7",
   "metadata": {},
   "source": [
    "#### g. NameError:\n",
    "Raised when a variable is not found in the local or global scope."
   ]
  },
  {
   "cell_type": "code",
   "execution_count": 15,
   "id": "229c43d3-c7ef-4840-9840-7cc8b77267fb",
   "metadata": {},
   "outputs": [
    {
     "ename": "NameError",
     "evalue": "name 'dost' is not defined",
     "output_type": "error",
     "traceback": [
      "\u001b[1;31m------------------------------------------------------------------------\u001b[0m",
      "\u001b[1;31mNameError\u001b[0m                              Traceback (most recent call last)",
      "Cell \u001b[1;32mIn[15], line 2\u001b[0m\n\u001b[0;32m      1\u001b[0m friends \u001b[38;5;241m=\u001b[39m [\u001b[38;5;124m\"\u001b[39m\u001b[38;5;124mRolf\u001b[39m\u001b[38;5;124m\"\u001b[39m, \u001b[38;5;124m\"\u001b[39m\u001b[38;5;124mJen\u001b[39m\u001b[38;5;124m\"\u001b[39m]\n\u001b[1;32m----> 2\u001b[0m \u001b[38;5;28mprint\u001b[39m(\u001b[43mdost\u001b[49m)\n",
      "\u001b[1;31mNameError\u001b[0m: name 'dost' is not defined"
     ]
    }
   ],
   "source": [
    "friends = [\"Rolf\", \"Jen\"]\n",
    "print(dost)"
   ]
  },
  {
   "cell_type": "markdown",
   "id": "ea52d60f-1971-40ad-866d-9336269b914d",
   "metadata": {},
   "source": [
    "<br>"
   ]
  },
  {
   "cell_type": "markdown",
   "id": "b88b933b-6903-4f3d-a19a-f427159b3e0e",
   "metadata": {},
   "source": [
    "#### h. IOError:\n",
    "Raised when there is an input/output error"
   ]
  },
  {
   "cell_type": "code",
   "execution_count": 16,
   "id": "9a117075-7de4-4da3-b714-2c5dcc7cebe3",
   "metadata": {},
   "outputs": [
    {
     "name": "stdout",
     "output_type": "stream",
     "text": [
      "Error Occured: [Errno 2] No such file or directory: 'nonexistence_file.txt'\n"
     ]
    }
   ],
   "source": [
    "try:\n",
    "    with open(\"nonexistence_file.txt\", \"r\") as file:\n",
    "        content = file.read()\n",
    "except IOError as e:\n",
    "    print(\"Error Occured:\", e)"
   ]
  },
  {
   "cell_type": "markdown",
   "id": "a3b06fc3-bc53-4fe1-bb3a-ea4185e5dda5",
   "metadata": {},
   "source": [
    "<br>"
   ]
  },
  {
   "cell_type": "markdown",
   "id": "7372035b-afe9-4691-9756-c7eb3394cceb",
   "metadata": {},
   "source": [
    "#### i. ImportError:\n",
    "Raised when the imported module is not found."
   ]
  },
  {
   "cell_type": "code",
   "execution_count": 17,
   "id": "957bda11-6865-415e-a368-0ea27e370890",
   "metadata": {},
   "outputs": [
    {
     "ename": "ModuleNotFoundError",
     "evalue": "No module named 'blo'",
     "output_type": "error",
     "traceback": [
      "\u001b[1;31m------------------------------------------------------------------------\u001b[0m",
      "\u001b[1;31mModuleNotFoundError\u001b[0m                    Traceback (most recent call last)",
      "Cell \u001b[1;32mIn[17], line 1\u001b[0m\n\u001b[1;32m----> 1\u001b[0m \u001b[38;5;28;01mimport\u001b[39;00m \u001b[38;5;21;01mblo\u001b[39;00m\n",
      "\u001b[1;31mModuleNotFoundError\u001b[0m: No module named 'blo'"
     ]
    }
   ],
   "source": [
    "import blo"
   ]
  },
  {
   "cell_type": "markdown",
   "id": "8096c2be-b480-44bf-88fd-4622bd1c81e2",
   "metadata": {},
   "source": [
    "<br>"
   ]
  },
  {
   "cell_type": "markdown",
   "id": "d66273b3-96b6-4ee6-8f59-6d72c6c41e4e",
   "metadata": {},
   "source": [
    "#### j. KeyboardInterrupt:\n",
    "Raised when the user interrupts the execution of the program with a kwyboard signal (Ctrl +C)"
   ]
  },
  {
   "cell_type": "markdown",
   "id": "5752b173-0508-4567-8475-cc7d12c7d14d",
   "metadata": {},
   "source": [
    "<br>"
   ]
  },
  {
   "cell_type": "markdown",
   "id": "33d5d228-8e28-4c21-8f4e-1fd2ddd94d47",
   "metadata": {},
   "source": [
    "#### k. TabError:\n",
    "Raised when the indentation cosists of inconsistent tabs and sequences"
   ]
  },
  {
   "cell_type": "markdown",
   "id": "49fe631e-1a14-400a-8592-8c38651675e1",
   "metadata": {},
   "source": [
    "<br>"
   ]
  },
  {
   "cell_type": "markdown",
   "id": "7d50125d-06e5-4091-97b8-f0ec4e01d92c",
   "metadata": {},
   "source": [
    "### Some Examples:"
   ]
  },
  {
   "cell_type": "code",
   "execution_count": 18,
   "id": "10f8da2e-2520-42eb-95c0-462047f3bfb3",
   "metadata": {},
   "outputs": [
    {
     "ename": "ValueError",
     "evalue": "x should not be greater than 5.",
     "output_type": "error",
     "traceback": [
      "\u001b[1;31m------------------------------------------------------------------------\u001b[0m",
      "\u001b[1;31mValueError\u001b[0m                             Traceback (most recent call last)",
      "Cell \u001b[1;32mIn[18], line 3\u001b[0m\n\u001b[0;32m      1\u001b[0m x \u001b[38;5;241m=\u001b[39m \u001b[38;5;241m10\u001b[39m \n\u001b[0;32m      2\u001b[0m \u001b[38;5;28;01mif\u001b[39;00m x \u001b[38;5;241m>\u001b[39m \u001b[38;5;241m5\u001b[39m:\n\u001b[1;32m----> 3\u001b[0m     \u001b[38;5;28;01mraise\u001b[39;00m \u001b[38;5;167;01mValueError\u001b[39;00m(\u001b[38;5;124m\"\u001b[39m\u001b[38;5;124mx should not be greater than 5.\u001b[39m\u001b[38;5;124m\"\u001b[39m)\n",
      "\u001b[1;31mValueError\u001b[0m: x should not be greater than 5."
     ]
    }
   ],
   "source": [
    "x = 10 \n",
    "if x > 5:\n",
    "    raise ValueError(\"x should not be greater than 5.\")"
   ]
  },
  {
   "cell_type": "markdown",
   "id": "e3732ab1-f658-4fc5-9e8b-6e7cfee5503d",
   "metadata": {},
   "source": [
    "In the above code, if `x` is greater than 5, a `ValueError` exception is raised with the message \"x should not be greater than 5\".\n",
    "\n",
    "You can also raise a built-in exception by specifying its name without quotes. This will raise a `ValueError` exception without any message."
   ]
  },
  {
   "cell_type": "markdown",
   "id": "4b83b3ef-82af-41c2-9f14-1137556df9bf",
   "metadata": {},
   "source": [
    "<br><br><br>"
   ]
  },
  {
   "cell_type": "markdown",
   "id": "d9625bb4-c05d-4ddd-aeff-2651411ba974",
   "metadata": {},
   "source": [
    "## Raising our own Error"
   ]
  },
  {
   "cell_type": "markdown",
   "id": "36748331-0e97-44de-aaa9-08f1d8badf8f",
   "metadata": {},
   "source": [
    "You can also define your own custom exceptions by creating a new class that inherits from the `Exception` class."
   ]
  },
  {
   "cell_type": "code",
   "execution_count": 20,
   "id": "da59fad6-5cfd-4171-adbe-0c614a881815",
   "metadata": {},
   "outputs": [],
   "source": [
    "class MyException(Exception):\n",
    "    pass"
   ]
  },
  {
   "cell_type": "code",
   "execution_count": 21,
   "id": "eaac3c93-6d53-4426-bd9a-727246ea4c58",
   "metadata": {},
   "outputs": [
    {
     "ename": "MyException",
     "evalue": "This is my custom exception.",
     "output_type": "error",
     "traceback": [
      "\u001b[1;31m------------------------------------------------------------------------\u001b[0m",
      "\u001b[1;31mMyException\u001b[0m                            Traceback (most recent call last)",
      "Cell \u001b[1;32mIn[21], line 1\u001b[0m\n\u001b[1;32m----> 1\u001b[0m \u001b[38;5;28;01mraise\u001b[39;00m MyException(\u001b[38;5;124m\"\u001b[39m\u001b[38;5;124mThis is my custom exception.\u001b[39m\u001b[38;5;124m\"\u001b[39m)\n",
      "\u001b[1;31mMyException\u001b[0m: This is my custom exception."
     ]
    }
   ],
   "source": [
    "raise MyException(\"This is my custom exception.\")"
   ]
  },
  {
   "cell_type": "markdown",
   "id": "c5df7723-50d3-4494-b000-fa6ec8cb50cc",
   "metadata": {},
   "source": [
    "You can also add additional arguments to your custom exception."
   ]
  },
  {
   "cell_type": "code",
   "execution_count": 23,
   "id": "a1323baa-fafc-4fda-afa2-3dd9b9fdff79",
   "metadata": {},
   "outputs": [],
   "source": [
    "class MyException(Exception):\n",
    "    def __init__(self, arg1, arg2):\n",
    "        self.arg1 = arg1\n",
    "        self.arg2 = arg2"
   ]
  },
  {
   "cell_type": "markdown",
   "id": "9b128a6a-617f-44c3-af0a-96b5a24e86ab",
   "metadata": {},
   "source": [
    "In the above code, `MyException` takes two arguments `arg1` and `arg2`, which are stored as instance variables.\n",
    "\n",
    "You can raise exceptions from functions as well. For example:"
   ]
  },
  {
   "cell_type": "code",
   "execution_count": 26,
   "id": "221703c2-4ef1-4ff6-bdf7-5344bf7fec78",
   "metadata": {},
   "outputs": [
    {
     "name": "stdout",
     "output_type": "stream",
     "text": [
      "2.0\n"
     ]
    },
    {
     "ename": "ZeroDivisionError",
     "evalue": "Cannot divide by zero",
     "output_type": "error",
     "traceback": [
      "\u001b[1;31m------------------------------------------------------------------------\u001b[0m",
      "\u001b[1;31mZeroDivisionError\u001b[0m                      Traceback (most recent call last)",
      "Cell \u001b[1;32mIn[26], line 7\u001b[0m\n\u001b[0;32m      4\u001b[0m     \u001b[38;5;28;01mreturn\u001b[39;00m x\u001b[38;5;241m/\u001b[39my\n\u001b[0;32m      6\u001b[0m \u001b[38;5;28mprint\u001b[39m(divide(\u001b[38;5;241m10\u001b[39m, \u001b[38;5;241m5\u001b[39m))\n\u001b[1;32m----> 7\u001b[0m \u001b[38;5;28mprint\u001b[39m(\u001b[43mdivide\u001b[49m\u001b[43m(\u001b[49m\u001b[38;5;241;43m10\u001b[39;49m\u001b[43m,\u001b[49m\u001b[43m \u001b[49m\u001b[38;5;241;43m0\u001b[39;49m\u001b[43m)\u001b[49m)\n",
      "Cell \u001b[1;32mIn[26], line 3\u001b[0m, in \u001b[0;36mdivide\u001b[1;34m(x, y)\u001b[0m\n\u001b[0;32m      1\u001b[0m \u001b[38;5;28;01mdef\u001b[39;00m \u001b[38;5;21mdivide\u001b[39m(x, y):\n\u001b[0;32m      2\u001b[0m     \u001b[38;5;28;01mif\u001b[39;00m y \u001b[38;5;241m==\u001b[39m \u001b[38;5;241m0\u001b[39m :\n\u001b[1;32m----> 3\u001b[0m         \u001b[38;5;28;01mraise\u001b[39;00m \u001b[38;5;167;01mZeroDivisionError\u001b[39;00m(\u001b[38;5;124m\"\u001b[39m\u001b[38;5;124mCannot divide by zero\u001b[39m\u001b[38;5;124m\"\u001b[39m)\n\u001b[0;32m      4\u001b[0m     \u001b[38;5;28;01mreturn\u001b[39;00m x\u001b[38;5;241m/\u001b[39my\n",
      "\u001b[1;31mZeroDivisionError\u001b[0m: Cannot divide by zero"
     ]
    }
   ],
   "source": [
    "def divide(x, y):\n",
    "    if y == 0 :\n",
    "        raise ZeroDivisionError(\"Cannot divide by zero\")\n",
    "    return x/y\n",
    "\n",
    "print(divide(10, 5))\n",
    "print(divide(10, 0))"
   ]
  },
  {
   "cell_type": "markdown",
   "id": "cff7075a-7e1c-40f4-ae39-52f5d170cd6b",
   "metadata": {},
   "source": [
    "In the above code, the `divide()` function takes two arguments `x`and `y`. If `y` is 0, a `ZeroDivisionError` exception is raised. Otherwise, the function returns `x / y`. When you call the function with `divide(10, 5)`, it prints `2.0`. When you call it with `divide(10, 0)`, it raises a `ZeroDivisionError` exception with the message \"Cannot divide by zero\".\n",
    "\n",
    "You can catch the raised exception with a try/except block."
   ]
  },
  {
   "cell_type": "code",
   "execution_count": 27,
   "id": "613a94a8-4490-4a3d-97b7-2e6dd6cc8f86",
   "metadata": {},
   "outputs": [
    {
     "name": "stdout",
     "output_type": "stream",
     "text": [
      "Error Occured: This is a test exception\n"
     ]
    }
   ],
   "source": [
    "try:\n",
    "    raise ValueError(\"This is a test exception\")\n",
    "except ValueError as v:\n",
    "    print(\"Error Occured:\", v)"
   ]
  },
  {
   "cell_type": "markdown",
   "id": "7597fc35-1243-4ffd-9042-41290e4b5fcc",
   "metadata": {},
   "source": [
    "In the above code, a `ValueError` exception is raised with the message \"This is a test exception\". The `try` block catches the exception with an `except` block and prints the message \"Caught exception: This is a test exception\".\n",
    "\n",
    "`raise` is a powerful tool for handling exceptional situations in your Python code. By raising an exception, you can signal to the program that something unexpected has happened and take appropriate action."
   ]
  },
  {
   "cell_type": "markdown",
   "id": "699811b6-07db-43be-88a8-135d166785b9",
   "metadata": {},
   "source": [
    "<br><br>"
   ]
  },
  {
   "cell_type": "markdown",
   "id": "12a3e5d1-e8b5-41cf-a118-28c491652764",
   "metadata": {},
   "source": [
    "### DepreciationWarning:\n",
    "It is a warning but python treats it like error if it happens the programme will crash\n",
    "It means something wrong happened here this coding you are doing is depreciated."
   ]
  },
  {
   "cell_type": "markdown",
   "id": "66254b3c-6249-4037-828d-10de39a3da51",
   "metadata": {},
   "source": [
    "<br><br><br>"
   ]
  },
  {
   "cell_type": "markdown",
   "id": "81a437bc-1dac-43e1-9dbc-c0ec95537c92",
   "metadata": {},
   "source": [
    "#### Example1:"
   ]
  },
  {
   "cell_type": "code",
   "execution_count": 31,
   "id": "c9d121be-e9ed-4caa-a8e7-b3126c3ffdce",
   "metadata": {},
   "outputs": [
    {
     "ename": "NotImplementedError",
     "evalue": "We cannot add cars to the class garage yet.",
     "output_type": "error",
     "traceback": [
      "\u001b[1;31m------------------------------------------------------------------------\u001b[0m",
      "\u001b[1;31mNotImplementedError\u001b[0m                    Traceback (most recent call last)",
      "Cell \u001b[1;32mIn[31], line 10\u001b[0m\n\u001b[0;32m      7\u001b[0m         \u001b[38;5;28;01mraise\u001b[39;00m \u001b[38;5;167;01mNotImplementedError\u001b[39;00m(\u001b[38;5;124m\"\u001b[39m\u001b[38;5;124mWe cannot add cars to the class garage yet.\u001b[39m\u001b[38;5;124m\"\u001b[39m)\n\u001b[0;32m      9\u001b[0m ford \u001b[38;5;241m=\u001b[39m Garage()\n\u001b[1;32m---> 10\u001b[0m \u001b[43mford\u001b[49m\u001b[38;5;241;43m.\u001b[39;49m\u001b[43madd_car\u001b[49m\u001b[43m(\u001b[49m\u001b[38;5;124;43m\"\u001b[39;49m\u001b[38;5;124;43mFiesta\u001b[39;49m\u001b[38;5;124;43m\"\u001b[39;49m\u001b[43m)\u001b[49m\n\u001b[0;32m     11\u001b[0m \u001b[38;5;28mprint\u001b[39m(\u001b[38;5;28mlen\u001b[39m(ford))\n",
      "Cell \u001b[1;32mIn[31], line 7\u001b[0m, in \u001b[0;36mGarage.add_car\u001b[1;34m(self, car)\u001b[0m\n\u001b[0;32m      6\u001b[0m \u001b[38;5;28;01mdef\u001b[39;00m \u001b[38;5;21madd_car\u001b[39m(\u001b[38;5;28mself\u001b[39m, car):\n\u001b[1;32m----> 7\u001b[0m     \u001b[38;5;28;01mraise\u001b[39;00m \u001b[38;5;167;01mNotImplementedError\u001b[39;00m(\u001b[38;5;124m\"\u001b[39m\u001b[38;5;124mWe cannot add cars to the class garage yet.\u001b[39m\u001b[38;5;124m\"\u001b[39m)\n",
      "\u001b[1;31mNotImplementedError\u001b[0m: We cannot add cars to the class garage yet."
     ]
    }
   ],
   "source": [
    "class Garage:\n",
    "    def __init__(self):\n",
    "        self.cars = []\n",
    "    def __len__(self):\n",
    "        return len(self.cars)\n",
    "    def add_car(self, car):\n",
    "        raise NotImplementedError(\"We cannot add cars to the class garage yet.\")\n",
    "\n",
    "ford = Garage()\n",
    "ford.add_car(\"Fiesta\")\n",
    "print(len(ford))"
   ]
  },
  {
   "cell_type": "markdown",
   "id": "e1c669a5-5f84-45fc-9583-2098cedf4c7c",
   "metadata": {},
   "source": [
    "#### Example2: Raising error with multiple classes:"
   ]
  },
  {
   "cell_type": "code",
   "execution_count": 38,
   "id": "ceadff36-0fc1-4637-8ae2-bcefbaa9f14e",
   "metadata": {},
   "outputs": [
    {
     "name": "stdout",
     "output_type": "stream",
     "text": [
      "1\n"
     ]
    }
   ],
   "source": [
    "class Car:\n",
    "    def __init__(self, make, model):\n",
    "        self.make = make\n",
    "        self.model = model\n",
    "\n",
    "    def __repr__(self):\n",
    "        return f\"Car {self.car} {self.name}\"\n",
    "\n",
    "class Garage:\n",
    "    def __init__(self):\n",
    "        self.cars = []\n",
    "\n",
    "    def __len__(self):\n",
    "        return len(self.cars)\n",
    "\n",
    "    def add_car(self, car):\n",
    "        if not isinstance(car, Car):\n",
    "            raise TypeError(\"Error occured:\")\n",
    "        self.cars.append(car)\n",
    "\n",
    "ford = Garage()\n",
    "car = Car('Ford', 'Fiesta')\n",
    "ford.add_car(car)\n",
    "print(len(ford))\n",
    "        "
   ]
  },
  {
   "cell_type": "markdown",
   "id": "609416be-8ac5-4d4a-b5be-d219163638c9",
   "metadata": {},
   "source": [
    "<br><br><br>"
   ]
  },
  {
   "cell_type": "markdown",
   "id": "ab2f0a7b-ecf6-4cc8-8d51-97961d81d3e0",
   "metadata": {},
   "source": [
    "### Creating our own Error in Python"
   ]
  },
  {
   "cell_type": "code",
   "execution_count": 41,
   "id": "2830251b-098e-49d8-aa94-40ccc0ad268f",
   "metadata": {},
   "outputs": [],
   "source": [
    "class MyCustomError(TypeError):\n",
    "    pass\n"
   ]
  },
  {
   "cell_type": "code",
   "execution_count": 43,
   "id": "ad5b046c-5347-40f8-a00b-f144855e6a6c",
   "metadata": {},
   "outputs": [
    {
     "data": {
      "text/plain": [
       "__main__.MyCustomError('Ouch! An Error occured')"
      ]
     },
     "execution_count": 43,
     "metadata": {},
     "output_type": "execute_result"
    }
   ],
   "source": [
    "MyCustomError(\"Ouch! An Error occured\")"
   ]
  },
  {
   "cell_type": "markdown",
   "id": "f1c3a261-8467-4f58-9097-44b731e8b906",
   "metadata": {},
   "source": [
    "<br><br><br>"
   ]
  },
  {
   "cell_type": "markdown",
   "id": "1ff2a4d1-7ccc-47a5-9be6-11c83051c0e3",
   "metadata": {},
   "source": [
    "# Python `assert` Statement"
   ]
  },
  {
   "cell_type": "markdown",
   "id": "8a379d80-6557-4fef-a1c0-30df186bb7c1",
   "metadata": {},
   "source": [
    "In Python, `assert` is a debugging aid that tests a condition, and triggers an error if the condition is not true. It is commonly used to debug the code during development, by ensuring that assumptions about the code's behavior are met.\n",
    "\n",
    "The assert statement has the following syntax:\n",
    "```python\n",
    "assert condition, message\n",
    "```\n",
    "Here, `condition` is the expression to be tested and `message` is an optional error message string to be displayed if the condition is not true.\n",
    "\n",
    "When the `assert` statement is executed, Python evaluates the `condition`. If it is true, the program continues to execute normally. If it is false, Python raises an `AssertionError` with the optional error message `message`."
   ]
  },
  {
   "cell_type": "code",
   "execution_count": 44,
   "id": "8caf1e7f-207f-4093-9d83-86cbebdb39de",
   "metadata": {},
   "outputs": [
    {
     "name": "stdout",
     "output_type": "stream",
     "text": [
      "10.0\n"
     ]
    },
    {
     "ename": "AssertionError",
     "evalue": "Cannot divide by zero",
     "output_type": "error",
     "traceback": [
      "\u001b[1;31m------------------------------------------------------------------------\u001b[0m",
      "\u001b[1;31mAssertionError\u001b[0m                         Traceback (most recent call last)",
      "Cell \u001b[1;32mIn[44], line 6\u001b[0m\n\u001b[0;32m      3\u001b[0m     \u001b[38;5;28;01mreturn\u001b[39;00m x\u001b[38;5;241m/\u001b[39my\n\u001b[0;32m      5\u001b[0m \u001b[38;5;28mprint\u001b[39m(divide(\u001b[38;5;241m10\u001b[39m, \u001b[38;5;241m1\u001b[39m))\n\u001b[1;32m----> 6\u001b[0m \u001b[38;5;28mprint\u001b[39m(\u001b[43mdivide\u001b[49m\u001b[43m(\u001b[49m\u001b[38;5;241;43m10\u001b[39;49m\u001b[43m,\u001b[49m\u001b[43m \u001b[49m\u001b[38;5;241;43m0\u001b[39;49m\u001b[43m)\u001b[49m)\n",
      "Cell \u001b[1;32mIn[44], line 2\u001b[0m, in \u001b[0;36mdivide\u001b[1;34m(x, y)\u001b[0m\n\u001b[0;32m      1\u001b[0m \u001b[38;5;28;01mdef\u001b[39;00m \u001b[38;5;21mdivide\u001b[39m(x, y):\n\u001b[1;32m----> 2\u001b[0m     \u001b[38;5;28;01massert\u001b[39;00m y \u001b[38;5;241m!=\u001b[39m \u001b[38;5;241m0\u001b[39m, \u001b[38;5;124m\"\u001b[39m\u001b[38;5;124mCannot divide by zero\u001b[39m\u001b[38;5;124m\"\u001b[39m\n\u001b[0;32m      3\u001b[0m     \u001b[38;5;28;01mreturn\u001b[39;00m x\u001b[38;5;241m/\u001b[39my\n",
      "\u001b[1;31mAssertionError\u001b[0m: Cannot divide by zero"
     ]
    }
   ],
   "source": [
    "def divide(x, y):\n",
    "    assert y != 0, \"Cannot divide by zero\"\n",
    "    return x/y\n",
    "\n",
    "print(divide(10, 1))\n",
    "print(divide(10, 0))"
   ]
  },
  {
   "cell_type": "markdown",
   "id": "37ec2068-e4d6-4b3b-9452-c5124f656d21",
   "metadata": {},
   "source": [
    "In the above code, the `assert` statement tests whether `y` is not equal to 0 before performing the division operation. If `y` is indeed not 0, the program continues to execute normally and returns the result of the division. If `y` is 0, the assert statement raises an `AssertionError` with the `message` \"Cannot divide by zero\"."
   ]
  },
  {
   "cell_type": "code",
   "execution_count": 46,
   "id": "720287ea-1706-4d5f-b227-afb1038b0146",
   "metadata": {},
   "outputs": [
    {
     "ename": "AssertionError",
     "evalue": "Logical Error",
     "output_type": "error",
     "traceback": [
      "\u001b[1;31m------------------------------------------------------------------------\u001b[0m",
      "\u001b[1;31mAssertionError\u001b[0m                         Traceback (most recent call last)",
      "Cell \u001b[1;32mIn[46], line 1\u001b[0m\n\u001b[1;32m----> 1\u001b[0m \u001b[38;5;28;01massert\u001b[39;00m \u001b[38;5;28mlen\u001b[39m([\u001b[38;5;241m1\u001b[39m, \u001b[38;5;241m2\u001b[39m, \u001b[38;5;241m3\u001b[39m, \u001b[38;5;241m4\u001b[39m]) \u001b[38;5;241m==\u001b[39m \u001b[38;5;241m3\u001b[39m, \u001b[38;5;124m\"\u001b[39m\u001b[38;5;124mLogical Error\u001b[39m\u001b[38;5;124m\"\u001b[39m\n",
      "\u001b[1;31mAssertionError\u001b[0m: Logical Error"
     ]
    }
   ],
   "source": [
    "assert len([1, 2, 3, 4]) == 3, \"Logical Error\""
   ]
  },
  {
   "cell_type": "code",
   "execution_count": null,
   "id": "ea5d8558-6b45-4964-b9b6-affc7830813c",
   "metadata": {},
   "outputs": [],
   "source": []
  }
 ],
 "metadata": {
  "kernelspec": {
   "display_name": "Python 3 (ipykernel)",
   "language": "python",
   "name": "python3"
  },
  "language_info": {
   "codemirror_mode": {
    "name": "ipython",
    "version": 3
   },
   "file_extension": ".py",
   "mimetype": "text/x-python",
   "name": "python",
   "nbconvert_exporter": "python",
   "pygments_lexer": "ipython3",
   "version": "3.12.2"
  }
 },
 "nbformat": 4,
 "nbformat_minor": 5
}
