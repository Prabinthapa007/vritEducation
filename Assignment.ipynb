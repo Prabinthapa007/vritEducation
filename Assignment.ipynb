{
 "cells": [
  {
   "cell_type": "markdown",
   "id": "eb3ba88a-b06c-418e-b45a-c3237cf45b3d",
   "metadata": {},
   "source": [
    "### 1. Personal Information:"
   ]
  },
  {
   "cell_type": "code",
   "execution_count": 6,
   "id": "33f8705c-2a1e-456c-a5b7-0adb52bc3925",
   "metadata": {},
   "outputs": [
    {
     "name": "stdout",
     "output_type": "stream",
     "text": [
      "Hello, my name is Prabin Thapa and I am 25 years old.\n"
     ]
    }
   ],
   "source": [
    "name = \"Prabin Thapa\"\n",
    "age = 25\n",
    "print(f\"Hello, my name is {name} and I am {age} years old.\")"
   ]
  },
  {
   "cell_type": "markdown",
   "id": "e5241140-7fad-4a78-aecc-d53607278ef5",
   "metadata": {},
   "source": [
    "### 2. Favorite Hobbies:"
   ]
  },
  {
   "cell_type": "code",
   "execution_count": 7,
   "id": "52b72390-c4a8-477a-8dc8-f66cb95956bd",
   "metadata": {},
   "outputs": [
    {
     "name": "stdout",
     "output_type": "stream",
     "text": [
      "['Singing', 'Dancing', 'Football', 'Playing Guitar']\n"
     ]
    }
   ],
   "source": [
    "favourite_hobbies = [\"Singing\", \"Dancing\", \"Football\"]\n",
    "favourite_hobbies.append(\"Playing Guitar\")\n",
    "print(favourite_hobbies)"
   ]
  },
  {
   "cell_type": "markdown",
   "id": "10b557d3-f341-41b7-8c19-a0f49bcf2804",
   "metadata": {},
   "source": [
    "### 3. Screen Dimensions:"
   ]
  },
  {
   "cell_type": "code",
   "execution_count": 8,
   "id": "8f8cbb13-4cc2-4277-94fa-362d53d6a5bd",
   "metadata": {},
   "outputs": [
    {
     "ename": "AttributeError",
     "evalue": "'tuple' object has no attribute 'append'",
     "output_type": "error",
     "traceback": [
      "\u001b[1;31m---------------------------------------------------------------------------\u001b[0m",
      "\u001b[1;31mAttributeError\u001b[0m                            Traceback (most recent call last)",
      "Cell \u001b[1;32mIn[8], line 2\u001b[0m\n\u001b[0;32m      1\u001b[0m screen_dimensions \u001b[38;5;241m=\u001b[39m (\u001b[38;5;241m1080\u001b[39m, \u001b[38;5;241m768\u001b[39m)\n\u001b[1;32m----> 2\u001b[0m \u001b[43mscreen_dimensions\u001b[49m\u001b[38;5;241;43m.\u001b[39;49m\u001b[43mappend\u001b[49m(\u001b[38;5;241m769\u001b[39m) \u001b[38;5;66;03m#When trying to modify there is an attribute error. It is because, tuple is immutable. Mostly tuple is used for variables with fixed values.\u001b[39;00m\n\u001b[0;32m      3\u001b[0m \u001b[38;5;28mprint\u001b[39m(screen_dimensions)\n",
      "\u001b[1;31mAttributeError\u001b[0m: 'tuple' object has no attribute 'append'"
     ]
    }
   ],
   "source": [
    "screen_dimensions = (1080, 768)\n",
    "screen_dimensions.append(769) #When trying to modify there is an attribute error. It is because, tuple is immutable. Mostly tuple is used for variables with fixed values.\n",
    "print(screen_dimensions)"
   ]
  },
  {
   "cell_type": "markdown",
   "id": "de547fc5-eec3-4a75-9b6d-2a3b6cb617a4",
   "metadata": {},
   "source": [
    "### 4. Pet Description:"
   ]
  },
  {
   "cell_type": "code",
   "execution_count": 9,
   "id": "580ebc1c-1778-4037-a3c0-922211288162",
   "metadata": {},
   "outputs": [
    {
     "name": "stdout",
     "output_type": "stream",
     "text": [
      "My pet name is Chelsea and it's color is Black.\n"
     ]
    }
   ],
   "source": [
    "pet = {\"type\" : \"Dog\", \"name\": \"Chelsea\", \"age\": 3}\n",
    "pet[\"color\"] = \"Black\"\n",
    "print(f\"My pet name is {pet['name']} and it's color is {pet['color']}.\")"
   ]
  },
  {
   "cell_type": "markdown",
   "id": "73317811-1516-4763-a364-25c5e2ce381e",
   "metadata": {},
   "source": [
    "### 5. Adult Status:"
   ]
  },
  {
   "cell_type": "code",
   "execution_count": 11,
   "id": "de454ba9-7d4a-40dc-9436-00da3e175d99",
   "metadata": {},
   "outputs": [
    {
     "name": "stdin",
     "output_type": "stream",
     "text": [
      "Enter your age:  22\n"
     ]
    },
    {
     "name": "stdout",
     "output_type": "stream",
     "text": [
      "I am an adult.\n"
     ]
    }
   ],
   "source": [
    "user_age = int(input(\"Enter your age: \"))\n",
    "is_adult = user_age>=18\n",
    "if is_adult:\n",
    "    print(\"I am an adult.\")\n",
    "else:\n",
    "    print(\"I am not an adult.\")"
   ]
  },
  {
   "cell_type": "code",
   "execution_count": null,
   "id": "5d468b06-92c7-4d1c-9ad7-d5c4baddb41a",
   "metadata": {},
   "outputs": [],
   "source": []
  }
 ],
 "metadata": {
  "kernelspec": {
   "display_name": "Python 3 (ipykernel)",
   "language": "python",
   "name": "python3"
  },
  "language_info": {
   "codemirror_mode": {
    "name": "ipython",
    "version": 3
   },
   "file_extension": ".py",
   "mimetype": "text/x-python",
   "name": "python",
   "nbconvert_exporter": "python",
   "pygments_lexer": "ipython3",
   "version": "3.12.2"
  }
 },
 "nbformat": 4,
 "nbformat_minor": 5
}
