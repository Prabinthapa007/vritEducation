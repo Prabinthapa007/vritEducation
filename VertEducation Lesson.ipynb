{
 "cells": [
  {
   "cell_type": "markdown",
   "id": "b8b4e4cf-985a-4cbf-b8b8-17c0032a91df",
   "metadata": {},
   "source": [
    "age = 25"
   ]
  },
  {
   "cell_type": "code",
   "execution_count": null,
   "id": "7947c3df-1c0a-4ddd-ae1e-4521e7dc8611",
   "metadata": {},
   "outputs": [],
   "source": [
    "age"
   ]
  },
  {
   "cell_type": "code",
   "execution_count": null,
   "id": "1cd22d68-0b4e-495e-a7ad-d8cfb41ec4a3",
   "metadata": {},
   "outputs": [],
   "source": [
    "print(\"Hello World!\")"
   ]
  },
  {
   "cell_type": "code",
   "execution_count": null,
   "id": "2c7f281b-0edf-4d8a-9687-d8d8daa8ad66",
   "metadata": {},
   "outputs": [],
   "source": [
    "my_name = \"Prabin\"\n",
    "my_age_str = str(25)\n",
    "print(f\"{my_name} is {my_age_str} old.\")"
   ]
  },
  {
   "cell_type": "code",
   "execution_count": null,
   "id": "847725e9-9226-4cda-bbf9-095e65aef079",
   "metadata": {},
   "outputs": [],
   "source": [
    "#float\n",
    "integer = 12/3\n",
    "print(integer)"
   ]
  },
  {
   "cell_type": "code",
   "execution_count": null,
   "id": "32b5d853-6225-4c89-b20e-6497317c3cd7",
   "metadata": {},
   "outputs": [],
   "source": [
    "float_division = 12//3"
   ]
  },
  {
   "cell_type": "code",
   "execution_count": null,
   "id": "8a0cba90-8b03-4beb-9c74-16496c0a20fd",
   "metadata": {},
   "outputs": [],
   "source": [
    "print(float_division)"
   ]
  },
  {
   "cell_type": "code",
   "execution_count": null,
   "id": "f7030a45-dfe3-4e82-b890-276b172763df",
   "metadata": {},
   "outputs": [],
   "source": [
    "#remainder \n",
    "remainder = 12%5\n",
    "print(remainder)"
   ]
  },
  {
   "cell_type": "code",
   "execution_count": null,
   "id": "8070f6dd-0407-4dab-9026-743b9cbefe63",
   "metadata": {},
   "outputs": [],
   "source": [
    "#Math Functions\n",
    "import math \n",
    "m = math.sqrt(144)\n",
    "print(m)\n"
   ]
  },
  {
   "cell_type": "code",
   "execution_count": null,
   "id": "5f39c625-2227-484f-b5fb-2d6df27b4939",
   "metadata": {},
   "outputs": [],
   "source": [
    "import numpy as np"
   ]
  },
  {
   "cell_type": "code",
   "execution_count": null,
   "id": "3e27f7c3-b72f-4c5e-b89f-361f7a2340cd",
   "metadata": {},
   "outputs": [],
   "source": [
    "user_name = input(\"Enter your name?: \")"
   ]
  },
  {
   "cell_type": "code",
   "execution_count": null,
   "id": "0f2d6308-10b8-421c-b406-3303aa03b0c7",
   "metadata": {},
   "outputs": [],
   "source": [
    "1.0e-5"
   ]
  },
  {
   "cell_type": "code",
   "execution_count": null,
   "id": "e3a6c9d0-0424-4713-b7dd-8dfc425cfa30",
   "metadata": {},
   "outputs": [],
   "source": [
    "float = 10e-5\n",
    "print(float)"
   ]
  },
  {
   "cell_type": "code",
   "execution_count": null,
   "id": "eda2390c-e298-4630-b80b-7028b1c928b9",
   "metadata": {},
   "outputs": [],
   "source": [
    "#Complex\n",
    "c = complex(3 + 4j)\n",
    "c"
   ]
  },
  {
   "cell_type": "code",
   "execution_count": null,
   "id": "dbf0d817-2ec0-41f7-a5e6-90eceaf3922d",
   "metadata": {},
   "outputs": [],
   "source": [
    "#Changing of type :\n",
    "#floating to integer and integer to float"
   ]
  },
  {
   "cell_type": "code",
   "execution_count": null,
   "id": "bb18718a-f278-440d-88e4-0487254065dd",
   "metadata": {},
   "outputs": [],
   "source": [
    "x = 5.55 "
   ]
  },
  {
   "cell_type": "code",
   "execution_count": null,
   "id": "b56f707a-b9ba-4d6f-b3aa-3d054ec5318d",
   "metadata": {},
   "outputs": [],
   "source": [
    "int(x)"
   ]
  },
  {
   "cell_type": "code",
   "execution_count": null,
   "id": "2e66c520-443c-41f3-82ce-f57840a63efe",
   "metadata": {},
   "outputs": [],
   "source": [
    "#Arithmetic operations:\n",
    "x = 10\n",
    "y = 3\n",
    "print(x + y) #Addition\n",
    "print(x - y) #Subtraction\n",
    "print(x /y) #Division\n",
    "print(x * y) # Multiplication\n",
    "print(x ** y) #Expomemtian or power\n",
    "print(x // y) #Floor division\n",
    "print(x % y) #Modulus or remainder"
   ]
  },
  {
   "cell_type": "code",
   "execution_count": null,
   "id": "fbc4f404-f634-46f9-84a7-3dbc6a1c91e9",
   "metadata": {},
   "outputs": [],
   "source": [
    "#Comparision Operation\n",
    "#You can compare numbers in python using comparision like <, >, <=, >=, ==, and !="
   ]
  },
  {
   "cell_type": "code",
   "execution_count": null,
   "id": "48e5b9a5-b837-4f8e-ba22-97e663f7193f",
   "metadata": {},
   "outputs": [],
   "source": [
    "#Import math\n",
    "x = -5.5\n",
    "print(abs(x)) #absolute\n",
    "print(round(x)) #round off\n",
    "print(max(1,2,3)) #maximum number\n",
    "print(pow(2,4)) #Power it means there is power of 2 in 4\n",
    "print(math.sqrt(144)) #It is square root function\n",
    "print(math.cbrt(27)) #It is cube root\n",
    "print(math.log(10)) #Log value"
   ]
  },
  {
   "cell_type": "code",
   "execution_count": null,
   "id": "f2eac2e3-71ad-4953-b485-f03b62bd4496",
   "metadata": {},
   "outputs": [],
   "source": [
    "!pip install numpy #How to install resources in jupyter?"
   ]
  },
  {
   "cell_type": "code",
   "execution_count": null,
   "id": "67903da8-636b-4b57-809d-2c1276867aa2",
   "metadata": {},
   "outputs": [],
   "source": [
    "#Defining strings:\n",
    "#You can define a string in Python by enclosing the text un either single or double quotes. Here are some examples:\n",
    "x = \"Hello, World!\"\n",
    "y = \" My name is Prabin Thapa.\"\n",
    "print(x + y)"
   ]
  },
  {
   "cell_type": "code",
   "execution_count": null,
   "id": "3fbbe561-f709-45ab-a3f6-f12cd034b9d1",
   "metadata": {},
   "outputs": [],
   "source": [
    "#String methods\n",
    "#Some common string methods include lower(), upper(), strip(), replace(), and split(). Here are some examples.\n",
    "x = \"Hello World!\" \n",
    "print(x.strip()) #If there is any space in the string then it will reduce it and show.\n",
    "print(x.upper())\n",
    "print(x.lower())\n",
    "print(x.split(\",\"))\n",
    "print(x.replace(\"o\" , \"a\"))\n",
    "print(x.endswith(\"World\")) #If the word ends with the x or not. "
   ]
  },
  {
   "cell_type": "code",
   "execution_count": null,
   "id": "0a84d76a-a382-49a7-92c7-0db25f014663",
   "metadata": {},
   "outputs": [],
   "source": [
    "#String indexing\n",
    "x = \"Hell0, World!\"\n",
    "print(x[0])\n",
    "print(x[0:4])\n",
    "print(x[0:]) \n",
    "print(x[::-1]) #reverse\n",
    "print(x[0:5:2]) #stepping up"
   ]
  },
  {
   "cell_type": "code",
   "execution_count": null,
   "id": "0331ebe6-904f-4540-a6e1-e5091389221c",
   "metadata": {},
   "outputs": [],
   "source": [
    "#String Formatting:\n",
    "#You can use string formatting to insert variables or expressions into a string\n",
    "x = \"John\"\n",
    "y = 25\n",
    "print(\"My name is %s and I am %d years old.\" %(x, y)) # % operator\n",
    "print(\"My name is {} and I am {} years old.\".format(x, y)) #.format()\n",
    "print(\"My name is {0} and I am {1} years old.\".format(x, y)) #.format()\n",
    "print(f\"My name is {x} and I am {y} years old.\") #F-string"
   ]
  },
  {
   "cell_type": "code",
   "execution_count": null,
   "id": "62101795-472f-4ecb-ab3c-6a64c073fef7",
   "metadata": {},
   "outputs": [],
   "source": [
    "#String concatenation\n",
    "fst = \"Prabin\"\n",
    "mdl = \"\"\n",
    "lst = \"Thapa\"\n",
    "name = fst + \" \" + mdl + \" \" + lst\n",
    "print(name)"
   ]
  },
  {
   "cell_type": "code",
   "execution_count": null,
   "id": "0b55077d-5123-446c-9e20-a5bbbd5ceb2c",
   "metadata": {},
   "outputs": [],
   "source": [
    "#Advanced String Formatting with .format()\n",
    "#Alignment and Padding\n",
    "s = \"Hello, World!\"\n",
    "print(\"{:_>20}\".format(s)) #Right align the string of 20 characters, padded with underscores\n",
    "\n",
    "#Precision\n",
    "pi = 3.14"
   ]
  },
  {
   "cell_type": "code",
   "execution_count": null,
   "id": "8821b977-e2ff-44c0-a7c0-58ea74be4503",
   "metadata": {},
   "outputs": [],
   "source": [
    "#Python Sequences Types:\n",
    "#Lists\n",
    "x= [1, 2, 3, 4, 5]\n"
   ]
  },
  {
   "cell_type": "code",
   "execution_count": null,
   "id": "4ddb63c9-2895-4747-8a72-0aefdc22ec4d",
   "metadata": {},
   "outputs": [],
   "source": [
    "#Accessing Lists:\n",
    "print(x[2])\n",
    "print(x[::2])"
   ]
  },
  {
   "cell_type": "code",
   "execution_count": null,
   "id": "6ee29143-a26a-47bd-b04c-ba0a95b2f176",
   "metadata": {},
   "outputs": [],
   "source": [
    "#Modifying Lists:\n",
    "x = [1, 2, 3, 4, 5, 'apple']\n",
    "\n",
    "x.append(10) #Add item in the end only.\n",
    "print(x)\n",
    "x.insert(2, 'apple') #Adds  an items at a specific index in the list\n",
    "print(x)\n",
    "\n",
    "x.remove('apple') #Removes the first ccurence of the spev=cified index in the list.\n",
    "print(x)\n",
    "x.pop(1) # Removes and returns the item at the specified index\n",
    "x.pop() #If no index is specified, it removes and returns the last item in the list. It gives last item to us and when we pront x then it will give value without last item.\n",
    "print(x)\n"
   ]
  },
  {
   "cell_type": "code",
   "execution_count": null,
   "id": "8572c9d1-c81b-45ab-859b-da744e15421a",
   "metadata": {},
   "outputs": [],
   "source": [
    "#Methods of the list:\n",
    "x = [3, 1, 4, 1, 5, 9, 2, 6, 5, 3]"
   ]
  },
  {
   "cell_type": "code",
   "execution_count": null,
   "id": "a930417a-f8b0-4d01-a010-c6626d8ed764",
   "metadata": {},
   "outputs": [],
   "source": [
    "x.sort() #Sorts the list in ascending order\n",
    "print(x)"
   ]
  },
  {
   "cell_type": "code",
   "execution_count": null,
   "id": "f72eb441-f58a-49f5-bd73-dcf26eca0f44",
   "metadata": {},
   "outputs": [],
   "source": [
    "x.sort(reverse=True) #Sorts the list in descending order\n",
    "print(x)"
   ]
  },
  {
   "cell_type": "code",
   "execution_count": null,
   "id": "2ae1f66a-401f-4f0f-ab90-cb711400b9f8",
   "metadata": {},
   "outputs": [],
   "source": [
    "x.reverse() #Reverses the order of the items in the list\n",
    "print(x)"
   ]
  },
  {
   "cell_type": "code",
   "execution_count": null,
   "id": "da5f6b70-5de1-42bf-8321-5f0e76ecb043",
   "metadata": {},
   "outputs": [],
   "source": [
    "index = x.index(1) #Return the index of the first occurence of the specified item in the list\n",
    "print(index)"
   ]
  },
  {
   "cell_type": "code",
   "execution_count": null,
   "id": "15fd31d8-ff39-4384-8b27-dd0c54c20f93",
   "metadata": {},
   "outputs": [],
   "source": [
    "count = x.count(1) #Returns the number of items the specified item appears in the list.\n",
    "print(count)"
   ]
  },
  {
   "cell_type": "code",
   "execution_count": null,
   "id": "69db740b-5242-45da-9f68-aa332054bafc",
   "metadata": {},
   "outputs": [],
   "source": [
    "#Tuple \n",
    "my_tuple = ('Ram', 'Shyam')\n",
    "print(my_tuple)"
   ]
  },
  {
   "cell_type": "code",
   "execution_count": null,
   "id": "c335571e-f7a1-49ce-9757-bc074c31fe83",
   "metadata": {},
   "outputs": [],
   "source": [
    "#Slicing tupe is same like slicing list"
   ]
  },
  {
   "cell_type": "code",
   "execution_count": null,
   "id": "77e2d59f-a775-4759-a914-dbebf1570093",
   "metadata": {},
   "outputs": [],
   "source": [
    "my_tuple = (1, 2, 3, 4, 5)\n",
    "sum = sum(my_tuple)\n",
    "print(sum)\n",
    "max = max(my_tuple)\n",
    "print(max)\n",
    "min = min(my_tuple)\n",
    "print(min)"
   ]
  },
  {
   "cell_type": "code",
   "execution_count": null,
   "id": "e768205e-c1b8-4723-967c-6b67dd10fe1c",
   "metadata": {},
   "outputs": [],
   "source": [
    "#Difference in tuple and list:\n",
    "#Tuple is immutable while list is mutable.\n",
    "#We cannot add and pop out elements of tuple.\n"
   ]
  },
  {
   "cell_type": "code",
   "execution_count": null,
   "id": "502a2e66-6f2f-4350-a4c2-326cb9996a4a",
   "metadata": {},
   "outputs": [],
   "source": [
    "#Set\n",
    "my_set = {1, 2, 3, 4, 5}\n",
    "print(my_set)"
   ]
  },
  {
   "cell_type": "code",
   "execution_count": null,
   "id": "2d930851-fb2e-4bcb-b0da-e7115b86d208",
   "metadata": {},
   "outputs": [],
   "source": [
    "#Advanced Set operation\n",
    "set1 = {1, 2, 3, 4}\n",
    "set2 = {2, 4, 6, 8}\n",
    "#Union\n",
    "union = set1.intersection(set2)\n",
    "print(union)"
   ]
  },
  {
   "cell_type": "code",
   "execution_count": null,
   "id": "7719f2ed-7953-4077-b3de-fb81ee3a7d8e",
   "metadata": {},
   "outputs": [],
   "source": [
    "#Modifying set\n",
    "#Add\n",
    "#Remove\n",
    "#Discard\n"
   ]
  },
  {
   "cell_type": "code",
   "execution_count": null,
   "id": "af0b0907-36bb-4a77-8161-b86abd1704e4",
   "metadata": {},
   "outputs": [],
   "source": [
    "#Mapping Type\n",
    "#1. Dictionary\n",
    "friends = {\"name\": \"Prabin\", \"age\": 30, \"city\": \"Kathmandu\"}\n",
    "print(friends['name'])\n",
    "print(friends['age'])\n",
    "#If you want to add key to the dictionary.\n",
    "friends['name'] = 'Shyam'\n",
    "print(friends)\n"
   ]
  },
  {
   "cell_type": "code",
   "execution_count": null,
   "id": "6b433f88-7150-439a-a258-377e2dc3f840",
   "metadata": {},
   "outputs": [],
   "source": [
    "#Methods in Dictionaries\n",
    "#Some commonly used methods in Puthon Dictionaries . .keys(), values(), items(), pop(),  copy(), clear()\n",
    "friends = {\"name\": \"Prabin\", \"age\": 30, \"city\": \"Kathmandu\"}\n",
    "print(friends.keys())"
   ]
  },
  {
   "cell_type": "code",
   "execution_count": null,
   "id": "61d8f93e-80a9-479e-af8b-14dc29455dfa",
   "metadata": {},
   "outputs": [],
   "source": [
    "friends = {\"name\": \"Prabin\", \"age\": 30, \"city\": \"Kathmandu\"}\n",
    "print(friends.values())"
   ]
  },
  {
   "cell_type": "code",
   "execution_count": null,
   "id": "c549bc40-bd63-4fe8-b589-0a7e1cb49d27",
   "metadata": {},
   "outputs": [],
   "source": [
    "friends = {\"name\": \"Prabin\", \"age\": 30, \"city\": \"Kathmandu\"}\n",
    "print(friends.items())"
   ]
  },
  {
   "cell_type": "code",
   "execution_count": null,
   "id": "4eb981eb-3c9b-42a4-8f74-3b68a841dd92",
   "metadata": {},
   "outputs": [],
   "source": [
    "friends = {\"name\": \"Prabin\", \"age\": 30, \"city\": \"Kathmandu\"}\n"
   ]
  },
  {
   "cell_type": "code",
   "execution_count": null,
   "id": "790ba39f-47a6-423a-b27d-621408c219da",
   "metadata": {},
   "outputs": [],
   "source": [
    "city = friends.pop(\"city\", \"NY\") #Providing a default values avoids keyerrors\n",
    "print(city) #If there is no city mention then print will come out as NY."
   ]
  },
  {
   "cell_type": "code",
   "execution_count": null,
   "id": "7dfc2681-4296-4f59-84b4-41e50f77b409",
   "metadata": {},
   "outputs": [],
   "source": []
  },
  {
   "cell_type": "code",
   "execution_count": null,
   "id": "d18b64ca-de94-409d-84b8-a8177c87288a",
   "metadata": {},
   "outputs": [],
   "source": [
    "#Python Boolean Type:\n",
    "a = 5 \n",
    "b = 10 \n",
    "c = (a>b)\n",
    "d = (a<b)\n",
    "print(c)\n",
    "print(d)\n",
    "\n",
    "#add, or and not"
   ]
  },
  {
   "cell_type": "code",
   "execution_count": null,
   "id": "592000fc-28a2-434d-a22c-7aeacc9be912",
   "metadata": {},
   "outputs": [],
   "source": [
    "x = 10\n",
    "y = 0\n",
    "s = 'Hello'\n",
    "t = ''\n",
    "lst = [1,2,3]\n",
    "empty_lst = []\n",
    "dct = {\"a\": 1, \"b\":2}\n",
    "empty_dct = {}\n",
    "obj = object()\n",
    "none_obj = None"
   ]
  },
  {
   "cell_type": "code",
   "execution_count": null,
   "id": "484893ed-359e-496a-a63c-9af2262c8574",
   "metadata": {},
   "outputs": [],
   "source": [
    "print(bool(x))"
   ]
  },
  {
   "cell_type": "code",
   "execution_count": null,
   "id": "e017564e-93c2-43c6-959c-72d020d8d7e8",
   "metadata": {},
   "outputs": [],
   "source": [
    "print(bool(y))"
   ]
  },
  {
   "cell_type": "code",
   "execution_count": null,
   "id": "4a616e61-0620-4792-a818-bd06d24fdfab",
   "metadata": {},
   "outputs": [],
   "source": [
    "print(bool(s))"
   ]
  },
  {
   "cell_type": "code",
   "execution_count": null,
   "id": "c5ddecf8-544a-4350-a904-202b7bbbd64c",
   "metadata": {},
   "outputs": [],
   "source": [
    "print(bool(t))"
   ]
  },
  {
   "cell_type": "code",
   "execution_count": null,
   "id": "90603997-9cd5-480a-84d7-36d5aee28c80",
   "metadata": {},
   "outputs": [],
   "source": [
    "print(bool(lst))"
   ]
  },
  {
   "cell_type": "code",
   "execution_count": null,
   "id": "a0580d60-d6c6-41b5-a466-c203ced35ff5",
   "metadata": {},
   "outputs": [],
   "source": [
    "print(bool(empty_lst))"
   ]
  },
  {
   "cell_type": "code",
   "execution_count": null,
   "id": "ddfa3a97-1fb5-4083-a5b7-2d7d91934ef2",
   "metadata": {},
   "outputs": [],
   "source": [
    "print(bool(dct))"
   ]
  },
  {
   "cell_type": "code",
   "execution_count": null,
   "id": "866854ca-6ae5-4443-8da6-26de290f92d0",
   "metadata": {},
   "outputs": [],
   "source": [
    "print(bool(empty_dct))"
   ]
  },
  {
   "cell_type": "code",
   "execution_count": null,
   "id": "1dfe2500-976a-4325-8649-b531777447bf",
   "metadata": {},
   "outputs": [],
   "source": [
    "print(bool(obj))"
   ]
  },
  {
   "cell_type": "code",
   "execution_count": null,
   "id": "494f2d2f-361e-4b75-b828-f90e2a922d4f",
   "metadata": {},
   "outputs": [],
   "source": [
    "print(bool(none_obj))"
   ]
  },
  {
   "cell_type": "code",
   "execution_count": null,
   "id": "4bfcdb46-e246-4b8f-a397-379211e14646",
   "metadata": {},
   "outputs": [],
   "source": [
    "#Binary type:A bytes object is an immutables sequence of bytes, while a bytearray object is a mutable sequence.\n",
    "b = bytes([1, 2, 3, 4, 5])\n",
    "print(b)"
   ]
  },
  {
   "cell_type": "code",
   "execution_count": null,
   "id": "d27f155d-6cce-4c84-a50e-91c725c196f2",
   "metadata": {},
   "outputs": [],
   "source": [
    "s= \"Hello, World!\"\n",
    "b = s.encode()\n",
    "print(b)"
   ]
  },
  {
   "cell_type": "markdown",
   "id": "73811958-1c6e-4647-a46f-b6456d4a9fba",
   "metadata": {
    "jp-MarkdownHeadingCollapsed": true,
    "scrolled": true
   },
   "source": [
    "# Conditional Statement"
   ]
  },
  {
   "cell_type": "raw",
   "id": "7658a002-4da3-4a15-bacc-0db4283968ae",
   "metadata": {},
   "source": [
    "Python Control Statements:\n",
    "direct the flow of execution in a program,\n",
    "allowing for conditional execution\n",
    "repeated execution, and\n",
    "the selection among different paths,\n",
    "\n",
    "Python control statements\n",
    "Conditional statements: if, \n",
    "Loop statements: \n",
    "comprehension: "
   ]
  },
  {
   "cell_type": "markdown",
   "id": "221af720-d60b-44cf-9670-bafdc67ac97b",
   "metadata": {},
   "source": [
    "If Statement"
   ]
  },
  {
   "cell_type": "code",
   "execution_count": null,
   "id": "ce4a69d6-c0dd-498d-b525-680340b0f006",
   "metadata": {},
   "outputs": [],
   "source": [
    "x = 10\n",
    "y = 5\n",
    "if x>0 and y>0:\n",
    "    print(\"Both x and y are positive.\")"
   ]
  },
  {
   "cell_type": "markdown",
   "id": "2ca239ca-0054-4f2a-98f7-e401d6fd78c3",
   "metadata": {},
   "source": [
    "x = -10\n",
    "if x>0:\n",
    "    print(\"x is positive.\")\n",
    "else:\n",
    "    print(\"x is not positive.\")"
   ]
  },
  {
   "cell_type": "markdown",
   "id": "6c02cfca-8dad-40e2-a0c8-1b50711a3e4d",
   "metadata": {},
   "source": [
    "friends = {'Prabin', 'Sujan', 'Laxman'}\n",
    "user_name = input(\"Enter your name: \")\n",
    "if user_name == friends:\n",
    "    print('You are my relatives.')\n",
    "else:\n",
    "    print('Hello new person.')"
   ]
  },
  {
   "cell_type": "markdown",
   "id": "d8374590-4225-4740-9d7a-54e7c06fb789",
   "metadata": {},
   "source": [
    "x = 10 \n",
    "\n",
    "if x < 0:\n",
    "    print('x is negative')\n",
    "elif x == 0:\n",
    "    print('x is zero.')\n",
    "else:\n",
    "    print('X is positive')"
   ]
  },
  {
   "cell_type": "markdown",
   "id": "31c222ed-20ff-4e91-a7e0-755fc34190f5",
   "metadata": {},
   "source": [
    "#### Question 1: WAP to check if number is positive, negative or zero."
   ]
  },
  {
   "cell_type": "code",
   "execution_count": null,
   "id": "a08cb6c3-06de-4816-bf76-d2668cb35ecb",
   "metadata": {},
   "outputs": [],
   "source": [
    "x = int(input(\"Enter a number: \"))\n",
    "if x > 0:\n",
    "    print(f\"Given number {x} is positive.\")\n",
    "elif x < 0:\n",
    "    print(f\"Givem number {x} is negative.\")\n",
    "else:\n",
    "    print(f\"Given number {x} is nothing.\")"
   ]
  },
  {
   "cell_type": "markdown",
   "id": "19289972-8821-4909-ab3b-15fbd20ca5c0",
   "metadata": {},
   "source": [
    "#### Question 2: WAP to grade a number (100-80) Grade A, (80-60) Grade B, (60-40) Grade C and less than 40 Grade D."
   ]
  },
  {
   "cell_type": "markdown",
   "id": "434b4572-d94b-420d-a603-ade161170d51",
   "metadata": {},
   "source": [
    "```python\n",
    "Grade_number = int(input('Enter your grade: '))\n",
    "if Grade_number>=80 and Grade_number == 100:\n",
    "    print('Grade A')\n",
    "elif Grade_number>=60 and Grade_number < 80:\n",
    "    print('Grade B')\n",
    "elif Grade_number>=40 and Grade_number < 60:\n",
    "    print('Grade C')\n",
    "else: \n",
    "    print('Grade D')\n",
    "```"
   ]
  },
  {
   "cell_type": "markdown",
   "id": "96020569-45d5-41b1-9305-967c105b26b0",
   "metadata": {},
   "source": [
    "# Python Loop Statements:"
   ]
  },
  {
   "cell_type": "markdown",
   "id": "adbbad2e-09a7-48de-8837-8a839829643b",
   "metadata": {},
   "source": [
    "1. Python For loop"
   ]
  },
  {
   "cell_type": "markdown",
   "id": "837ed957-72d6-4e5d-8de3-4f1e8b144885",
   "metadata": {},
   "source": [
    "```python\n",
    "for variable in sequence:\n",
    "    do something\n",
    "```"
   ]
  },
  {
   "cell_type": "code",
   "execution_count": null,
   "id": "c13985e5-576a-4080-b9ed-8bec01007c7c",
   "metadata": {},
   "outputs": [],
   "source": [
    "#Example:\n",
    "fruits = ['apple', 'banana', 'cherry'] #For loop iterate over each element in the fruits list.\n",
    "for fruit in fruits:\n",
    "    print(fruit)"
   ]
  },
  {
   "cell_type": "markdown",
   "id": "1364124c-3fa6-4a13-93a8-e457a5d3df6a",
   "metadata": {},
   "source": [
    "The range fucntion is commonly used for loops to generate a sequrence of integers, here is an example:"
   ]
  },
  {
   "cell_type": "code",
   "execution_count": null,
   "id": "1d3545d3-f893-46d8-a64e-f204b186ca5d",
   "metadata": {},
   "outputs": [],
   "source": [
    "list(range(0,10,2))"
   ]
  },
  {
   "cell_type": "code",
   "execution_count": null,
   "id": "aa0f5bc7-599c-4251-bbff-34b7681a72ca",
   "metadata": {},
   "outputs": [],
   "source": [
    "for i in range(5):\n",
    "    print(i)"
   ]
  },
  {
   "cell_type": "markdown",
   "id": "a9d74abd-3755-456a-bcfa-63d5512238d4",
   "metadata": {},
   "source": [
    "Nested Loops:"
   ]
  },
  {
   "cell_type": "code",
   "execution_count": null,
   "id": "6767e2b1-b751-49d1-9ac9-001917ee78ec",
   "metadata": {},
   "outputs": [],
   "source": [
    "adej = [ \"red\", \"big\", \"tasty\"]\n",
    "fruits = [\"apple\", \"banana\", \"cherry\"]\n",
    "\n",
    "for a in adej:\n",
    "    for f in fruits:\n",
    "        print(a, f)"
   ]
  },
  {
   "cell_type": "markdown",
   "id": "8c768de3-9af5-41f5-acf9-be67021d2c02",
   "metadata": {},
   "source": [
    "#### Question 1: Write a Program to calculate the sum of the first N Natural Number:"
   ]
  },
  {
   "cell_type": "code",
   "execution_count": 1,
   "id": "86b0a245-64f7-48c3-8073-b4a82b1cda59",
   "metadata": {},
   "outputs": [
    {
     "name": "stdout",
     "output_type": "stream",
     "text": [
      "Enter a number:  12\n"
     ]
    },
    {
     "name": "stdout",
     "output_type": "stream",
     "text": [
      "Sum 0f 12 natural number is 78.\n"
     ]
    }
   ],
   "source": [
    "num = int(input(\"Enter a number: \"))\n",
    "sum = 0\n",
    "for value in range(num + 1):\n",
    "    sum = sum + value\n",
    "print(f\"Sum 0f {num} natural number is {sum}.\")"
   ]
  },
  {
   "cell_type": "markdown",
   "id": "4e89a30c-1e6a-46d0-8892-5bf9d9c14706",
   "metadata": {},
   "source": [
    "#### Question 2: Write a Program to Display the Multiplication Table of a Given Number:"
   ]
  },
  {
   "cell_type": "markdown",
   "id": "2ecf2565-c169-44f4-82d2-8ae4b93b5d17",
   "metadata": {},
   "source": [
    "Create a Python program that asks the user to enter an integer, and then prints the multiplication table for that number from 1 to 10. Use a for loop to generate and display the table."
   ]
  },
  {
   "cell_type": "code",
   "execution_count": null,
   "id": "7f9cd7cb-2a39-434c-8932-740155f0b304",
   "metadata": {},
   "outputs": [],
   "source": [
    "num = int(input(\"Enter a number: \"))\n",
    "for i in range(1, 11):\n",
    "    print(f\"{num} x {i} = {num*i}\")"
   ]
  },
  {
   "cell_type": "code",
   "execution_count": null,
   "id": "25df8ca4-3bdf-4235-a1ac-8dcb4f6805cb",
   "metadata": {},
   "outputs": [],
   "source": [
    "\n",
    "for i in range(1,5):\n",
    "    print(\"*\" * i)"
   ]
  },
  {
   "cell_type": "code",
   "execution_count": 3,
   "id": "309637d6-8c3c-44c9-8344-6d37c1f4dd20",
   "metadata": {},
   "outputs": [
    {
     "name": "stdout",
     "output_type": "stream",
     "text": [
      "*\n",
      "**\n",
      "***\n",
      "****\n"
     ]
    }
   ],
   "source": [
    "for i in range(1, 5):\n",
    "    for j in range(i):\n",
    "        print(\"*\", end = \"\")\n",
    "    print(\"\")"
   ]
  },
  {
   "cell_type": "markdown",
   "id": "e5b38aa0-3654-4eea-949a-836dc06504e6",
   "metadata": {},
   "source": [
    "### While Loop:"
   ]
  },
  {
   "cell_type": "code",
   "execution_count": null,
   "id": "0d4f73e6-40c6-4d0f-a75f-fcce82511c3e",
   "metadata": {},
   "outputs": [],
   "source": [
    "i = 0 \n",
    "while i<5:\n",
    "    print(i)\n",
    "    i += 1"
   ]
  },
  {
   "cell_type": "code",
   "execution_count": null,
   "id": "ce8e0b38-4579-4581-a249-fd279f346f72",
   "metadata": {},
   "outputs": [],
   "source": [
    "count = 0 \n",
    "while count<10:\n",
    "    print(count)\n",
    "    count += 1"
   ]
  },
  {
   "cell_type": "markdown",
   "id": "d45796ea-dfa0-41b2-a310-ac91748d89d6",
   "metadata": {},
   "source": [
    "Break and continue"
   ]
  },
  {
   "cell_type": "code",
   "execution_count": null,
   "id": "cf6e4211-40aa-4036-8b72-0aaf3a41d62d",
   "metadata": {},
   "outputs": [],
   "source": [
    "count = 0 \n",
    "while count < 10:\n",
    "    print(count)\n",
    "    count += 1\n",
    "    if count == 3:\n",
    "        break"
   ]
  },
  {
   "cell_type": "markdown",
   "id": "9d1fd59f-e36e-4eef-a976-6f9d706442a8",
   "metadata": {},
   "source": [
    "#### Question 1: Write a Program to calculate the sum of the first N Natural Number:"
   ]
  },
  {
   "cell_type": "code",
   "execution_count": null,
   "id": "01b61952-daae-4888-89fa-b53b48f7e1d3",
   "metadata": {},
   "outputs": [],
   "source": [
    "num = int(input(\"Enter a number: \"))\n",
    "sum = 0 \n",
    "i = 0\n",
    "while i <= num:\n",
    "    sum += num\n",
    "    i += 1\n",
    "print(f\"Sum of {num} numbers is {sum}.\")\n"
   ]
  },
  {
   "cell_type": "markdown",
   "id": "7b1a577f-37fa-423b-82c7-d45462cfb0e5",
   "metadata": {},
   "source": [
    "#### Question 2: Write a Program to Display the Multiplication Table of a Given Number:"
   ]
  },
  {
   "cell_type": "code",
   "execution_count": 4,
   "id": "d1f9473e-e759-416b-aaaf-7dbfcbe7b48f",
   "metadata": {},
   "outputs": [
    {
     "name": "stdout",
     "output_type": "stream",
     "text": [
      "Enter a number:  10\n"
     ]
    },
    {
     "name": "stdout",
     "output_type": "stream",
     "text": [
      "10 x 1 = 10\n",
      "10 x 2 = 20\n",
      "10 x 3 = 30\n",
      "10 x 4 = 40\n",
      "10 x 5 = 50\n",
      "10 x 6 = 60\n",
      "10 x 7 = 70\n",
      "10 x 8 = 80\n",
      "10 x 9 = 90\n",
      "10 x 10 = 100\n"
     ]
    }
   ],
   "source": [
    "num = int(input(\"Enter a number: \"))\n",
    "i = 1\n",
    "while i <= 10:\n",
    "    multiple = num * i\n",
    "    print(f\"{num} x {i} = {multiple}\")\n",
    "    i += 1"
   ]
  },
  {
   "cell_type": "markdown",
   "id": "a0f51aae-1d5b-47d6-904b-164ba712ed2e",
   "metadata": {},
   "source": [
    "### List Comprehensions:"
   ]
  },
  {
   "cell_type": "raw",
   "id": "63debf5a-0b48-4e7c-bed5-4d9bf2993973",
   "metadata": {},
   "source": [
    "In Python, comprehensions provide a concise way to create sequences like lists, dictionaries, sets. They are more readable and often more efficient alternative to using\n",
    "traditional loops to generate sequences.\n",
    "\n",
    "Basic Syntax:\n",
    "output = [expression for items in sequence if condition] #Comprehension is done until and unless it is produced in certain sequence. List cha vanay list ma matra hunu paryo\n",
    "Only one expression is possible for one code."
   ]
  },
  {
   "cell_type": "code",
   "execution_count": 2,
   "id": "6e5aa798-33cc-4536-9c35-2851085b973e",
   "metadata": {},
   "outputs": [
    {
     "name": "stdout",
     "output_type": "stream",
     "text": [
      "[1, 4, 9, 16, 25]\n"
     ]
    }
   ],
   "source": [
    "numbers = [1, 2, 3, 4, 5]\n",
    "squares = []\n",
    "for each in numbers:\n",
    "    squares.append(each ** 2)\n",
    "print(squares)"
   ]
  },
  {
   "cell_type": "code",
   "execution_count": 3,
   "id": "88f09539-d4e3-4eb7-9568-4226f9073454",
   "metadata": {},
   "outputs": [
    {
     "name": "stdout",
     "output_type": "stream",
     "text": [
      "[1, 4, 9, 16, 25]\n"
     ]
    }
   ],
   "source": [
    "#List comprehension way:\n",
    "squared = [num ** 2 for num in numbers]\n",
    "print(squared)"
   ]
  },
  {
   "cell_type": "markdown",
   "id": "33d97c8f-8bd8-474d-b4af-2872e8b18a45",
   "metadata": {},
   "source": [
    "##### Find the length of wach word in words = ['data', 'science', 'machine', 'learning']"
   ]
  },
  {
   "cell_type": "code",
   "execution_count": 7,
   "id": "24fc3ede-85b9-4aa8-b0f9-081f35ec1572",
   "metadata": {},
   "outputs": [
    {
     "name": "stdout",
     "output_type": "stream",
     "text": [
      "[4, 7, 7, 8]\n"
     ]
    }
   ],
   "source": [
    "words = ['data', 'science', 'machine', 'learning']\n",
    "result = []\n",
    "for word in words:\n",
    "    result.append(len(word))\n",
    "print(result)\n",
    "    "
   ]
  },
  {
   "cell_type": "code",
   "execution_count": 8,
   "id": "279f046b-9def-4f77-bca9-bfdb3179c74e",
   "metadata": {},
   "outputs": [
    {
     "name": "stdout",
     "output_type": "stream",
     "text": [
      "[4, 7, 7, 8]\n"
     ]
    }
   ],
   "source": [
    "words = ['data', 'science', 'machine', 'learning']\n",
    "Each_word = [len(word) for word in words]\n",
    "print(Each_word)"
   ]
  },
  {
   "cell_type": "code",
   "execution_count": 11,
   "id": "8b92299e-b064-4188-ba7c-3fefa249152b",
   "metadata": {},
   "outputs": [
    {
     "name": "stdout",
     "output_type": "stream",
     "text": [
      "[35, 45]\n"
     ]
    }
   ],
   "source": [
    "#List comprehension with conditions:\n",
    "ages = [32, 22, 34, 35, 45]\n",
    "odd_age = [age for age in ages if age%2==1]\n",
    "print(odd_age)"
   ]
  },
  {
   "cell_type": "code",
   "execution_count": 13,
   "id": "8d6d6756-c601-4356-ac9d-6f977d2ddcba",
   "metadata": {},
   "outputs": [
    {
     "name": "stdout",
     "output_type": "stream",
     "text": [
      "[2, 4]\n"
     ]
    }
   ],
   "source": [
    "numbers = [1,2,3,4,5,7]\n",
    "even_num = [num for num in numbers if num%2==0] \n",
    "print(even_num)"
   ]
  },
  {
   "cell_type": "code",
   "execution_count": 14,
   "id": "c80c94d5-bb99-4af9-bf78-751019c0dfec",
   "metadata": {},
   "outputs": [],
   "source": [
    "#Complex form of list comprehension.\n",
    "friends=[\"Rolf\", \"Shyam\", \"Ram\"]\n",
    "family=[\"Shyam\", \"Hari\", \"Ram\"]\n",
    "friends_lower = set([f.lower() for f in friends])\n",
    "family_lower =set([g.lower() for g in friends])\n"
   ]
  },
  {
   "cell_type": "code",
   "execution_count": 15,
   "id": "348091b6-497e-48fc-8888-6a77131e07f7",
   "metadata": {},
   "outputs": [
    {
     "name": "stdout",
     "output_type": "stream",
     "text": [
      "[('a', 1), ('a', 2), ('a', 3), ('b', 1), ('b', 2), ('b', 3), ('c', 1), ('c', 2), ('c', 3)]\n"
     ]
    }
   ],
   "source": [
    "#Nested list comprehension:\n",
    "letters = ['a', 'b', 'c']\n",
    "numbers = [1, 2, 3]\n",
    "pairs = [(letter, number) for letter in letters for number in numbers]\n",
    "print(pairs)"
   ]
  },
  {
   "cell_type": "code",
   "execution_count": 17,
   "id": "649f6cd9-910c-45cc-baef-3baefa0097a0",
   "metadata": {},
   "outputs": [
    {
     "name": "stdout",
     "output_type": "stream",
     "text": [
      "[('red', 'apple'), ('red', 'banana'), ('red', 'Melon'), ('big', 'apple'), ('big', 'banana'), ('big', 'Melon'), ('ripe', 'apple'), ('ripe', 'banana'), ('ripe', 'Melon')]\n"
     ]
    }
   ],
   "source": [
    "adj = [\"red\", \"big\", \"ripe\"]\n",
    "fruits = [\"apple\", \"banana\", \"Melon\"]\n",
    "pairs = [(a, f) for a in adj for f in fruits ]\n",
    "print(pairs)"
   ]
  },
  {
   "cell_type": "markdown",
   "id": "dac3e68c-183d-4f43-ac35-6b6877e5e553",
   "metadata": {},
   "source": [
    "#### Write a Python program that uses list comprehension to create a list containing the double of all positive numbers from the following list: [-2, -1, 0, 1, 2, 3, 4]. Print the final list."
   ]
  },
  {
   "cell_type": "code",
   "execution_count": 45,
   "id": "2ae2cb37-8962-4c69-bb99-691651223341",
   "metadata": {},
   "outputs": [
    {
     "name": "stdout",
     "output_type": "stream",
     "text": [
      "[2, 4, 6, 8]\n"
     ]
    }
   ],
   "source": [
    "lst = [-2, -1, 0, 1, 2, 3, 4]\n",
    "positive_num_doubled = [li * 2 for li in lst if li>0]\n",
    "print(positive_num_doubled)"
   ]
  },
  {
   "cell_type": "markdown",
   "id": "4d15b43d-fdf4-4809-aa68-e1131a559807",
   "metadata": {},
   "source": [
    "### Dictionary Comrehension:"
   ]
  },
  {
   "cell_type": "raw",
   "id": "1fe33d82-53d6-420b-b6d5-b6e262b0e048",
   "metadata": {},
   "source": [
    "basic syntax:\n",
    "new_dict = {key_expression: value_expression for item in iterable if condition}"
   ]
  },
  {
   "cell_type": "code",
   "execution_count": 23,
   "id": "797f4ff5-d1fa-4f57-a526-4f1b605a8988",
   "metadata": {},
   "outputs": [],
   "source": [
    " #dict ={key = value for item in iterable if condition}"
   ]
  },
  {
   "cell_type": "code",
   "execution_count": 25,
   "id": "b5973889-72bf-4c7f-85ad-03a223791cd5",
   "metadata": {},
   "outputs": [
    {
     "name": "stdout",
     "output_type": "stream",
     "text": [
      "{1: 1, 3: 9, 5: 25}\n"
     ]
    }
   ],
   "source": [
    "numbers = [1, 2, 3, 4, 5]\n",
    "odds_dict = {}\n",
    "for num in range(1,6):\n",
    "    if num%2 != 0:\n",
    "        odds_dict[num] =num **2\n",
    "print(odds_dict)"
   ]
  },
  {
   "cell_type": "code",
   "execution_count": 26,
   "id": "0a1be91b-5131-40af-b867-bc9c29e8cf3f",
   "metadata": {},
   "outputs": [
    {
     "name": "stdout",
     "output_type": "stream",
     "text": [
      "{1: 1, 2: 4, 3: 9, 4: 16, 5: 25}\n"
     ]
    }
   ],
   "source": [
    "numbers = [1, 2, 3, 4, 5]\n",
    "odds_dict = {num:num**2 for num in numbers if num!=0}\n",
    "print(odds_dict)"
   ]
  },
  {
   "cell_type": "markdown",
   "id": "6b8e5725-38cd-4211-b667-1f7670dde94f",
   "metadata": {},
   "source": [
    "##### Find the length of wach word in words = ['data', 'science', 'machine', 'learning'] ans store as {word:length ...}"
   ]
  },
  {
   "cell_type": "code",
   "execution_count": 27,
   "id": "703d3fb5-f1c2-4cf9-ab02-0a824948caf4",
   "metadata": {},
   "outputs": [
    {
     "name": "stdout",
     "output_type": "stream",
     "text": [
      "{'data': 4, 'science': 7, 'machine': 7, 'learning': 8}\n"
     ]
    }
   ],
   "source": [
    "words = ['data', 'science', 'machine', 'learning']\n",
    "word_with_dict = {word:len(word) for word in words}\n",
    "print(word_with_dict)"
   ]
  },
  {
   "cell_type": "markdown",
   "id": "6d763fe9-73b4-4ff4-8945-a279d8591d4a",
   "metadata": {},
   "source": [
    "##### Find the length of wach word in words =  ['data', 'science', 'machine', 'learning', 'deep', 'python', 'dict']\n",
    "#### Also add a condition if word is that have length 5 or greater."
   ]
  },
  {
   "cell_type": "code",
   "execution_count": 30,
   "id": "c8646e6f-cf20-4fd8-929a-97669d2d92c8",
   "metadata": {},
   "outputs": [
    {
     "name": "stdout",
     "output_type": "stream",
     "text": [
      "{'science': 7, 'machine': 7, 'learning': 8, 'python': 6}\n"
     ]
    }
   ],
   "source": [
    "words = ['data', 'science', 'machine', 'learning', 'deep', 'python', 'dict']\n",
    "word_with_dict = {word:len(word) for word in words if len(word)>=5}\n",
    "print(word_with_dict)"
   ]
  },
  {
   "cell_type": "markdown",
   "id": "91d95a23-1297-4b07-9c3f-7ef875aa7327",
   "metadata": {},
   "source": [
    "### Set Comprehension"
   ]
  },
  {
   "cell_type": "raw",
   "id": "85298bd7-0015-4213-bc28-85ca3d2e1b9c",
   "metadata": {},
   "source": [
    "Set comprehension is a concise way to create a new set by transforming an exisiting iterable (such as list or tuple). It provides a compact syntax for mapping \n",
    "a given iterable to a new set by specific expression to each element in the iterable."
   ]
  },
  {
   "cell_type": "raw",
   "id": "4bc85634-3e87-4c7b-9d89-6a9d9341a389",
   "metadata": {},
   "source": [
    "#Basic Syntax\n",
    "new_set = {expression for item in iterable if condition}"
   ]
  },
  {
   "cell_type": "code",
   "execution_count": 32,
   "id": "131ad1e2-6203-4f10-81fd-17c96495abec",
   "metadata": {},
   "outputs": [
    {
     "name": "stdout",
     "output_type": "stream",
     "text": [
      "{2, 4, 6, 8, 10}\n"
     ]
    }
   ],
   "source": [
    "numbers = [1, 2, 3, 4, 5]\n",
    "result = {each * 2 for each in numbers}\n",
    "print(result)"
   ]
  },
  {
   "cell_type": "code",
   "execution_count": 33,
   "id": "a282b945-3897-412f-9db4-f984568dcd07",
   "metadata": {},
   "outputs": [
    {
     "name": "stdout",
     "output_type": "stream",
     "text": [
      "{8, 2, 6}\n"
     ]
    }
   ],
   "source": [
    "numbers = {-2, -1, 0, 1, 3, 4, 3}\n",
    "result = {each * 2 for each in numbers if each > 0}\n",
    "print(result)"
   ]
  },
  {
   "cell_type": "code",
   "execution_count": 34,
   "id": "fc28185c-4779-4c4b-8c72-4e6433e7a78a",
   "metadata": {},
   "outputs": [],
   "source": [
    "#nested set\n"
   ]
  },
  {
   "cell_type": "markdown",
   "id": "0f037f50-f4d8-4408-8803-6150ccce7abf",
   "metadata": {},
   "source": [
    "#### Write a Python program that uses set comprehension to create a set of all unique vowels found in the following string: \"Hello, world!\". Print the set."
   ]
  },
  {
   "cell_type": "code",
   "execution_count": 50,
   "id": "b04c33e8-a334-4da8-9beb-04f4d4dcdb7b",
   "metadata": {},
   "outputs": [
    {
     "name": "stdout",
     "output_type": "stream",
     "text": [
      "{'e', 'o'}\n",
      "{'e', 'o'}\n"
     ]
    }
   ],
   "source": [
    "string = \"Hello, world!\"\n",
    "vowels = set('aeiou')\n",
    "\n",
    "results = {vow for vow in string if vow in vowels}\n",
    "print(results)\n",
    "\n",
    "result = {vow for vow in string for vowel in vowels if vowel==vow}\n",
    "print(result)"
   ]
  },
  {
   "cell_type": "code",
   "execution_count": 52,
   "id": "a937a58a-d755-41f6-90a8-da927dc96555",
   "metadata": {},
   "outputs": [
    {
     "name": "stdout",
     "output_type": "stream",
     "text": [
      "{'a', 'e', 'o', 'i', 'u'}\n"
     ]
    }
   ],
   "source": [
    "sent = \"The quick brown for jump over a lazy dog\"\n",
    "vowels = set(\"aeiou\")\n",
    "output = {char for char in sent if char in vowels}\n",
    "print(output)"
   ]
  },
  {
   "cell_type": "code",
   "execution_count": 54,
   "id": "b1a63a1b-13a2-4809-8c52-9dcd6e8b3574",
   "metadata": {},
   "outputs": [
    {
     "name": "stdout",
     "output_type": "stream",
     "text": [
      "{',', 'e', 'W', '!', 'o', 'r', 'l', ' ', 'H', 'd'}\n"
     ]
    }
   ],
   "source": [
    "sent = set(\"Hello, World!\") #String ko bhitra ko sabbai element niskincha\n",
    "print(sent)"
   ]
  },
  {
   "cell_type": "markdown",
   "id": "ce433900-fc4c-4590-b9b9-5ec46c1ca3a6",
   "metadata": {},
   "source": [
    "# Functions in Python:"
   ]
  },
  {
   "cell_type": "markdown",
   "id": "c8c3127f-0655-4265-9567-391a213336fd",
   "metadata": {},
   "source": [
    "## Built-in Function:"
   ]
  },
  {
   "cell_type": "markdown",
   "id": "2b43e3df-6fb4-4d51-a68f-c8d164817f37",
   "metadata": {},
   "source": [
    "### 1. print()"
   ]
  },
  {
   "cell_type": "raw",
   "id": "f20e8df0-9306-428b-93d4-05b9e9b2adfb",
   "metadata": {},
   "source": [
    "In python print function ate used to perform output task in your code"
   ]
  },
  {
   "cell_type": "code",
   "execution_count": 2,
   "id": "15d5af16-fdb4-4e13-bfe3-631ad9fd1a38",
   "metadata": {},
   "outputs": [
    {
     "name": "stdout",
     "output_type": "stream",
     "text": [
      "The sum of y is: 8\n",
      "x is  y is  8\n",
      "Hello, woeld\n",
      "Hello world"
     ]
    }
   ],
   "source": [
    "x = 6\n",
    "y = x + 2\n",
    "print(\"The sum of y is:\", y) #Printing a variable value.\n",
    "print(\"x is \", x and \"y is \", y) #Printing multiple items using commas to separate them.\n",
    "print(\"Hello, woeld\", sep=\"-\") #Using swparator\n",
    "print(\"Hello world\", end=\"\") #Using end at line"
   ]
  },
  {
   "cell_type": "markdown",
   "id": "8226c4bb-8d97-4203-8ba3-290f50ec4d4c",
   "metadata": {},
   "source": [
    "### 2.type()"
   ]
  },
  {
   "cell_type": "code",
   "execution_count": 3,
   "id": "536af127-4132-4cf0-abf4-0109199cb9a8",
   "metadata": {},
   "outputs": [
    {
     "name": "stdout",
     "output_type": "stream",
     "text": [
      "<class 'int'>\n",
      "<class 'str'>\n",
      "<class 'float'>\n"
     ]
    }
   ],
   "source": [
    "print(type(12))\n",
    "print(type(\"Hello, woeld!\"))\n",
    "print(type(3.13))"
   ]
  },
  {
   "cell_type": "markdown",
   "id": "c7eeb197-198f-4231-9174-dbe2464a6a38",
   "metadata": {},
   "source": [
    "### 3. input()"
   ]
  },
  {
   "cell_type": "raw",
   "id": "6f979846-3410-420f-9f3b-e86632c5aa7e",
   "metadata": {},
   "source": [
    "Tn Python, the input() function is used to accept input from the user to enter a calue and then return the entered calue as a string."
   ]
  },
  {
   "cell_type": "code",
   "execution_count": 19,
   "id": "d3dc9132-e6c0-4cfa-88df-f19812b46145",
   "metadata": {},
   "outputs": [
    {
     "name": "stdin",
     "output_type": "stream",
     "text": [
      "Enter your name:  Prabin\n"
     ]
    },
    {
     "name": "stdout",
     "output_type": "stream",
     "text": [
      "My name is Prabin\n"
     ]
    }
   ],
   "source": [
    "name = input(\"Enter your name: \")\n",
    "print(f\"My name is {name}\")"
   ]
  },
  {
   "cell_type": "markdown",
   "id": "7b812b41-ca9f-4340-8345-cafa7cddbfa6",
   "metadata": {},
   "source": [
    "### 4. len()"
   ]
  },
  {
   "cell_type": "raw",
   "id": "6c996201-7ac1-45eb-9a01-c55ac8495f40",
   "metadata": {},
   "source": [
    "In python, len() function is used to get the length of a sequence (list, tuple). "
   ]
  },
  {
   "cell_type": "code",
   "execution_count": null,
   "id": "04748f63-7ac1-49e9-925c-cf2747b99b7f",
   "metadata": {},
   "outputs": [],
   "source": []
  },
  {
   "cell_type": "markdown",
   "id": "57268445-adbc-4534-8726-6689fa34378f",
   "metadata": {},
   "source": [
    "### 5. open()"
   ]
  },
  {
   "cell_type": "raw",
   "id": "8c479e84-5c32-417c-83e2-17a6ea8ba661",
   "metadata": {},
   "source": [
    "In python the open() fucntion is used to open a file and return a file object."
   ]
  },
  {
   "cell_type": "code",
   "execution_count": 34,
   "id": "549a2596-dc7b-4c39-9951-e9976275138c",
   "metadata": {},
   "outputs": [
    {
     "name": "stdout",
     "output_type": "stream",
     "text": [
      "# vritEducation\n",
      "It is about storing our code files inside it. It is specially from vrit education purpose.\n",
      "\n"
     ]
    }
   ],
   "source": [
    "file = open(\"README.md\", \"r\") #open a file for reading only\n",
    "contents =file.read()  #Read the contents in the files\n",
    "print(contents) \n",
    "file.close() # close the file"
   ]
  },
  {
   "cell_type": "raw",
   "id": "a5d9b236-9789-483e-8d28-0588c3dfb3c3",
   "metadata": {},
   "source": [
    "There are 6 access modes in Python:\n",
    "a. Read only('r')\n",
    "b. Read and Write{'r+')\n",
    "c. Write only ('w') #It will erase all the existing things and start to write\n",
    "d. Write and Read ('w+')\n",
    "e. Append only ('a')\n",
    "f. Append and Read('a+')"
   ]
  },
  {
   "cell_type": "markdown",
   "id": "04cab4e0-d376-4f18-b496-1bd17e13eccf",
   "metadata": {},
   "source": [
    "### 6. dir()"
   ]
  },
  {
   "cell_type": "code",
   "execution_count": 35,
   "id": "2970e9c8-e4e3-4999-b26a-b3bb6e96fd49",
   "metadata": {},
   "outputs": [
    {
     "name": "stdout",
     "output_type": "stream",
     "text": [
      "['__add__', '__class__', '__contains__', '__delattr__', '__dir__', '__doc__', '__eq__', '__format__', '__ge__', '__getattribute__', '__getitem__', '__getnewargs__', '__getstate__', '__gt__', '__hash__', '__init__', '__init_subclass__', '__iter__', '__le__', '__len__', '__lt__', '__mod__', '__mul__', '__ne__', '__new__', '__reduce__', '__reduce_ex__', '__repr__', '__rmod__', '__rmul__', '__setattr__', '__sizeof__', '__str__', '__subclasshook__', 'capitalize', 'casefold', 'center', 'count', 'encode', 'endswith', 'expandtabs', 'find', 'format', 'format_map', 'index', 'isalnum', 'isalpha', 'isascii', 'isdecimal', 'isdigit', 'isidentifier', 'islower', 'isnumeric', 'isprintable', 'isspace', 'istitle', 'isupper', 'join', 'ljust', 'lower', 'lstrip', 'maketrans', 'partition', 'removeprefix', 'removesuffix', 'replace', 'rfind', 'rindex', 'rjust', 'rpartition', 'rsplit', 'rstrip', 'split', 'splitlines', 'startswith', 'strip', 'swapcase', 'title', 'translate', 'upper', 'zfill']\n"
     ]
    }
   ],
   "source": [
    "x = \"Hello\"\n",
    "print(dir(x))"
   ]
  },
  {
   "cell_type": "code",
   "execution_count": 36,
   "id": "086f7bbe-9532-41c2-8285-1be342ae3c85",
   "metadata": {},
   "outputs": [
    {
     "data": {
      "text/plain": [
       "['In',\n",
       " 'Out',\n",
       " '_',\n",
       " '_23',\n",
       " '_29',\n",
       " '_8',\n",
       " '__',\n",
       " '___',\n",
       " '__builtin__',\n",
       " '__builtins__',\n",
       " '__doc__',\n",
       " '__loader__',\n",
       " '__name__',\n",
       " '__package__',\n",
       " '__session__',\n",
       " '__spec__',\n",
       " '_dh',\n",
       " '_i',\n",
       " '_i1',\n",
       " '_i10',\n",
       " '_i11',\n",
       " '_i12',\n",
       " '_i13',\n",
       " '_i14',\n",
       " '_i15',\n",
       " '_i16',\n",
       " '_i17',\n",
       " '_i18',\n",
       " '_i19',\n",
       " '_i2',\n",
       " '_i20',\n",
       " '_i21',\n",
       " '_i22',\n",
       " '_i23',\n",
       " '_i24',\n",
       " '_i25',\n",
       " '_i26',\n",
       " '_i27',\n",
       " '_i28',\n",
       " '_i29',\n",
       " '_i3',\n",
       " '_i30',\n",
       " '_i31',\n",
       " '_i32',\n",
       " '_i33',\n",
       " '_i34',\n",
       " '_i35',\n",
       " '_i36',\n",
       " '_i4',\n",
       " '_i5',\n",
       " '_i6',\n",
       " '_i7',\n",
       " '_i8',\n",
       " '_i9',\n",
       " '_ih',\n",
       " '_ii',\n",
       " '_iii',\n",
       " '_oh',\n",
       " 'contents',\n",
       " 'doubled_list',\n",
       " 'exit',\n",
       " 'file',\n",
       " 'get_ipython',\n",
       " 'i',\n",
       " 'list',\n",
       " 'list1',\n",
       " 'list2',\n",
       " 'lst',\n",
       " 'lst1',\n",
       " 'lst2',\n",
       " 'my_list',\n",
       " 'name',\n",
       " 'names',\n",
       " 'open',\n",
       " 'quit',\n",
       " 'x',\n",
       " 'y',\n",
       " 'zipped_list']"
      ]
     },
     "execution_count": 36,
     "metadata": {},
     "output_type": "execute_result"
    }
   ],
   "source": [
    "dir()"
   ]
  },
  {
   "cell_type": "markdown",
   "id": "c6ce89e7-7dca-4a1d-b403-77b801f47689",
   "metadata": {},
   "source": [
    "### 7. enumerate()"
   ]
  },
  {
   "cell_type": "raw",
   "id": "3cbed248-a90b-490b-a419-24d932936220",
   "metadata": {},
   "source": [
    "In Python the enumerate() function use to iterate over a sequence such as list or tuple and return a sequence of tuple containing the index and value of each element in the original sequence,"
   ]
  },
  {
   "cell_type": "code",
   "execution_count": 37,
   "id": "7a11700e-2af4-4a47-9839-491edc958385",
   "metadata": {},
   "outputs": [
    {
     "name": "stdout",
     "output_type": "stream",
     "text": [
      "(0, 'Ram')\n",
      "(1, 'Alice')\n",
      "(2, 'Rolf')\n",
      "(1, 'Ram')\n",
      "(2, 'Alice')\n",
      "(3, 'Rolf')\n",
      "1 Ram\n",
      "2 Alice\n",
      "3 Rolf\n"
     ]
    }
   ],
   "source": [
    "names = [\"Ram\", \"Alice\", \"Rolf\"]\n",
    "for name in enumerate(names):\n",
    "    print(name)\n",
    "\n",
    "for name in enumerate(names, start=1):\n",
    "    print(name)\n",
    "\n",
    "for i, name in enumerate(names, 1):\n",
    "    print(i, name)"
   ]
  },
  {
   "cell_type": "markdown",
   "id": "c7a05388-f621-4c41-965f-7c57aedf7e08",
   "metadata": {},
   "source": [
    "### 8. zip()"
   ]
  },
  {
   "cell_type": "raw",
   "id": "d09a32d4-20a7-4aa5-96d5-17bd3ba41a4a",
   "metadata": {},
   "source": [
    "The zip() function in python is used to combine two or more iterables[e.g. lists or tuples) into a single iterables that returns tuples containing the corresponding elements from each input iterable."
   ]
  },
  {
   "cell_type": "code",
   "execution_count": 48,
   "id": "58c14e3d-e99b-4210-bc61-7ea1d8bfe16f",
   "metadata": {},
   "outputs": [
    {
     "ename": "TypeError",
     "evalue": "'list' object is not callable",
     "output_type": "error",
     "traceback": [
      "\u001b[1;31m---------------------------------------------------------------------------\u001b[0m",
      "\u001b[1;31mTypeError\u001b[0m                                 Traceback (most recent call last)",
      "Cell \u001b[1;32mIn[48], line 3\u001b[0m\n\u001b[0;32m      1\u001b[0m lst1 \u001b[38;5;241m=\u001b[39m [\u001b[38;5;124m'\u001b[39m\u001b[38;5;124ma\u001b[39m\u001b[38;5;124m'\u001b[39m, \u001b[38;5;124m'\u001b[39m\u001b[38;5;124mb\u001b[39m\u001b[38;5;124m'\u001b[39m, \u001b[38;5;124m'\u001b[39m\u001b[38;5;124mc\u001b[39m\u001b[38;5;124m'\u001b[39m]\n\u001b[0;32m      2\u001b[0m lst2 \u001b[38;5;241m=\u001b[39m [\u001b[38;5;241m1\u001b[39m, \u001b[38;5;241m2\u001b[39m]\n\u001b[1;32m----> 3\u001b[0m zipped_list \u001b[38;5;241m=\u001b[39m \u001b[38;5;28;43mlist\u001b[39;49m\u001b[43m(\u001b[49m\u001b[38;5;28;43mzip\u001b[39;49m\u001b[43m(\u001b[49m\u001b[43mlst1\u001b[49m\u001b[43m,\u001b[49m\u001b[43m \u001b[49m\u001b[43mlst2\u001b[49m\u001b[43m)\u001b[49m\u001b[43m)\u001b[49m\n\u001b[0;32m      4\u001b[0m \u001b[38;5;28mprint\u001b[39m(zipped_list)\n",
      "\u001b[1;31mTypeError\u001b[0m: 'list' object is not callable"
     ]
    }
   ],
   "source": [
    "lst1 = ['a', 'b', 'c']\n",
    "lst2 = [1, 2]\n",
    "zipped_list = list(zip(lst1, lst2))\n",
    "print(zipped_list)"
   ]
  },
  {
   "cell_type": "code",
   "execution_count": 50,
   "id": "66724c91-f950-494b-a023-54f0aedc0715",
   "metadata": {},
   "outputs": [
    {
     "data": {
      "text/plain": [
       "[1, 2, 3, 4, 5, 6]"
      ]
     },
     "execution_count": 50,
     "metadata": {},
     "output_type": "execute_result"
    }
   ],
   "source": [
    "list"
   ]
  },
  {
   "cell_type": "markdown",
   "id": "2b8b8ea2-54c3-4563-8aff-92dc0a00bbda",
   "metadata": {},
   "source": [
    "### 9. map()"
   ]
  },
  {
   "cell_type": "raw",
   "id": "a33778b3-7eb2-4a63-b452-72a55a8a79e2",
   "metadata": {},
   "source": [
    "The map() function in python applies a given function to eaxh item of an iterable(e.g. tuple or list) and return a map object."
   ]
  },
  {
   "cell_type": "code",
   "execution_count": 17,
   "id": "b4ed05de-ff54-4e54-9dab-b864f1b16808",
   "metadata": {},
   "outputs": [
    {
     "ename": "TypeError",
     "evalue": "'list' object is not callable",
     "output_type": "error",
     "traceback": [
      "\u001b[1;31m---------------------------------------------------------------------------\u001b[0m",
      "\u001b[1;31mTypeError\u001b[0m                                 Traceback (most recent call last)",
      "Cell \u001b[1;32mIn[17], line 2\u001b[0m\n\u001b[0;32m      1\u001b[0m my_list \u001b[38;5;241m=\u001b[39m [\u001b[38;5;241m1\u001b[39m, \u001b[38;5;241m2\u001b[39m, \u001b[38;5;241m3\u001b[39m, \u001b[38;5;241m4\u001b[39m, \u001b[38;5;241m5\u001b[39m]\n\u001b[1;32m----> 2\u001b[0m doubled_list \u001b[38;5;241m=\u001b[39m \u001b[38;5;28;43mlist\u001b[39;49m\u001b[43m(\u001b[49m\u001b[38;5;28;43mmap\u001b[39;49m\u001b[43m(\u001b[49m\u001b[38;5;28;43;01mlambda\u001b[39;49;00m\u001b[43m \u001b[49m\u001b[43mx\u001b[49m\u001b[43m:\u001b[49m\u001b[43m \u001b[49m\u001b[43mx\u001b[49m\u001b[38;5;241;43m*\u001b[39;49m\u001b[43m \u001b[49m\u001b[38;5;241;43m2\u001b[39;49m\u001b[43m,\u001b[49m\u001b[43m \u001b[49m\u001b[43mmy_list\u001b[49m\u001b[43m)\u001b[49m\u001b[43m)\u001b[49m\n\u001b[0;32m      3\u001b[0m \u001b[38;5;28mprint\u001b[39m(doubled_list)\n",
      "\u001b[1;31mTypeError\u001b[0m: 'list' object is not callable"
     ]
    }
   ],
   "source": [
    "my_list = [1, 2, 3, 4, 5]\n",
    "doubled_list = list(map(lambda x: x* 2, my_list))\n",
    "print(doubled_list)"
   ]
  },
  {
   "cell_type": "markdown",
   "id": "005b119a-dd95-4e1a-8f7e-980ba24e8b99",
   "metadata": {},
   "source": [
    "## User-Defined Function:"
   ]
  },
  {
   "cell_type": "raw",
   "id": "3b61475f-ce42-4765-95fd-2c4834151365",
   "metadata": {},
   "source": [
    "Basic Syntax\n",
    "def define_function(arg1, arg2, ......):\n",
    "    ```Documentation```\n",
    "    do something"
   ]
  },
  {
   "cell_type": "code",
   "execution_count": 25,
   "id": "315f87bd-d51d-41c7-bda7-ef85cb50269c",
   "metadata": {},
   "outputs": [
    {
     "name": "stdout",
     "output_type": "stream",
     "text": [
      "Positional Arguments\n",
      "Hello\n",
      "Shyam\n",
      "3\n",
      "-------------------------\n",
      "Keyword Arguments\n",
      "name :  Prabin\n",
      "gender :  Male\n",
      "age :  22\n",
      "None\n"
     ]
    }
   ],
   "source": [
    "def arguments(*arg, **kwarg):\n",
    "    print(\"Positional Arguments\")\n",
    "    for value in arg:\n",
    "        print(value)\n",
    "    print(\"-\" *25)\n",
    "    print(\"Keyword Arguments\")\n",
    "    for key, value in kwarg.items():\n",
    "        print(key, \": \", value)\n",
    "\n",
    "print(arguments(\"Hello\", \"Shyam\", 3, name=\"Prabin\", gender=\"Male\", age=22))"
   ]
  },
  {
   "cell_type": "markdown",
   "id": "d03ff0e9-6584-40ed-b7f5-a22be67bf545",
   "metadata": {},
   "source": [
    "#### Calculate st deviation:"
   ]
  },
  {
   "cell_type": "code",
   "execution_count": 16,
   "id": "1e66d894-5399-46d4-8a6d-1f3e69623591",
   "metadata": {},
   "outputs": [
    {
     "name": "stdout",
     "output_type": "stream",
     "text": [
      "1.707825127659933\n"
     ]
    }
   ],
   "source": [
    "import math \n",
    "from math import sqrt\n",
    "def std_deviation(lst):\n",
    "    N = len(lst)\n",
    "    x_bar = sum(lst)/ N\n",
    "    square = sum((x-x_bar)**2 for x in lst)\n",
    "    std_deviation = sqrt(square/ N)\n",
    "    return std_deviation\n",
    "print(std_deviation([1, 2, 3, 4, 5, 6]))"
   ]
  },
  {
   "cell_type": "markdown",
   "id": "6151159a-4fc2-44af-bc64-68d91b0fdfac",
   "metadata": {},
   "source": [
    "### Area of FOur walls : \n",
    "\n",
    "function ( h,  l,  b) =  2h ( l + b )"
   ]
  },
  {
   "cell_type": "code",
   "execution_count": 17,
   "id": "dd0dbc54-6313-48ea-8217-e6b2b62308ba",
   "metadata": {},
   "outputs": [
    {
     "name": "stdout",
     "output_type": "stream",
     "text": [
      "60\n"
     ]
    }
   ],
   "source": [
    "def area_wall(l,b,h):\n",
    "    area = 2 * ( l + b) * h\n",
    "    return area\n",
    "\n",
    "print(area_wall(1, 4, 6))\n",
    "    "
   ]
  },
  {
   "cell_type": "markdown",
   "id": "b70d622e-51bd-4b2d-97fd-5ca794fd080f",
   "metadata": {},
   "source": [
    "### Class Discussion :\n",
    "### **Write a Program to Define a Function `describe_pet`** that accepts a variable number of keyword arguments (`**kwargs`).\n",
    "\n",
    "The function should print the details of these keyword arguments as \"property: value\". Call this function with pet details like name, age, and type.\n",
    " "
   ]
  },
  {
   "cell_type": "code",
   "execution_count": 18,
   "id": "bbbf29ad-00ce-4a2f-a563-962815e4b1c7",
   "metadata": {},
   "outputs": [
    {
     "name": "stdout",
     "output_type": "stream",
     "text": [
      "name : Volcano\n",
      "age : 4\n",
      "type : Classic\n",
      "None\n"
     ]
    }
   ],
   "source": [
    "def describe_pet(**kwarg):\n",
    "    for key, value in kwarg.items():\n",
    "        print(f\"{key} : {value}\")\n",
    "        \n",
    "print(describe_pet(name = \"Volcano\", age = 4, type = \"Classic\"))"
   ]
  },
  {
   "cell_type": "markdown",
   "id": "24a5240a-86db-49d1-8f82-7adda2a91bc2",
   "metadata": {},
   "source": [
    "## lambda Function:"
   ]
  },
  {
   "cell_type": "raw",
   "id": "63310619-0a66-4f34-8de7-fb804c2f64e7",
   "metadata": {},
   "source": [
    "Basic SyntaxL\n",
    "lambda arguments : expressions"
   ]
  },
  {
   "cell_type": "code",
   "execution_count": 19,
   "id": "9d096b98-93e2-4fda-bf6e-9f2614322d7d",
   "metadata": {},
   "outputs": [
    {
     "name": "stdout",
     "output_type": "stream",
     "text": [
      "4\n"
     ]
    }
   ],
   "source": [
    "x = lambda a, b : a+b\n",
    "print(x(1, 3))\n"
   ]
  },
  {
   "cell_type": "code",
   "execution_count": null,
   "id": "8365f1d1-e52e-43b9-90ed-915de54aa7c3",
   "metadata": {},
   "outputs": [],
   "source": []
  },
  {
   "cell_type": "markdown",
   "id": "25769c12-9f1f-454c-b230-27ed73922577",
   "metadata": {},
   "source": []
  },
  {
   "cell_type": "raw",
   "id": "7580fe68-0a6e-4850-9ace-3d50ed8147bd",
   "metadata": {},
   "source": []
  },
  {
   "cell_type": "code",
   "execution_count": 42,
   "id": "dd8a7883-8f2a-4a1b-af71-c4c701245f0f",
   "metadata": {},
   "outputs": [],
   "source": [
    "\n"
   ]
  },
  {
   "cell_type": "code",
   "execution_count": null,
   "id": "b11872b9-2ad1-4c07-a5bd-b1dd7098df99",
   "metadata": {},
   "outputs": [],
   "source": []
  }
 ],
 "metadata": {
  "kernelspec": {
   "display_name": "Python 3 (ipykernel)",
   "language": "python",
   "name": "python3"
  },
  "language_info": {
   "codemirror_mode": {
    "name": "ipython",
    "version": 3
   },
   "file_extension": ".py",
   "mimetype": "text/x-python",
   "name": "python",
   "nbconvert_exporter": "python",
   "pygments_lexer": "ipython3",
   "version": "3.12.2"
  }
 },
 "nbformat": 4,
 "nbformat_minor": 5
}
