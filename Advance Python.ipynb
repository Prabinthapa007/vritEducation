{
 "cells": [
  {
   "cell_type": "markdown",
   "id": "8ab44e92-9cb9-4dad-b004-f131a261fd26",
   "metadata": {},
   "source": [
    "# Python Decorators"
   ]
  },
  {
   "cell_type": "markdown",
   "id": "6d23cc05-21bb-45ab-9c96-d3b7455f7c32",
   "metadata": {},
   "source": [
    "In Python, a decorator is a special kind of function that can be used to modify the behavior of another function. Decorators are indicated by the `@` symbol followed by the name of the decorator function, and they are placed immediately before the function that they modify. Here's an example:"
   ]
  },
  {
   "cell_type": "code",
   "execution_count": 1,
   "id": "21f29d13-2f8b-4b8e-aa36-56906b6c0676",
   "metadata": {},
   "outputs": [
    {
     "name": "stdout",
     "output_type": "stream",
     "text": [
      "Before function execution\n",
      "Hello, world!\n",
      "After function execution.\n"
     ]
    }
   ],
   "source": [
    "def my_decorator(func):\n",
    "    def wrapper():\n",
    "        print(\"Before function execution\")\n",
    "        func()\n",
    "        print(\"After function execution.\")\n",
    "    return wrapper\n",
    "\n",
    "@my_decorator\n",
    "def say_hello():\n",
    "    print(\"Hello, world!\")\n",
    "\n",
    "say_hello()"
   ]
  },
  {
   "cell_type": "markdown",
   "id": "43325189-93e8-4198-81d2-252f0f012e5b",
   "metadata": {},
   "source": [
    "In this example, we define a decorator function `my_decorator` that takes a function `func` as an argument. The decorator function defines an inner function `wrapper` that prints a message before and after calling the original function `func`. The decorator function then returns the `wrapper` function.\n",
    "\n",
    "To apply the decorator to a function, we simply add the `@my_decorator` annotation immediately before the function definition. In this case, we are decorating the `say_hello` function. When we call `say_hello()`, the decorator function `my_decorator` is called with `say_hello` as its argument. The decorator returns the `wrapper` function, which is then used to call the original `say_hello` function.\n",
    "\n",
    "Decorators can also take arguments. For example:"
   ]
  },
  {
   "cell_type": "code",
   "execution_count": 4,
   "id": "1a585dd5-ea52-418c-93b6-1e95fce51f6b",
   "metadata": {},
   "outputs": [
    {
     "name": "stdout",
     "output_type": "stream",
     "text": [
      "It will run 3 times.\n",
      "Hello, Punk\n",
      "Hello, Punk\n",
      "Hello, Punk\n"
     ]
    }
   ],
   "source": [
    "def repeat(n):\n",
    "    def decorator(funct):\n",
    "        def wrapper(*args, **kwargs):\n",
    "            print(f\"It will run {n} times.\")\n",
    "            for i in range(n):\n",
    "                funct(*args, **kwargs)\n",
    "        return wrapper\n",
    "    return decorator\n",
    "\n",
    "@repeat(3)\n",
    "def say_hello(name):\n",
    "    print(f\"Hello, {name}\")\n",
    "\n",
    "say_hello('Punk')"
   ]
  },
  {
   "cell_type": "markdown",
   "id": "1269e446-3824-4906-a410-47f5456ceb23",
   "metadata": {},
   "source": [
    "In this example, `repeat` is a function that takes an argument `n` and returns another function `decorator`. The `decorator` function takes a function `funct` as an argument and returns a new function `wrapper`. The `wrapper` function takes any number of positional and keyword arguments, calls `funct` with those arguments `n` times, and discards the results.\n",
    "\n",
    "The `@repeat(3)` syntax is a shorthand way of applying the `repeat decorator` to the `say_hello` function with an argument of `3`. It's equivalent to calling `say_hello` = `repeat(3)(say_hello)`.\n",
    "\n",
    "Notice that the `wrapper` function called `say_hello` three times."
   ]
  },
  {
   "cell_type": "markdown",
   "id": "154e2813-54b6-47d2-a0d9-8fc446b25e17",
   "metadata": {},
   "source": [
    "<br>"
   ]
  },
  {
   "cell_type": "markdown",
   "id": "ec413e29-a776-4f41-8ae9-a9a0c522704b",
   "metadata": {},
   "source": [
    "#### Ques: Create a decorator called `timer` that calculates and prints the time taken by a function to execute. Use the `time` module to measure the execution time. Apply this decorator to a function `my_function` that simply prints \"Hello, world!\" and sleeps for 2 seconds using `time.sleep(2)`. Your task is to define the `timer` decorator and apply it to `my_function`, then call `my_function` to verify that the timer is working correctly."
   ]
  },
  {
   "cell_type": "code",
   "execution_count": 2,
   "id": "58e80755-3e89-440e-b060-737b4f98a901",
   "metadata": {},
   "outputs": [
    {
     "name": "stdout",
     "output_type": "stream",
     "text": [
      "Time taken: 2.01 seconds.\n"
     ]
    }
   ],
   "source": [
    "import time\n",
    "def timer(func):\n",
    "    def wrapper():\n",
    "        start = time.time()\n",
    "        time.sleep(2)\n",
    "        end = time.time()\n",
    "        result = end - start\n",
    "        print(f\"Time taken: {result:.2f} seconds.\")\n",
    "    return wrapper\n",
    "\n",
    "@timer\n",
    "def my_function():\n",
    "    print(\"Hello, world!\")\n",
    "\n",
    "my_function()"
   ]
  },
  {
   "cell_type": "markdown",
   "id": "33a1fe0e-c9d2-4f1a-924e-1cccfef89c23",
   "metadata": {},
   "source": [
    "#### Quest :Class Discussion : Check email using decorator ."
   ]
  },
  {
   "cell_type": "code",
   "execution_count": 3,
   "id": "5ba7b039-bf2b-431a-a4ec-0a63f19ed9ad",
   "metadata": {},
   "outputs": [
    {
     "name": "stdin",
     "output_type": "stream",
     "text": [
      "Enter an email address:  prabinthapa982411@gmail.com\n"
     ]
    },
    {
     "name": "stdout",
     "output_type": "stream",
     "text": [
      "prabinthapa982411@gmail.com is a valid email address\n"
     ]
    }
   ],
   "source": [
    "def validation(func):\n",
    "    def wrapper(email):\n",
    "        is_valid = is_valid_email(email)\n",
    "        if is_valid:\n",
    "            print(f\"{email} is a valid email address\")\n",
    "        else:\n",
    "            print(f\"{email} is not a valid email address\")\n",
    "    return wrapper\n",
    "\n",
    "def is_valid_email(email):\n",
    "    parts = email.split('@')\n",
    "    if len(parts) != 2:\n",
    "        return False\n",
    "    username, domain = parts\n",
    "    if not username or not domain:\n",
    "        return False\n",
    "    if '.' not in domain:\n",
    "        return False\n",
    "    return True\n",
    "    \n",
    "\n",
    "@validation\n",
    "def valid_email(email):\n",
    "    pass\n",
    "email = input(\"Enter an email address: \")\n",
    "valid_email(email)\n",
    "    "
   ]
  },
  {
   "cell_type": "code",
   "execution_count": 23,
   "id": "1caff9f4-11de-46e1-adee-3e7a4850e2f4",
   "metadata": {},
   "outputs": [
    {
     "name": "stdin",
     "output_type": "stream",
     "text": [
      "Enter your email address:  sushmawaiba49@gmail.com\n"
     ]
    },
    {
     "name": "stdout",
     "output_type": "stream",
     "text": [
      "Accessing DB..\n",
      "Logged in successfully.\n"
     ]
    }
   ],
   "source": [
    "def validation(func):\n",
    "    def check_email(email):\n",
    "        if email.endswith('@gmail.com'):\n",
    "            func(email)\n",
    "        else:\n",
    "            print(\"We only support email from google.\")\n",
    "    return check_email\n",
    "\n",
    "@validation\n",
    "def user_login(email):\n",
    "    print(\"Accessing DB..\")\n",
    "    print(\"Logged in successfully.\")\n",
    "\n",
    "user_login(input(\"Enter your email address: \"))"
   ]
  },
  {
   "cell_type": "markdown",
   "id": "65524c30-3631-4b81-9f03-b2f2ca9439fa",
   "metadata": {},
   "source": [
    "## Python Property Decorator:"
   ]
  },
  {
   "cell_type": "markdown",
   "id": "eff61415-a31f-4056-8719-335fdfefe4e3",
   "metadata": {},
   "source": [
    "In Python, the `@property` decorator is used to define a getters, setters, and deleters method for a class attribute. They are used to ensure that the attributes of a class are accessed and modified in a controlled manner."
   ]
  },
  {
   "cell_type": "markdown",
   "id": "b400c30e-f484-4a7c-be98-ec443c76ca32",
   "metadata": {},
   "source": [
    "## Getter"
   ]
  },
  {
   "cell_type": "markdown",
   "id": "675ceae8-b067-4669-9a09-894dc4000197",
   "metadata": {},
   "source": [
    "A getter method is used to get the value of an attribute. It is called automatically when the attribute is accessed. In Python, we can define a getter method using the `@property` decorator."
   ]
  },
  {
   "cell_type": "code",
   "execution_count": 5,
   "id": "af13166e-61f0-41f0-8cf1-0ee2104d79a6",
   "metadata": {},
   "outputs": [],
   "source": [
    "class Person:\n",
    "    def __init__(self, name):\n",
    "        self.name = name\n",
    "\n",
    "    @property\n",
    "    def get_name(self):\n",
    "        print(\"Getting name... \")\n",
    "        return self.name"
   ]
  },
  {
   "cell_type": "code",
   "execution_count": 6,
   "id": "3b81560e-3dc1-4884-9426-c7c16ede28f7",
   "metadata": {},
   "outputs": [
    {
     "name": "stdout",
     "output_type": "stream",
     "text": [
      "Getting name... \n"
     ]
    },
    {
     "data": {
      "text/plain": [
       "'Alice'"
      ]
     },
     "execution_count": 6,
     "metadata": {},
     "output_type": "execute_result"
    }
   ],
   "source": [
    "person = Person(\"Alice\")\n",
    "person.get_name"
   ]
  },
  {
   "cell_type": "markdown",
   "id": "56f2e290-1f6d-42ac-ad74-c99961f080e6",
   "metadata": {},
   "source": [
    "In this example, `Person` is a class that has an attribute `name` and a method `name` decorated with `@property`. The `name` method simply returns the value of the `name` attribute. When we create an instance of `Person` and access the `name` attribute with `person.name`, the `@property` decorator automatically calls the `name` method and returns its result.\n",
    "\n",
    "Notice that the `name` method was called automatically when we accessed the `name` attribute"
   ]
  },
  {
   "cell_type": "markdown",
   "id": "b9400951-4646-41d3-9aae-1ddd570ff4ac",
   "metadata": {},
   "source": [
    "<br>"
   ]
  },
  {
   "cell_type": "markdown",
   "id": "d368a165-88e3-4f28-8d31-a9cb1ff9012d",
   "metadata": {},
   "source": [
    "## Setter"
   ]
  },
  {
   "cell_type": "markdown",
   "id": "f09f0655-61a6-4909-8a8f-0dd1a793fe4f",
   "metadata": {},
   "source": [
    "A setter method is used to set the value of an attribute. It is called automatically when the attribute is assigned a new value. In Python, we can define a setter method using the `@property` decorator with the `@setter` decorator."
   ]
  },
  {
   "cell_type": "code",
   "execution_count": 10,
   "id": "325474c2-cb31-471b-a407-a08a0cbb9093",
   "metadata": {},
   "outputs": [
    {
     "name": "stdout",
     "output_type": "stream",
     "text": [
      "Getting name...\n",
      "Alice\n"
     ]
    }
   ],
   "source": [
    "class Person:\n",
    "    def __init__(self, name):\n",
    "        self._name = name\n",
    "\n",
    "    @property\n",
    "    def name(self):\n",
    "        print(\"Getting name...\")\n",
    "        return self._name\n",
    "\n",
    "    @name.setter\n",
    "    def name(self, value):\n",
    "        print(\"Setting name...\")\n",
    "        self._name = value\n",
    "\n",
    "person = Person(\"Alice\")\n",
    "print(person.name)\n",
    "        "
   ]
  },
  {
   "cell_type": "code",
   "execution_count": 11,
   "id": "cd8726a2-ff8c-4d18-b1bc-5cccbc088489",
   "metadata": {},
   "outputs": [
    {
     "name": "stdout",
     "output_type": "stream",
     "text": [
      "Setting name...\n",
      "Getting name...\n",
      "Bob\n"
     ]
    }
   ],
   "source": [
    "person.name = \"Bob\"\n",
    "print(person.name)"
   ]
  },
  {
   "cell_type": "markdown",
   "id": "6ed1dafe-eb40-4189-bc8f-b65c4e139cc3",
   "metadata": {},
   "source": [
    "In this example, `Person` is a class that has an attribute `_name`, a method `name` decorated with `@property`, and a method `name` decorated with `@name.setter`. The `name` method gets and sets the `_name` attribute. When we create an instance of `Person` and access the `name` attribute with `person.name`, the `@property` decorator automatically calls the `name` method and returns its result. When we set the `name` attribute with `person.name` = `\"Bob\"`, the `@name.setter` decorator automatically calls the `name` method with the value of `\"Bob\"`.\n",
    "\n",
    "Notice that the `name` method was called automatically when we accessed or set the `name` attribute."
   ]
  },
  {
   "cell_type": "markdown",
   "id": "9836c23f-f6be-49b2-ab41-54ec9ce793a5",
   "metadata": {},
   "source": [
    "<br>"
   ]
  },
  {
   "cell_type": "markdown",
   "id": "0c71d9b7-ba83-444c-96ea-f32a8210a628",
   "metadata": {},
   "source": [
    "## Deleter"
   ]
  },
  {
   "cell_type": "markdown",
   "id": "a84ca7cb-d026-4f08-b299-7e9f38d80ed9",
   "metadata": {},
   "source": [
    "A deleter method is used to delete an attribute. It is called automatically when the `del` statement is used to delete the attribute. In Python, we can define a `deleter` method using the `@property` decorator with the `@deleter` decorator."
   ]
  },
  {
   "cell_type": "code",
   "execution_count": 13,
   "id": "5dd45d6e-8465-40fd-aa2b-0c2d568909ac",
   "metadata": {},
   "outputs": [
    {
     "name": "stdout",
     "output_type": "stream",
     "text": [
      "Getting name.....\n",
      "Alice\n"
     ]
    }
   ],
   "source": [
    "class Person:\n",
    "    def __init__(self, name):\n",
    "        self._name = name\n",
    "\n",
    "    @property\n",
    "    def name(self):\n",
    "        print(\"Getting name.....\")\n",
    "        return self._name\n",
    "\n",
    "    @name.setter\n",
    "    def name(self, value):\n",
    "        print(\"Setting name\")\n",
    "        self._name = value\n",
    "\n",
    "    @name.deleter\n",
    "    def name(self):\n",
    "        print(\"Deleting name....\")\n",
    "        del self._name\n",
    "\n",
    "person = Person(\"Alice\")\n",
    "print(person.name)"
   ]
  },
  {
   "cell_type": "code",
   "execution_count": 14,
   "id": "0d92a47c-e92b-42e2-8d2d-bd44051e0a3d",
   "metadata": {},
   "outputs": [
    {
     "name": "stdout",
     "output_type": "stream",
     "text": [
      "Deleting name....\n"
     ]
    }
   ],
   "source": [
    "del person.name"
   ]
  },
  {
   "cell_type": "code",
   "execution_count": 15,
   "id": "0e47a25f-2d08-41e5-a56e-f54a03c6baf2",
   "metadata": {},
   "outputs": [
    {
     "name": "stdout",
     "output_type": "stream",
     "text": [
      "Getting name.....\n"
     ]
    },
    {
     "ename": "AttributeError",
     "evalue": "'Person' object has no attribute '_name'",
     "output_type": "error",
     "traceback": [
      "\u001b[1;31m------------------------------------------------------------------------\u001b[0m",
      "\u001b[1;31mAttributeError\u001b[0m                         Traceback (most recent call last)",
      "Cell \u001b[1;32mIn[15], line 1\u001b[0m\n\u001b[1;32m----> 1\u001b[0m \u001b[38;5;28mprint\u001b[39m(\u001b[43mperson\u001b[49m\u001b[38;5;241;43m.\u001b[39;49m\u001b[43mname\u001b[49m)\n",
      "Cell \u001b[1;32mIn[13], line 8\u001b[0m, in \u001b[0;36mPerson.name\u001b[1;34m(self)\u001b[0m\n\u001b[0;32m      5\u001b[0m \u001b[38;5;129m@property\u001b[39m\n\u001b[0;32m      6\u001b[0m \u001b[38;5;28;01mdef\u001b[39;00m \u001b[38;5;21mname\u001b[39m(\u001b[38;5;28mself\u001b[39m):\n\u001b[0;32m      7\u001b[0m     \u001b[38;5;28mprint\u001b[39m(\u001b[38;5;124m\"\u001b[39m\u001b[38;5;124mGetting name.....\u001b[39m\u001b[38;5;124m\"\u001b[39m)\n\u001b[1;32m----> 8\u001b[0m     \u001b[38;5;28;01mreturn\u001b[39;00m \u001b[38;5;28;43mself\u001b[39;49m\u001b[38;5;241;43m.\u001b[39;49m\u001b[43m_name\u001b[49m\n",
      "\u001b[1;31mAttributeError\u001b[0m: 'Person' object has no attribute '_name'"
     ]
    }
   ],
   "source": [
    "print(person.name)"
   ]
  },
  {
   "cell_type": "markdown",
   "id": "51d4a454-9192-4c25-a17f-ccf0ded4eeb3",
   "metadata": {},
   "source": [
    "In this example, `Person` is a class that has an attribute `_name`, a method `name` decorated with `@property`, a method `name` decorated with `@name.setter`, and a method `name` decorated with `@name.deleter`. The `name` method gets, sets, and deletes the `_name attribute`. When we create an instance of `Person` and access the `name` attribute with `person.name`, the `@property` decorator automatically calls the `name` method and returns its results. When we set the `name` attribute with `person.name` = \"Alice\", the `@name.setter` decorator automatically calls the `name` method with the value of `\"Alice\"`. When we `delete` the `name` attribute with `del person.name`, the `@name.deleter` decorator automatically calls the `name` method and `deletes` the value assigned to `name` attribute. Now, when we try to access the `name` attribute with `person.name`, an `AttributeError` is raised because the attribute no longer exists.\n",
    "\n",
    "Notice that the name method was called automatically when we accessed or set or deleted the name attribute."
   ]
  },
  {
   "cell_type": "markdown",
   "id": "995c2054-19e4-4029-8fb4-4360cc0fc00d",
   "metadata": {},
   "source": [
    "<br><br><br>"
   ]
  },
  {
   "cell_type": "markdown",
   "id": "025e3dcd-168d-41ce-8f79-f7bdf8cab179",
   "metadata": {},
   "source": [
    "# Python Iterators"
   ]
  },
  {
   "cell_type": "markdown",
   "id": "c7740551-42d0-4c7e-9cc7-2d430cb13313",
   "metadata": {},
   "source": [
    "An iterator is an object that can be iterated (looped) upon, meaning we can traverse through all the values in the iterator one by one. An iterator is an object that implements the `__iter__()` and `__next__()` methods.\n",
    "\n",
    "The `__iter__()` method returns the iterator object itself. It is used to initialize the iteration, and it is called when the `iter()` function is called on an iterator object.\n",
    "\n",
    "The `__next__()` method returns the next value in the iteration. It is called when the `next()` function is called on an iterator object.\n",
    "\n",
    "Here is an example of an iterator that generates the Fibonacci sequence:"
   ]
  },
  {
   "cell_type": "code",
   "execution_count": 16,
   "id": "c8862f1a-fb94-4a49-9d0c-ff90f12d4896",
   "metadata": {},
   "outputs": [
    {
     "name": "stdout",
     "output_type": "stream",
     "text": [
      "0\n",
      "1\n",
      "1\n",
      "2\n",
      "3\n",
      "5\n",
      "8\n"
     ]
    }
   ],
   "source": [
    "class Fibonacci:\n",
    "    def __init__(self, limit):\n",
    "        self.limit = limit\n",
    "        self.current = 0\n",
    "        self.next = 1\n",
    "\n",
    "    def __iter__(self):\n",
    "        return self\n",
    "\n",
    "    def __next__(self):\n",
    "        if self.current >= self.limit:\n",
    "            raise StopIteration\n",
    "        result = self.current\n",
    "        self.current, self.next = self.next, self.current + self.next\n",
    "        return result\n",
    "\n",
    "fib = Fibonacci(10)\n",
    "for num in fib:\n",
    "    print(num)"
   ]
  },
  {
   "cell_type": "markdown",
   "id": "9ca18868-4de5-4e07-993f-8a98164b198b",
   "metadata": {},
   "source": [
    "In this example, we define an iterator called `Fibonacci` that generates the Fibonacci sequence up to a given limit. The `__init__()` method initializes the iterator with the limit, the current value, and the next value. The `__iter__()` method returns the iterator object itself, and the `__next__()` method returns the next value in the sequence. The `StopIteration` exception is raised when the iteration is complete.\n",
    "\n",
    "We create an instance of the `Fibonacci` iterator with a limit of `10`, and then loop over it using a `for` loop. The `for` loop automatically calls the `iter()` function to get the iterator object and the `next()` function to get the next value in the iteration.\n",
    "\n",
    "Python also provides built-in iterators, such as the `range()` function, that can be used to generate a sequence of numbers. The `range()` function returns an iterator that generates a sequence of numbers from a starting value to an ending value."
   ]
  },
  {
   "cell_type": "markdown",
   "id": "53ea0c9f-093e-43c7-9256-beb18f340fef",
   "metadata": {},
   "source": [
    "### Differnece between Iterator and Generator?"
   ]
  },
  {
   "cell_type": "markdown",
   "id": "8d87c443-52ab-4209-905c-3106f652f35d",
   "metadata": {},
   "source": [
    "Iterator:\n",
    "\n",
    "- An iterator is an object that implements the iterator protocol, which consists of the methods `__iter__()` and `__next__()`.\n",
    "- It allows you to manually iterate over elements using the next() function or by using a for loop.\n",
    "- Iterators maintain internal state to keep track of the current element.\n",
    "- Once all the elements have been iterated over, it raises a StopIteration exception to signal the end of the sequence.\n",
    "\n",
    "\n",
    "Generator:\n",
    "\n",
    "- A generator is a special type of iterator that is defined using a function with one or more yield statements.\n",
    "- It generates values lazily, i.e., it produces a value only when requested.\n",
    "- Generators automatically implement the iterator protocol, so you can iterate over them using a for loop or by using the next() function.\n",
    "- Unlike iterators, generators automatically manage their internal state, so you don't need to implement `__iter__()` and `__next__()` methods."
   ]
  },
  {
   "cell_type": "markdown",
   "id": "b011d72c-1b1f-431d-aec2-e2eda9cfdcf7",
   "metadata": {},
   "source": [
    "<br><br><br>"
   ]
  },
  {
   "cell_type": "markdown",
   "id": "89fc390a-8d95-46f0-aa72-7cb7d99ac0af",
   "metadata": {},
   "source": [
    "# Python Generators"
   ]
  },
  {
   "cell_type": "markdown",
   "id": "dcd46b91-f84e-4f6e-96f4-128144c6fa82",
   "metadata": {},
   "source": [
    "A generator in Python is a type of iterator that generates values on-the-fly as they are requested. This means that generators are a more memory-efficient way of generating large sequences of values, as they only generate the values as they are needed, rather than generating them all at once and storing them in memory.\n",
    "\n",
    "Here's a step-by-step tutorial on how to create and use generators in Python:"
   ]
  },
  {
   "cell_type": "markdown",
   "id": "f4deccc7-d06b-478f-b249-246d6e8aa82a",
   "metadata": {},
   "source": [
    "### Step 1: Define a generator function using the yield Keyword"
   ]
  },
  {
   "cell_type": "markdown",
   "id": "ce2c364f-eec5-4b46-8762-24dbccf10483",
   "metadata": {},
   "source": [
    "A generator function is a special type of function that uses the `yield` keyword to generate values. The `yield` keyword suspends the function's execution and return value to the caller, but it also remembers the function's state so that it can resume execution where it left off the next time it is called.\n",
    "\n",
    "For example, here's a simple generator function that generates a sequence of numbers:\n"
   ]
  },
  {
   "cell_type": "code",
   "execution_count": 18,
   "id": "bd076eb6-c5c5-43cc-becc-4ddd24977589",
   "metadata": {},
   "outputs": [],
   "source": [
    "def number_generator(start, end):\n",
    "    for num in range(start, end +1):\n",
    "        yield num"
   ]
  },
  {
   "cell_type": "markdown",
   "id": "8a19b533-d224-488b-96cb-8a16dd7584c3",
   "metadata": {},
   "source": [
    "In this example, the `number_generator()` function takes two arguments, `start` and `end`, and generates a sequence of numbers from start to end. The `yield` keyword is used to return each number in the sequence, and to remember the function's state so that it can resume execution where it left off the next time it is called."
   ]
  },
  {
   "cell_type": "markdown",
   "id": "50572295-20af-4c51-8c6b-d2551bf072f3",
   "metadata": {},
   "source": [
    "### Step 2: Create a generator object using the generator function\n",
    "\n",
    "To create a generator object, we simply call the generator function. This returns a generator object, which we can use to generate the values on-the-fly."
   ]
  },
  {
   "cell_type": "code",
   "execution_count": 20,
   "id": "07b9a189-a7f0-4e88-9cc9-4591dd435218",
   "metadata": {},
   "outputs": [
    {
     "data": {
      "text/plain": [
       "<generator object number_generator at 0x000002A4FF8274C0>"
      ]
     },
     "execution_count": 20,
     "metadata": {},
     "output_type": "execute_result"
    }
   ],
   "source": [
    "my_generator = number_generator(1, 5)\n",
    "my_generator"
   ]
  },
  {
   "cell_type": "markdown",
   "id": "a8493fac-06ac-4bbd-925e-6ca23f1062cf",
   "metadata": {},
   "source": [
    "In this example, we create a generator object called `my_generator` by calling the `number_generator()` function with `start=1` and `end=5`."
   ]
  },
  {
   "cell_type": "markdown",
   "id": "f9a71978-d93b-4f5a-9a64-5b213d4736d6",
   "metadata": {},
   "source": [
    "### Step 3: Use the generator object to generate the values on-the-fly"
   ]
  },
  {
   "cell_type": "markdown",
   "id": "a588212d-08ea-4727-8cfd-6f7f06865ca7",
   "metadata": {},
   "source": [
    "We can use the `next()` function to generate the next value in the sequence on-the-fly. Each time we call `next()` on the generator object, the generator function resumes execution where it left off and generates the next value in the sequence."
   ]
  },
  {
   "cell_type": "code",
   "execution_count": 26,
   "id": "f83d1d58-e1f3-41c1-93c0-923fa38f9f61",
   "metadata": {},
   "outputs": [
    {
     "ename": "StopIteration",
     "evalue": "",
     "output_type": "error",
     "traceback": [
      "\u001b[1;31m------------------------------------------------------------------------\u001b[0m",
      "\u001b[1;31mStopIteration\u001b[0m                          Traceback (most recent call last)",
      "Cell \u001b[1;32mIn[26], line 1\u001b[0m\n\u001b[1;32m----> 1\u001b[0m \u001b[38;5;28mprint\u001b[39m(\u001b[38;5;28;43mnext\u001b[39;49m\u001b[43m(\u001b[49m\u001b[43mmy_generator\u001b[49m\u001b[43m)\u001b[49m)\n",
      "\u001b[1;31mStopIteration\u001b[0m: "
     ]
    }
   ],
   "source": [
    "print(next(my_generator))"
   ]
  },
  {
   "cell_type": "markdown",
   "id": "40feaa38-aba7-4a7c-aeee-e4f33e7849d2",
   "metadata": {},
   "source": [
    "In this example, we use the `next()` function to generate each value in the sequence on-the-fly, and print it to the console."
   ]
  },
  {
   "cell_type": "markdown",
   "id": "d26b5997-3c4c-4ae7-849a-655f4788f837",
   "metadata": {},
   "source": [
    "### Step 4: Use a for loop to generate all the values in the sequence"
   ]
  },
  {
   "cell_type": "markdown",
   "id": "91bf083c-5b43-40f0-a73e-22d66d52471f",
   "metadata": {},
   "source": [
    "We can use a `for` loop to generate all the values in the sequences without having to use the `next()` function explicitly."
   ]
  },
  {
   "cell_type": "code",
   "execution_count": 27,
   "id": "daa7ba87-dfa7-4e99-a0f6-864c8253236f",
   "metadata": {},
   "outputs": [
    {
     "name": "stdout",
     "output_type": "stream",
     "text": [
      "1\n",
      "2\n",
      "3\n",
      "4\n",
      "5\n"
     ]
    }
   ],
   "source": [
    "my_generator = number_generator(1, 5)\n",
    "for num in my_generator:\n",
    "    print(num)"
   ]
  },
  {
   "cell_type": "markdown",
   "id": "f78078a7-d3ec-489b-bc7a-0000d24cfd2e",
   "metadata": {},
   "source": [
    "In this example, we use a `for` loop to generate each value in the sequence on-the-fly, and print it to the console."
   ]
  },
  {
   "cell_type": "markdown",
   "id": "449bbbff-1b9d-4cf0-b2f0-2bb69784e2be",
   "metadata": {},
   "source": [
    "### Step 5: Handle the `StopIteration` exception\n",
    "\n",
    "The `StopIteration` exception is raised when the generator has no more values to generate. We can handle this exception to stop the generation gracefully."
   ]
  },
  {
   "cell_type": "code",
   "execution_count": 28,
   "id": "ac021bce-eed4-47dd-b55c-de1630531730",
   "metadata": {},
   "outputs": [
    {
     "name": "stdout",
     "output_type": "stream",
     "text": [
      "1\n",
      "2\n",
      "3\n",
      "4\n",
      "5\n"
     ]
    }
   ],
   "source": [
    "my_generator = number_generator(1, 5)\n",
    "while True:\n",
    "    try:\n",
    "        num = next(my_generator)\n",
    "        print(num)\n",
    "    except StopIteration:\n",
    "        break"
   ]
  },
  {
   "cell_type": "markdown",
   "id": "bea67ef1-328b-49c4-84ba-b8a531e0f382",
   "metadata": {},
   "source": [
    "In this example, we use a `while` loop and the `next()` function to generate each value in the sequence on-the-fly, and print it to the console.\n",
    "\n",
    "The `try` block calls the `next()` function to get the next value in the sequence. If there are no more values, a `StopIteration` exception is raised which is handled in the `except` block by breaking the loop whenever `StopIteration` exception is encountered."
   ]
  },
  {
   "cell_type": "markdown",
   "id": "04af5608-4e41-466a-ab9a-c36eed5b6a8f",
   "metadata": {},
   "source": [
    "<br><br><br>"
   ]
  },
  {
   "cell_type": "markdown",
   "id": "3f5a7a2f-de65-43ae-a81f-f36cb1e71bbc",
   "metadata": {},
   "source": [
    "# Recursive Function:"
   ]
  },
  {
   "cell_type": "markdown",
   "id": "fbf02899-376e-4fcd-a56b-9e2ca638dd35",
   "metadata": {},
   "source": [
    "Recursive functions are functions that call themselves during their execution. They are useful for solving problems that can be broken down into smaller, similar subproblems. Here's a step-by-step explanation of how recursive functions work in Python.\n",
    "\n",
    "- **Base Case**: Every recursive function needs a base case, which is the simplest possible case where the function does not call itself. It acts as the termination condition for the recursion. Without a base case, the recursive function would continue calling itself indefinitely, resulting in an infinite loop.\n",
    "\n",
    "- **Recursive Case**: In addition to the base case, recursive functions also have a recursive case where the function calls itself with a modified version of the problem. This recursive call allows the function to break down a larger problem into smaller subproblems until it reaches the base case.\n",
    "\n",
    "Now, let's look at an example to illustrate the concept of recursive functions in Python. We'll implement a factorial function using recursion."
   ]
  },
  {
   "cell_type": "code",
   "execution_count": 29,
   "id": "de8c0468-ff01-4265-acd0-5379597fe60c",
   "metadata": {},
   "outputs": [
    {
     "name": "stdout",
     "output_type": "stream",
     "text": [
      "120\n"
     ]
    }
   ],
   "source": [
    "def factorial(n):\n",
    "    if n == 0: #Base case: factorial of 0 is 1\n",
    "        return 1\n",
    "    else:\n",
    "        return n* factorial(n -1) # Recursuve case: n! = n * (n-1)!\n",
    "\n",
    "print(factorial(5))"
   ]
  },
  {
   "cell_type": "markdown",
   "id": "e9fafe7b-a045-4745-b38d-8d972663a979",
   "metadata": {},
   "source": [
    "In this example, the `factorial` function calculates the factorial of a given number `n`. If `n` is equal to `0`, it returns `1`, which is the `base case`. Otherwise, it calls itself with `n-1` and multiplies the result by `n`, which is the `recursive case`.\n",
    "\n",
    "The function starts with `factorial(5)`. Since `5` is not `0`, it goes to the recursive case and calls `factorial(4)`. Again, `4` is not `0`, so it calls `factorial(3)`. This process continues until `factorial(0)` is reached, which returns 1. The intermediate results are then multiplied together, resulting in `factorial(5) = 5 * 4 * 3 * 2 * 1 = 120`.\n",
    "\n",
    "Recursive functions can be powerful, but it's important to ensure they have a base case and that the recursive calls converge towards the base case. Otherwise, the function may run indefinitely and cause a stack overflow error."
   ]
  },
  {
   "cell_type": "markdown",
   "id": "16b0cc91-65fb-486d-b8b3-7d0486c727f5",
   "metadata": {},
   "source": [
    "<br><br><br>"
   ]
  },
  {
   "cell_type": "code",
   "execution_count": null,
   "id": "a6132222-ccaa-4548-bafa-62a50c4ec976",
   "metadata": {},
   "outputs": [],
   "source": []
  },
  {
   "cell_type": "code",
   "execution_count": null,
   "id": "1ce6588e-b7ef-42e1-b379-49d0b6aaa7c7",
   "metadata": {},
   "outputs": [],
   "source": []
  },
  {
   "cell_type": "code",
   "execution_count": null,
   "id": "87b42952-f73e-4c9f-a0e2-b91b6587ed03",
   "metadata": {},
   "outputs": [],
   "source": []
  },
  {
   "cell_type": "code",
   "execution_count": null,
   "id": "b6773ad9-75e7-470b-a780-698b09b14cec",
   "metadata": {},
   "outputs": [],
   "source": [
    "\n"
   ]
  }
 ],
 "metadata": {
  "kernelspec": {
   "display_name": "Python 3 (ipykernel)",
   "language": "python",
   "name": "python3"
  },
  "language_info": {
   "codemirror_mode": {
    "name": "ipython",
    "version": 3
   },
   "file_extension": ".py",
   "mimetype": "text/x-python",
   "name": "python",
   "nbconvert_exporter": "python",
   "pygments_lexer": "ipython3",
   "version": "3.12.2"
  }
 },
 "nbformat": 4,
 "nbformat_minor": 5
}
